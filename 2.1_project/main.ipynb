{
 "cells": [
  {
   "cell_type": "code",
   "execution_count": 9,
   "metadata": {},
   "outputs": [],
   "source": [
    "import numpy as np\n",
    "from turing_21_matrix_operations.main import convolution2d, window1d, transpose2d, create_random_matrix"
   ]
  },
  {
   "cell_type": "code",
   "execution_count": 12,
   "metadata": {},
   "outputs": [
    {
     "name": "stdout",
     "output_type": "stream",
     "text": [
      "[[8, 5, 8], [8, 2, 9], [5, 0, 6]]\n",
      "[[8, 8, 5], [5, 2, 0], [8, 9, 6]]\n",
      "[[1, 4, 2], [2, 5, 15]]\n"
     ]
    }
   ],
   "source": [
    "# Transposition\n",
    "random_matrix = create_random_matrix(3, 3)\n",
    "\n",
    "print(random_matrix)\n",
    "\n",
    "input_matrix = [\n",
    "    [1, 2],\n",
    "    [4, 5],\n",
    "    [2, 15]\n",
    "  ]\n",
    "\n",
    "print(transpose2d(input_matrix=random_matrix))\n",
    "print(transpose2d(input_matrix=input_matrix))"
   ]
  },
  {
   "cell_type": "code",
   "execution_count": 13,
   "metadata": {},
   "outputs": [
    {
     "data": {
      "text/plain": [
       "[[0, 2], [2, 4], [4, 6], [6, 8]]"
      ]
     },
     "execution_count": 13,
     "metadata": {},
     "output_type": "execute_result"
    }
   ],
   "source": [
    "# Windowing\n",
    "windowed = window1d(list(range(10)), size=2, shift=2, stride=2)\n",
    "windowed"
   ]
  },
  {
   "cell_type": "code",
   "execution_count": 16,
   "metadata": {},
   "outputs": [
    {
     "data": {
      "text/plain": [
       "[array([1, 3]), array([4, 6]), array([7, 9])]"
      ]
     },
     "execution_count": 16,
     "metadata": {},
     "output_type": "execute_result"
    }
   ],
   "source": [
    "# input_array = [1, 2, 3, 4, 5, 6, 7, 8, 9, 10]\n",
    "input_array = np.array([1, 2, 3, 4, 5, 6, 7, 8, 9, 10])\n",
    "\n",
    "windowed = window1d(input_array=input_array, size=2, shift=3, stride=2)\n",
    "windowed"
   ]
  },
  {
   "cell_type": "code",
   "execution_count": 6,
   "metadata": {},
   "outputs": [
    {
     "data": {
      "text/plain": [
       "[array([ 8, 10]),\n",
       " array([10, 13]),\n",
       " array([13,  2]),\n",
       " array([2, 4]),\n",
       " array([ 4, 15]),\n",
       " array([15,  6]),\n",
       " array([6, 8]),\n",
       " array([8, 3]),\n",
       " array([3, 9])]"
      ]
     },
     "execution_count": 6,
     "metadata": {},
     "output_type": "execute_result"
    }
   ],
   "source": [
    "# new_array = np.array([1, 2, 3, 4, 5, 6, 7, 8, 9, 10])\n",
    "# new_array = [1, 2, 3, 4, 5, 6, 7, 8, 9, 10]\n",
    "new_array = np.random.randint(0, 20, 20)\n",
    "\n",
    "windowed = window1d(new_array, size=2, shift=2, stride=2)\n",
    "windowed"
   ]
  },
  {
   "cell_type": "code",
   "execution_count": 19,
   "metadata": {},
   "outputs": [
    {
     "data": {
      "text/plain": [
       "array([[ 9.4, 15.8],\n",
       "       [35. , 41.4]])"
      ]
     },
     "execution_count": 19,
     "metadata": {},
     "output_type": "execute_result"
    }
   ],
   "source": [
    "# Convolution\n",
    "input_matrix = np.array([\n",
    "    [1, 2, 3, 4],\n",
    "    [5, 6, 7, 8],\n",
    "    [9, 10, 11, 12],\n",
    "    [13, 14, 15, 16]\n",
    "])\n",
    "kernel = np.array([\n",
    "    [1, 1.2],\n",
    "    [0, 1]\n",
    "])\n",
    "convolved = convolution2d(input_matrix=input_matrix, kernel=kernel, stride=2)\n",
    "convolved"
   ]
  },
  {
   "cell_type": "code",
   "execution_count": null,
   "metadata": {},
   "outputs": [],
   "source": []
  },
  {
   "cell_type": "code",
   "execution_count": null,
   "metadata": {},
   "outputs": [],
   "source": []
  },
  {
   "cell_type": "code",
   "execution_count": null,
   "metadata": {},
   "outputs": [],
   "source": []
  },
  {
   "cell_type": "code",
   "execution_count": null,
   "metadata": {},
   "outputs": [],
   "source": []
  },
  {
   "cell_type": "code",
   "execution_count": null,
   "metadata": {},
   "outputs": [],
   "source": []
  },
  {
   "cell_type": "code",
   "execution_count": null,
   "metadata": {},
   "outputs": [],
   "source": []
  },
  {
   "cell_type": "code",
   "execution_count": null,
   "metadata": {},
   "outputs": [],
   "source": []
  },
  {
   "cell_type": "code",
   "execution_count": null,
   "metadata": {},
   "outputs": [],
   "source": []
  },
  {
   "cell_type": "code",
   "execution_count": null,
   "metadata": {},
   "outputs": [],
   "source": []
  },
  {
   "cell_type": "code",
   "execution_count": null,
   "metadata": {},
   "outputs": [],
   "source": []
  },
  {
   "cell_type": "code",
   "execution_count": null,
   "metadata": {},
   "outputs": [],
   "source": []
  },
  {
   "cell_type": "code",
   "execution_count": null,
   "metadata": {},
   "outputs": [],
   "source": []
  },
  {
   "cell_type": "code",
   "execution_count": null,
   "metadata": {},
   "outputs": [],
   "source": []
  },
  {
   "cell_type": "code",
   "execution_count": null,
   "metadata": {},
   "outputs": [],
   "source": []
  },
  {
   "cell_type": "code",
   "execution_count": null,
   "metadata": {},
   "outputs": [],
   "source": []
  },
  {
   "cell_type": "code",
   "execution_count": null,
   "metadata": {},
   "outputs": [],
   "source": []
  },
  {
   "cell_type": "code",
   "execution_count": null,
   "metadata": {},
   "outputs": [],
   "source": []
  },
  {
   "cell_type": "code",
   "execution_count": null,
   "metadata": {},
   "outputs": [],
   "source": []
  },
  {
   "cell_type": "code",
   "execution_count": null,
   "metadata": {},
   "outputs": [],
   "source": []
  },
  {
   "cell_type": "markdown",
   "metadata": {},
   "source": [
    "Given an array \"nums\" containing \"n\" distinct numbers in the range [0, n], return the only number in the range that is missing from the array.\n",
    "\n",
    "nums = [3,0,1] output = 2\n",
    "\n",
    "nums = [9,6,4,2,3,5,7,0,1] output = 8\n",
    "\n",
    "nums = [0,1] Output = 2"
   ]
  },
  {
   "cell_type": "code",
   "execution_count": 21,
   "metadata": {},
   "outputs": [
    {
     "data": {
      "text/plain": [
       "[2]"
      ]
     },
     "execution_count": 21,
     "metadata": {},
     "output_type": "execute_result"
    }
   ],
   "source": [
    "nums = [3, 0, 1]\n",
    "list_new = [num for num in range(len(nums)+1) if num not in set(nums)]\n",
    "list_new"
   ]
  },
  {
   "cell_type": "code",
   "execution_count": 34,
   "metadata": {},
   "outputs": [
    {
     "name": "stdout",
     "output_type": "stream",
     "text": [
      "[0, 1, 2, 3]\n",
      "[0, 1, 3]\n",
      "True\n",
      "Counter({2: 1})\n"
     ]
    },
    {
     "data": {
      "text/plain": [
       "2"
      ]
     },
     "execution_count": 34,
     "metadata": {},
     "output_type": "execute_result"
    }
   ],
   "source": [
    "from collections import Counter\n",
    "\n",
    "nums = [3, 0, 1]\n",
    "# output = 2\n",
    "# nums_sorted = nums.sort()\n",
    "nums_sorted = sorted(nums)\n",
    "listed = list(range(len(nums)+1))\n",
    "print(listed)\n",
    "print(nums_sorted)\n",
    "output = nums_sorted not in listed\n",
    "print(output)\n",
    "\n",
    "a = Counter(listed)\n",
    "b = Counter(nums_sorted)\n",
    "c = a-b\n",
    "print(c)\n",
    "# print(c.keys())\n",
    "output = list(c.keys())[0]\n",
    "output"
   ]
  },
  {
   "cell_type": "code",
   "execution_count": null,
   "metadata": {},
   "outputs": [],
   "source": [
    "nums = [9,6,4,2,3,5,7,0,1] \n",
    "\n",
    "nums_sorted = sorted(nums)\n",
    "listed = list(range(len(nums)+1))\n",
    "\n",
    "\n",
    "a = Counter(listed)\n",
    "b = Counter(nums_sorted)\n",
    "c = a-b\n",
    "print(c)\n",
    "output = list(c.keys())[0]\n",
    "output\n",
    "\n",
    "solutions:\n",
    "  * Math to sum input array and compare to sum or full list new_array\n",
    "  * Coutner both lists and find frequency of 1\n",
    "  * for loop looping through lists and finding mismatches between lists\n",
    "\n",
    "calculate average on list of numbers\n",
    "use function\n",
    "use class"
   ]
  },
  {
   "cell_type": "code",
   "execution_count": null,
   "metadata": {},
   "outputs": [],
   "source": []
  },
  {
   "cell_type": "code",
   "execution_count": 25,
   "metadata": {},
   "outputs": [
    {
     "name": "stdout",
     "output_type": "stream",
     "text": [
      "8\n"
     ]
    }
   ],
   "source": [
    "# Using Counter: Counter class from the collections module to count the occurrences of each number in both the nums array and the full array of numbers from 0 to n. \n",
    "# The missing number will have a frequency difference of 1.\n",
    "from collections import Counter\n",
    "\n",
    "def find_missing_number_counter(nums):\n",
    "    n = len(nums)\n",
    "    full_nums = list(range(n+1))\n",
    "    count_nums = Counter(nums)\n",
    "    count_full = Counter(full_nums)\n",
    "    \n",
    "    for number in count_full:\n",
    "        if count_full[number] - count_nums[number] == 1:\n",
    "            return number\n",
    "\n",
    "nums = [9,6,4,2,3,5,7,0,1]\n",
    "print(find_missing_number_counter(nums))  # 8\n"
   ]
  },
  {
   "cell_type": "code",
   "execution_count": 35,
   "metadata": {},
   "outputs": [
    {
     "name": "stdout",
     "output_type": "stream",
     "text": [
      "2\n"
     ]
    }
   ],
   "source": [
    "# Using a For Loop: In this approach, we loop through the list of numbers from 0 to n and the nums array to find mismatches.\n",
    "def find_missing_number_loop(nums):\n",
    "    n = len(nums)\n",
    "    full_nums = list(range(n+1))\n",
    "    \n",
    "    for i in full_nums:\n",
    "        if i not in nums:\n",
    "            return i\n",
    "\n",
    "print(find_missing_number_loop(nums))  # 2\n"
   ]
  },
  {
   "cell_type": "code",
   "execution_count": 27,
   "metadata": {},
   "outputs": [
    {
     "name": "stdout",
     "output_type": "stream",
     "text": [
      "8\n"
     ]
    }
   ],
   "source": [
    "# Using math: Missing number=Expected sum−Actual sum\n",
    "# Expected sum is derived from the sum of the first n natural numbers.\n",
    "def find_missing_number(nums):\n",
    "    n = len(nums)\n",
    "    expected_sum = n * (n + 1) // 2\n",
    "    actual_sum = sum(nums)\n",
    "    return expected_sum - actual_sum\n",
    "\n",
    "# nums = [3, 0, 1]\n",
    "nums = [9,6,4,2,3,5,7,0,1]\n",
    "print(find_missing_number(nums))  # 2"
   ]
  },
  {
   "cell_type": "code",
   "execution_count": 24,
   "metadata": {},
   "outputs": [
    {
     "name": "stdout",
     "output_type": "stream",
     "text": [
      "8\n"
     ]
    }
   ],
   "source": [
    "# Math Approach using Sum:\n",
    "def find_missing_number_sum(nums):\n",
    "    n = len(nums)\n",
    "    full_sum = sum(range(n+1))\n",
    "    return full_sum - sum(nums)\n",
    "\n",
    "# nums = [3, 0, 1]\n",
    "nums = [9,6,4,2,3,5,7,0,1]\n",
    "print(find_missing_number_sum(nums))  # 2"
   ]
  },
  {
   "cell_type": "code",
   "execution_count": 18,
   "metadata": {},
   "outputs": [
    {
     "name": "stdout",
     "output_type": "stream",
     "text": [
      "8\n"
     ]
    }
   ],
   "source": [
    "# XOR Approach: Utilize the property that x XOR x = 0. XOR all the numbers in the array and all numbers from 0 to n. The result will be the missing number.\n",
    "def find_missing_number_xor(nums):\n",
    "    xor_total = 0\n",
    "    for i in range(len(nums) + 1):\n",
    "        xor_total ^= i\n",
    "\n",
    "    # A⊕A=0 (Any number XOR'd with itself will result in 0.)\n",
    "    for num in nums:\n",
    "        xor_total ^= num\n",
    "\n",
    "    return xor_total\n",
    "\n",
    "# nums = [3, 0, 1]\n",
    "nums = [9,6,4,2,3,5,7,0,1]\n",
    "print(find_missing_number_xor(nums))  # 2\n",
    "\n"
   ]
  },
  {
   "cell_type": "code",
   "execution_count": 19,
   "metadata": {},
   "outputs": [
    {
     "name": "stdout",
     "output_type": "stream",
     "text": [
      "8\n"
     ]
    }
   ],
   "source": [
    "# Set Approach: Convert the list to a set and then check for the first missing integer from the set.\n",
    "def find_missing_number_set(nums):\n",
    "    num_set = set(nums)\n",
    "    n = len(nums) + 1\n",
    "    for number in range(n):\n",
    "        if number not in num_set:\n",
    "            return number\n",
    "\n",
    "# nums = [3, 0, 1]\n",
    "nums = [9,6,4,2,3,5,7,0,1]\n",
    "print(find_missing_number_set(nums))  # 2\n",
    "\n"
   ]
  },
  {
   "cell_type": "code",
   "execution_count": 22,
   "metadata": {},
   "outputs": [
    {
     "name": "stdout",
     "output_type": "stream",
     "text": [
      "8\n"
     ]
    },
    {
     "data": {
      "text/plain": [
       "[8]"
      ]
     },
     "execution_count": 22,
     "metadata": {},
     "output_type": "execute_result"
    }
   ],
   "source": [
    "nums = [9,6,4,2,3,5,7,0,1]\n",
    "\n",
    "for number in range(len(nums)+1):\n",
    "        if number not in set(nums):\n",
    "            print(number)\n",
    "            \n",
    "output = [number for number in range(len(nums)+1) if number not in set(nums)]\n",
    "output"
   ]
  },
  {
   "cell_type": "code",
   "execution_count": null,
   "metadata": {},
   "outputs": [],
   "source": []
  },
  {
   "cell_type": "code",
   "execution_count": 30,
   "metadata": {},
   "outputs": [
    {
     "data": {
      "text/plain": [
       "[[1, 2, 3], [4, 5, 6], [7, 8, 9]]"
      ]
     },
     "execution_count": 30,
     "metadata": {},
     "output_type": "execute_result"
    }
   ],
   "source": [
    "# Create a matrix from list:\n",
    "  \n",
    "listings = [1, 2, 3, 4, 5, 6, 7, 8, 9]\n",
    "matrix_size = 3  # Define the size of the matrix (3x3)\n",
    "\n",
    "matrix = [listings[i:i + matrix_size] for i in range(0, len(listings), matrix_size)]\n",
    "matrix\n",
    "  "
   ]
  },
  {
   "cell_type": "code",
   "execution_count": null,
   "metadata": {},
   "outputs": [],
   "source": []
  },
  {
   "cell_type": "code",
   "execution_count": null,
   "metadata": {},
   "outputs": [],
   "source": [
    "# Class exercise\n",
    "Create a class of books and a class of library catalog.\n",
    "Be able to add a Book to Library.\n",
    "And add an option/function to find a book in a library by author.\n"
   ]
  },
  {
   "cell_type": "code",
   "execution_count": 36,
   "metadata": {},
   "outputs": [
    {
     "name": "stdout",
     "output_type": "stream",
     "text": [
      "'The Great Gatsby' by F. Scott Fitzgerald\n",
      "'1984' by George Orwell\n",
      "'Brave New World' by Aldous Huxley\n",
      "'Homage to Catalonia' by George Orwell\n",
      "'The Great Gatsby' by F. Scott Fitzgerald \n",
      "\n",
      "'1984' by George Orwell\n",
      "'Homage to Catalonia' by George Orwell\n"
     ]
    }
   ],
   "source": [
    "class Book():\n",
    "  def __init__(self, title, author):\n",
    "    self.title = title\n",
    "    self.author = author\n",
    "  \n",
    "  # calls Print output\n",
    "  def __str__(self):\n",
    "    return f\"'{self.title}' by {self.author}\"\n",
    "\n",
    "    \n",
    "class Library:\n",
    "    def __init__(self):\n",
    "        self.books = []\n",
    "\n",
    "    def add_book(self, book):\n",
    "        if isinstance(book, Book):\n",
    "            self.books.append(book)\n",
    "        else:\n",
    "            print(\"Only a Book instance can be added to the library.\")\n",
    "\n",
    "    def find_books_by_author(self, author_name):\n",
    "        books_by_author = [book for book in self.books if book.author == author_name]\n",
    "        return books_by_author\n",
    "    \n",
    "    def __str__(self):\n",
    "        # Join the string representation of each book in the library\n",
    "        return \"\\n\".join(str(book) for book in self.books)\n",
    "\n",
    "\n",
    "book1 = Book(\"The Great Gatsby\", \"F. Scott Fitzgerald\")\n",
    "book2 = Book(\"1984\", \"George Orwell\")\n",
    "book3 = Book(\"Brave New World\", \"Aldous Huxley\")\n",
    "book4 = Book(\"Homage to Catalonia\", \"George Orwell\")\n",
    "\n",
    "library = Library()\n",
    "library.add_book(book1)\n",
    "library.add_book(book2)\n",
    "library.add_book(book3)\n",
    "library.add_book(book4)\n",
    "\n",
    "# library.books\n",
    "# print(library.books)\n",
    "print(library)\n",
    "print(book1, \"\\n\")\n",
    "\n",
    "# Find books by George Orwell\n",
    "orwell_books = library.find_books_by_author(\"George Orwell\")\n",
    "for book in orwell_books:\n",
    "    print(book)\n",
    "    # print(book.title)"
   ]
  },
  {
   "cell_type": "code",
   "execution_count": null,
   "metadata": {},
   "outputs": [],
   "source": []
  },
  {
   "cell_type": "code",
   "execution_count": 64,
   "metadata": {},
   "outputs": [
    {
     "name": "stdout",
     "output_type": "stream",
     "text": [
      "30.0\n"
     ]
    }
   ],
   "source": [
    "# calculate average on list of numbers\n",
    "numbers = [10, 20, 30, 40, 50]\n",
    "\n",
    "# Without using a function:\n",
    "average = sum(numbers) / len(numbers)\n",
    "print(average)  # Output: 30.0"
   ]
  },
  {
   "cell_type": "code",
   "execution_count": 65,
   "metadata": {},
   "outputs": [
    {
     "name": "stdout",
     "output_type": "stream",
     "text": [
      "30.0\n"
     ]
    }
   ],
   "source": [
    "# Using a function:\n",
    "def calculate_average(nums):\n",
    "    return sum(nums) / len(nums)\n",
    "\n",
    "print(calculate_average(numbers))  # Output: 30.0"
   ]
  },
  {
   "cell_type": "code",
   "execution_count": 66,
   "metadata": {},
   "outputs": [
    {
     "name": "stdout",
     "output_type": "stream",
     "text": [
      "30.0\n"
     ]
    }
   ],
   "source": [
    "# Using a class:\n",
    "class NumberList:\n",
    "    def __init__(self, numbers):\n",
    "        self.numbers = numbers\n",
    "    \n",
    "    def average(self):\n",
    "        return sum(self.numbers) / len(self.numbers)\n",
    "\n",
    "number_list = NumberList(numbers)\n",
    "print(number_list.average())  # Output: 30.0\n"
   ]
  },
  {
   "cell_type": "code",
   "execution_count": 67,
   "metadata": {},
   "outputs": [
    {
     "name": "stdout",
     "output_type": "stream",
     "text": [
      "10.0\n",
      "15.0\n",
      "20.0\n",
      "20.0\n",
      "25.0\n"
     ]
    }
   ],
   "source": [
    "class RunningAverage:\n",
    "    def __init__(self):\n",
    "        self.total = 0\n",
    "        self.count = 0\n",
    "\n",
    "    def add_number(self, num):\n",
    "        self.total += num\n",
    "        self.count += 1\n",
    "        return self.total / self.count\n",
    "\n",
    "    def get_average(self):\n",
    "        if self.count == 0:\n",
    "            return 0\n",
    "        return self.total / self.count\n",
    "\n",
    "# Usage\n",
    "avg_calculator = RunningAverage()\n",
    "print(avg_calculator.add_number(10))  # 10.0\n",
    "print(avg_calculator.add_number(20))  # 15.0\n",
    "print(avg_calculator.add_number(30))  # 20.0\n",
    "print(avg_calculator.get_average())   # 20.0\n",
    "print(avg_calculator.add_number(40))  # 25.0\n"
   ]
  },
  {
   "cell_type": "code",
   "execution_count": 68,
   "metadata": {},
   "outputs": [
    {
     "name": "stdout",
     "output_type": "stream",
     "text": [
      "30.0\n"
     ]
    }
   ],
   "source": [
    "def calculate_average(nums):\n",
    "    total = 0\n",
    "    count = 0\n",
    "    for num in nums:\n",
    "        total += num\n",
    "        count += 1\n",
    "    return total / count if count != 0 else 0  # Added a check to avoid division by zero\n",
    "\n",
    "numbers = [10, 20, 30, 40, 50]\n",
    "print(calculate_average(numbers))  # Output: 30.0\n"
   ]
  },
  {
   "cell_type": "code",
   "execution_count": null,
   "metadata": {},
   "outputs": [],
   "source": []
  },
  {
   "cell_type": "code",
   "execution_count": null,
   "metadata": {},
   "outputs": [],
   "source": [
    "You are to implement a function normalize_matrix in Python, using standart library, that takes a 2D list of real numbers (matrix) and normalizes the values in the matrix to the range [0, 1].\n",
    "matrix = [\n",
    "    [1, 2, 3],\n",
    "    [4, 5, 6],\n",
    "    [7, 8, 9]\n",
    "For normalization use:\n",
    "normalized_value = (value - min_value) / (max_value - min_value)\n",
    "\n"
   ]
  },
  {
   "cell_type": "code",
   "execution_count": 45,
   "metadata": {},
   "outputs": [
    {
     "name": "stdout",
     "output_type": "stream",
     "text": [
      "[1, 2, 3, 4, 5, 6, 7, 8, 9]\n",
      "[1, 2, 3, 4, 5, 6, 7, 8, 9]\n"
     ]
    }
   ],
   "source": [
    "matrix = [\n",
    "    [1, 2, 3],\n",
    "    [4, 5, 6],\n",
    "    [7, 8, 9]]\n",
    "\n",
    "flat_matrix = [value for row in matrix for value in row]\n",
    "print(flat_matrix)\n",
    "\n",
    "\n",
    "flat_matrix2 = list()\n",
    "for i in matrix:\n",
    "  flat_matrix2.extend(i)\n",
    "print(flat_matrix2)"
   ]
  },
  {
   "cell_type": "code",
   "execution_count": 51,
   "metadata": {},
   "outputs": [
    {
     "data": {
      "text/plain": [
       "[1, 2, 3, 4, 5, 6, 7, 8, 9]"
      ]
     },
     "execution_count": 51,
     "metadata": {},
     "output_type": "execute_result"
    }
   ],
   "source": [
    "flat_matrix = []\n",
    "for row in matrix:\n",
    "    for item in row:\n",
    "        flat_matrix.append(item)\n",
    "        \n",
    "flat_matrix"
   ]
  },
  {
   "cell_type": "code",
   "execution_count": 53,
   "metadata": {},
   "outputs": [
    {
     "data": {
      "text/plain": [
       "array([1, 2, 3, 4, 5, 6, 7, 8, 9])"
      ]
     },
     "execution_count": 53,
     "metadata": {},
     "output_type": "execute_result"
    }
   ],
   "source": [
    "flat_matrix = np.array(matrix).flatten()\n",
    "flat_matrix"
   ]
  },
  {
   "cell_type": "code",
   "execution_count": 37,
   "metadata": {},
   "outputs": [
    {
     "name": "stdout",
     "output_type": "stream",
     "text": [
      "[[0.0, 0.125, 0.25], [0.375, 0.5, 0.625], [0.75, 0.875, 1.0]]\n"
     ]
    }
   ],
   "source": [
    "def normalize_matrix(matrix):\n",
    "    # Flatten the matrix to find the global min and max\n",
    "    flat_matrix = [value for row in matrix for value in row]\n",
    "    min_value = min(flat_matrix)\n",
    "    max_value = max(flat_matrix)\n",
    "\n",
    "    # Normalize each element in the matrix\n",
    "    normalized_matrix = [[(value - min_value) / (max_value - min_value) for value in row] for row in matrix]\n",
    "    return normalized_matrix\n",
    "\n",
    "# Example matrix\n",
    "matrix = [\n",
    "    [1, 2, 3],\n",
    "    [4, 5, 6],\n",
    "    [7, 8, 9]\n",
    "]\n",
    "\n",
    "# Normalize the matrix\n",
    "normalized_matrix = normalize_matrix(matrix)\n",
    "print(normalized_matrix)\n"
   ]
  },
  {
   "cell_type": "code",
   "execution_count": 47,
   "metadata": {},
   "outputs": [
    {
     "data": {
      "text/plain": [
       "[[0.0, 0.125, 0.25], [0.375, 0.5, 0.625], [0.75, 0.875, 1.0]]"
      ]
     },
     "execution_count": 47,
     "metadata": {},
     "output_type": "execute_result"
    }
   ],
   "source": [
    "def normalize_matrix_beginner(matrix):\n",
    "    flat_matrix = []\n",
    "    for row in matrix:\n",
    "        for item in row:\n",
    "            flat_matrix.append(item)\n",
    "    min_value = min(flat_matrix)\n",
    "    max_value = max(flat_matrix)\n",
    "\n",
    "    normalized_matrix = []\n",
    "    for row in matrix:\n",
    "        normalized_row = []\n",
    "        for item in row:\n",
    "            normalized_item = (item - min_value) / (max_value - min_value)\n",
    "            normalized_row.append(normalized_item)\n",
    "        normalized_matrix.append(normalized_row)\n",
    "    return normalized_matrix\n",
    "\n",
    "normalized_matrix = normalize_matrix_beginner(matrix)\n",
    "normalized_matrix"
   ]
  },
  {
   "cell_type": "code",
   "execution_count": 49,
   "metadata": {},
   "outputs": [
    {
     "data": {
      "text/plain": [
       "[[0.0, 0.125, 0.25], [0.375, 0.5, 0.625], [0.75, 0.875, 1.0]]"
      ]
     },
     "execution_count": 49,
     "metadata": {},
     "output_type": "execute_result"
    }
   ],
   "source": [
    "def normalize_matrix_intermediate(matrix):\n",
    "    min_value = min(min(row) for row in matrix)\n",
    "    max_value = max(max(row) for row in matrix)\n",
    "\n",
    "    normalized_matrix = [[(item - min_value) / (max_value - min_value) for item in row] for row in matrix]\n",
    "    return normalized_matrix\n",
    "\n",
    "\n",
    "normalized_matrix = normalize_matrix_intermediate(matrix)\n",
    "normalized_matrix"
   ]
  },
  {
   "cell_type": "code",
   "execution_count": 50,
   "metadata": {},
   "outputs": [
    {
     "data": {
      "text/plain": [
       "[[0.0, 0.125, 0.25], [0.375, 0.5, 0.625], [0.75, 0.875, 1.0]]"
      ]
     },
     "execution_count": 50,
     "metadata": {},
     "output_type": "execute_result"
    }
   ],
   "source": [
    "import numpy as np\n",
    "\n",
    "def normalize_matrix_advanced(matrix):\n",
    "    flat_matrix = np.array(matrix).flatten()\n",
    "    min_value, max_value = np.min(flat_matrix), np.max(flat_matrix)\n",
    "    \n",
    "    normalize = lambda item: (item - min_value) / (max_value - min_value)\n",
    "    return np.vectorize(normalize)(matrix).tolist()\n",
    "\n",
    "normalized_matrix = normalize_matrix_intermediate(matrix)\n",
    "normalized_matrix"
   ]
  },
  {
   "cell_type": "code",
   "execution_count": null,
   "metadata": {},
   "outputs": [],
   "source": []
  },
  {
   "cell_type": "code",
   "execution_count": null,
   "metadata": {},
   "outputs": [],
   "source": []
  },
  {
   "cell_type": "code",
   "execution_count": null,
   "metadata": {},
   "outputs": [],
   "source": []
  },
  {
   "cell_type": "code",
   "execution_count": null,
   "metadata": {},
   "outputs": [],
   "source": []
  },
  {
   "cell_type": "code",
   "execution_count": null,
   "metadata": {},
   "outputs": [],
   "source": []
  },
  {
   "cell_type": "code",
   "execution_count": null,
   "metadata": {},
   "outputs": [],
   "source": []
  },
  {
   "cell_type": "markdown",
   "metadata": {},
   "source": [
    "# Matrix Transpose"
   ]
  },
  {
   "cell_type": "code",
   "execution_count": null,
   "metadata": {},
   "outputs": [],
   "source": [
    "input_matrix = np.array([\n",
    "    [1, 2, 3, 4],\n",
    "    [5, 6, 7, 8],\n",
    "    [9, 10, 11, 12],\n",
    "    [13, 14, 15, 16]\n",
    "])\n",
    "\n",
    "for row in input_matrix:\n",
    "  print(row)"
   ]
  },
  {
   "cell_type": "code",
   "execution_count": null,
   "metadata": {},
   "outputs": [],
   "source": [
    "for i in range(len(input_matrix[0])):\n",
    "  print([row[i] for row in input_matrix])"
   ]
  },
  {
   "cell_type": "code",
   "execution_count": null,
   "metadata": {},
   "outputs": [],
   "source": [
    "transposed = [[row[i] for row in input_matrix] for i in range(len(input_matrix[0]))]\n",
    "transposed"
   ]
  },
  {
   "cell_type": "code",
   "execution_count": null,
   "metadata": {},
   "outputs": [],
   "source": [
    "input_matrix = [\n",
    "    [1.0, 2.0, 3.0],\n",
    "    [4.0, 5.0, 6.0],\n",
    "    [7.0, 8.0, 9.0]\n",
    "]\n",
    "\n",
    "# ZIP creates tuples\n",
    "# transposed_matrix = list(zip(*input_matrix))\n",
    "transposed_matrix = [list(row) for row in zip(*input_matrix)]\n",
    "\n",
    "transposed_matrix\n"
   ]
  },
  {
   "cell_type": "markdown",
   "metadata": {},
   "source": [
    "# Windowing"
   ]
  },
  {
   "cell_type": "code",
   "execution_count": null,
   "metadata": {},
   "outputs": [],
   "source": [
    "# Trial\n",
    "def window1d(*, input_array: Union[List[float], np.ndarray], size: int, shift: int = 1, stride: int = 1) -> Union[List[List[float]], List[np.ndarray]]:\n",
    "    windows = []\n",
    "    i = 0\n",
    "    \n",
    "    # Continue until the end of the array is reached\n",
    "    while i + size * stride <= len(input_array):\n",
    "        window = []\n",
    "        j = 0\n",
    "        \n",
    "        while len(window) < size and (i + j) < len(input_array):\n",
    "            window.append(input_array[i + j])\n",
    "            j += stride\n",
    "        \n",
    "        # If the window size is as expected, append it to the windows list\n",
    "        if len(window) == size:\n",
    "            if isinstance(input_array, np.ndarray):\n",
    "                windows.append(np.array(window))\n",
    "            else:\n",
    "                windows.append(window)\n",
    "        \n",
    "        # Shift to the next window using the shift provided\n",
    "        i += shift\n",
    "        \n",
    "    return windows\n",
    "\n",
    "new_array = np.array([1, 2, 3, 4, 5, 6, 7, 8, 9, 10])\n",
    "type(new_array)\n",
    "\n",
    "windowed_data = window1d(input_array=new_array, size=3, shift=2, stride=2)\n",
    "windowed_data\n"
   ]
  },
  {
   "cell_type": "code",
   "execution_count": null,
   "metadata": {},
   "outputs": [],
   "source": [
    "input_array = np.array([1, 2, 3, 4, 5, 6, 7, 8, 9, 10])\n",
    "size = 3\n",
    "stride = 2\n",
    "shift = 2\n",
    "\n",
    "num_windows = (len(input_array) - size * stride) // shift + 1\n",
    "#                           10 - 3 * 2 // 2 + 1\n",
    "print(len(input_array))\n",
    "print(num_windows)\n",
    "\n",
    "print(input_array[0:10:2])"
   ]
  },
  {
   "cell_type": "markdown",
   "metadata": {},
   "source": [
    "# Convolution and Cross correlation"
   ]
  },
  {
   "cell_type": "code",
   "execution_count": null,
   "metadata": {},
   "outputs": [],
   "source": [
    "import numpy as np\n",
    "\n",
    "def convolution2d(input_matrix: np.ndarray, kernel: np.ndarray, stride: int = 1) -> np.ndarray:\n",
    "    \n",
    "    # Ensure inputs size, shift, and stride are positive\n",
    "    if stride <= 0 or not isinstance(stride, int):\n",
    "        raise ValueError(\"Stride must be a positive integer.\")\n",
    "    \n",
    "    # Ensure inputs are 2D arrays\n",
    "    if not isinstance(input_matrix, np.ndarray) or input_matrix.ndim != 2 or not isinstance(kernel, np.ndarray) or kernel.ndim != 2:\n",
    "        raise TypeError(\"input_matrix and kernel must 2D np.ndarray.\")\n",
    "    \n",
    "    input_rows, input_cols = input_matrix.shape\n",
    "    kernel_rows, kernel_cols = kernel.shape\n",
    "\n",
    "    # Ensure matrix and kernel shapes are compatible\n",
    "    if input_rows <= kernel_rows or input_cols <= kernel_cols:\n",
    "        raise ValueError(\"Input matrix dimensions must be greater or equal to kernel dimensions.\")\n",
    "    \n",
    "    output_rows = (input_rows - kernel_rows) // stride + 1\n",
    "    output_cols = (input_cols - kernel_cols) // stride + 1\n",
    "    \n",
    "    # Create an empty output matrix with zeros\n",
    "    output = np.zeros((output_rows, output_cols))\n",
    "    \n",
    "    # Slide the kernel over the input matrix and compute the cross-correlation\n",
    "    for i in range(output_rows):\n",
    "        for j in range(output_cols):\n",
    "            sum_val = 0\n",
    "            for x in range(kernel_rows):\n",
    "                for y in range(kernel_cols):\n",
    "                    # sum_val += input_matrix[i*stride + x][j*stride + y] * kernel[x][y]\n",
    "                    matrix = input_matrix[i*stride + x][j*stride + y]\n",
    "                    sum_val += matrix * kernel[x][y]\n",
    "            output[i][j] = sum_val\n",
    "            \n",
    "            \n",
    "    # for i in range(0, output_rows):\n",
    "    #     for j in range(0, output_cols):\n",
    "    #         output_matrix[i, j] = np.sum(input_matrix[i*stride:i*stride+kernel_rows, j*stride:j*stride+kernel_cols] * kernel)\n",
    "            \n",
    "    \n",
    "    # return np.array(output)\n",
    "    return output\n",
    "\n",
    "# Test the function\n",
    "input_mat = np.array([\n",
    "    [1, 2, 3, 4],\n",
    "    [5, 6, 7, 8],\n",
    "    [9, 10, 11, 12],\n",
    "    [13, 14, 15, 16]\n",
    "    # [17, 18, 19, 20]\n",
    "])\n",
    "kern = np.array([\n",
    "    [1, 0],\n",
    "    [0, -1]\n",
    "    # [1, 1]\n",
    "])\n",
    "result = convolution2d(input_mat, kern, stride=1)\n",
    "result\n",
    "\n",
    "# Test the function\n",
    "# result_simple = convolution2d(input_mat, kern, stride=2)\n",
    "# result_simple\n"
   ]
  },
  {
   "cell_type": "code",
   "execution_count": null,
   "metadata": {},
   "outputs": [],
   "source": [
    "Let's break down how the convolution2d function works:\n",
    "\n",
    "We start by determining the dimensions of both the input matrix and the kernel.\n",
    "The dimensions of the output matrix are computed based on the size of the input matrix, the size of the kernel, and the stride.\n",
    "We initialize an output matrix filled with zeros of the computed dimensions.\n",
    "We slide the kernel over the input matrix, using the specified stride. For each position of the kernel, we calculate the element-wise product between the sub-matrix of the input (covered by the kernel) and the kernel itself. The sum of these products gives the value at the corresponding position in the output matrix.\n",
    "Once we've iterated over the entire input matrix, we return the populated output matrix."
   ]
  },
  {
   "cell_type": "code",
   "execution_count": 8,
   "metadata": {},
   "outputs": [
    {
     "name": "stdout",
     "output_type": "stream",
     "text": [
      "input_matrix[0][0] (1) * kernel[0][0] (1)\n",
      "input_matrix[0][1] (2) * kernel[0][1] (0)\n",
      "input_matrix[1][0] (5) * kernel[1][0] (0)\n",
      "input_matrix[1][1] (6) * kernel[1][1] (-1)\n",
      "\n",
      "Sum for output_matrix[0][0] = -5\n",
      "==============================\n",
      "\n",
      "input_matrix[0][2] (3) * kernel[0][0] (1)\n",
      "input_matrix[0][3] (4) * kernel[0][1] (0)\n",
      "input_matrix[1][2] (7) * kernel[1][0] (0)\n",
      "input_matrix[1][3] (8) * kernel[1][1] (-1)\n",
      "\n",
      "Sum for output_matrix[0][1] = -5\n",
      "==============================\n",
      "\n",
      "input_matrix[2][0] (9) * kernel[0][0] (1)\n",
      "input_matrix[2][1] (10) * kernel[0][1] (0)\n",
      "input_matrix[3][0] (13) * kernel[1][0] (0)\n",
      "input_matrix[3][1] (14) * kernel[1][1] (-1)\n",
      "\n",
      "Sum for output_matrix[1][0] = -5\n",
      "==============================\n",
      "\n",
      "input_matrix[2][2] (11) * kernel[0][0] (1)\n",
      "input_matrix[2][3] (12) * kernel[0][1] (0)\n",
      "input_matrix[3][2] (15) * kernel[1][0] (0)\n",
      "input_matrix[3][3] (16) * kernel[1][1] (-1)\n",
      "\n",
      "Sum for output_matrix[1][1] = -5\n",
      "==============================\n",
      "\n",
      "[[-5. -5.]\n",
      " [-5. -5.]]\n"
     ]
    }
   ],
   "source": [
    "import numpy as np\n",
    "\n",
    "def convolution2d(input_matrix: np.ndarray, kernel: np.ndarray, stride: int = 1) -> np.ndarray:\n",
    "    if stride <= 0 or not isinstance(stride, int):\n",
    "        raise ValueError(\"Stride must be a positive integer.\")\n",
    "\n",
    "    if not isinstance(input_matrix, np.ndarray) or input_matrix.ndim != 2 or not isinstance(kernel, np.ndarray) or kernel.ndim != 2:\n",
    "        raise TypeError(\"input_matrix and kernel must 2D np.ndarray.\")\n",
    "    \n",
    "    # Get the dimensions of the input matrix and kernel\n",
    "    input_rows = len(input_matrix)\n",
    "    input_cols = len(input_matrix[0])\n",
    "    kernel_rows = len(kernel)\n",
    "    kernel_cols = len(kernel[0])\n",
    "    \n",
    "    # input_rows, input_cols = input_matrix.shape\n",
    "    # kernel_rows, kernel_cols = kernel.shape\n",
    "    \n",
    "    # Compute the dimensions of the output matrix\n",
    "    output_rows = (input_rows - kernel_rows) // stride + 1\n",
    "    output_cols = (input_cols - kernel_cols) // stride + 1\n",
    "    \n",
    "    # Create an empty output matrix with zeros\n",
    "    output_matrix = np.zeros((output_rows, output_cols))\n",
    "        \n",
    "    # Slide the kernel over the input matrix and compute the cross-correlation\n",
    "    for i in range(output_rows):\n",
    "        for j in range(output_cols):\n",
    "            sum_val = 0\n",
    "            for x in range(kernel_rows):\n",
    "                for y in range(kernel_cols):\n",
    "                    # Print the current element of input_matrix and kernel being multiplied\n",
    "                    print(f\"input_matrix[{i*stride + x}][{j*stride + y}] ({input_matrix[i*stride + x][j*stride + y]}) * kernel[{x}][{y}] ({kernel[x][y]})\")\n",
    "                    \n",
    "                    sum_val += input_matrix[i*stride + x][j*stride + y] * kernel[x][y]\n",
    "            \n",
    "            # Print the calculated sum for the current position in the output matrix\n",
    "            print(f\"\\nSum for output_matrix[{i}][{j}] = {sum_val}\\n{'='*30}\\n\")\n",
    "            output_matrix[i][j] = sum_val\n",
    "    \n",
    "    return np.array(output_matrix)\n",
    "\n",
    "# Test the function\n",
    "input_mat = np.array([\n",
    "    [1, 2, 3, 4],\n",
    "    [5, 6, 7, 8],\n",
    "    [9, 10, 11, 12],\n",
    "    [13, 14, 15, 16]\n",
    "])\n",
    "kern = np.array([\n",
    "    [1, 0],\n",
    "    [0, -1]\n",
    "])\n",
    "result = convolution2d(input_mat, kern, stride=2)\n",
    "print(result)\n"
   ]
  },
  {
   "cell_type": "code",
   "execution_count": null,
   "metadata": {},
   "outputs": [],
   "source": []
  }
 ],
 "metadata": {
  "kernelspec": {
   "display_name": "base",
   "language": "python",
   "name": "python3"
  },
  "language_info": {
   "codemirror_mode": {
    "name": "ipython",
    "version": 3
   },
   "file_extension": ".py",
   "mimetype": "text/x-python",
   "name": "python",
   "nbconvert_exporter": "python",
   "pygments_lexer": "ipython3",
   "version": "3.10.9"
  },
  "orig_nbformat": 4
 },
 "nbformat": 4,
 "nbformat_minor": 2
}
