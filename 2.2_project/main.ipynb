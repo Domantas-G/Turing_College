{
 "cells": [
  {
   "cell_type": "code",
   "execution_count": null,
   "metadata": {},
   "outputs": [],
   "source": [
    "# 1. Data Acquisition:\n",
    "# Use Python's asyncio library to make concurrent API calls to fetch data for multiple cities.\n",
    "# Justification: Asyncio is lightweight, efficient, and suitable for IO-bound tasks like API calls.\n",
    "import aiohttp\n",
    "import asyncio\n",
    "\n",
    "async def fetch_weather_data(city):\n",
    "    # API call to fetch data\n",
    "    async with aiohttp.ClientSession() as session:\n",
    "        async with session.get(f\"https://api.openweathermap.org/data/2.5/weather?q={city}&appid=YOUR_API_KEY\") as response:\n",
    "            return await response.json()\n",
    "\n",
    "async def main():\n",
    "    cities = [\"Istanbul\", \"London\", \"Saint Petersburg\", ...]\n",
    "    tasks = [fetch_weather_data(city) for city in cities]\n",
    "    responses = await asyncio.gather(*tasks)\n",
    "    # Process and store responses\n",
    "\n",
    "asyncio.run(main())\n"
   ]
  },
  {
   "cell_type": "code",
   "execution_count": null,
   "metadata": {},
   "outputs": [],
   "source": [
    "# 2. Database Setup:\n",
    "# Use PostgreSQL as the RDBMS.\n",
    "# Create a table weather_data with columns: id, city, country, timestamp, temperature, condition.\n",
    "CREATE TABLE weather_data (\n",
    "    id SERIAL PRIMARY KEY,\n",
    "    city VARCHAR(50),\n",
    "    country VARCHAR(50),\n",
    "    timestamp TIMESTAMP,\n",
    "    temperature FLOAT,\n",
    "    condition VARCHAR(50)\n",
    ");\n"
   ]
  },
  {
   "cell_type": "code",
   "execution_count": null,
   "metadata": {},
   "outputs": [],
   "source": [
    "# 3. Data Insertion:\n",
    "# Insert the fetched data into the weather_data table.\n",
    "# Assuming conn is a psycopg2 connection object\n",
    "with conn.cursor() as cursor:\n",
    "    insert_query = \"\"\"INSERT INTO weather_data (city, country, timestamp, temperature, condition) VALUES (%s, %s, %s, %s, %s)\"\"\"\n",
    "    cursor.executemany(insert_query, data_to_insert)\n",
    "conn.commit()\n"
   ]
  },
  {
   "cell_type": "code",
   "execution_count": null,
   "metadata": {},
   "outputs": [],
   "source": [
    "# 4. Data Analysis:\n",
    "# Create SQL views or queries for the required analysis.\n",
    "# 5. Scheduling:\n",
    "# Set up cron jobs to run the data fetching and analysis scripts periodically.\n",
    "\n",
    "# Fetch data every hour\n",
    "# 0 * * * * /path/to/python /path/to/data_fetch_script.py\n",
    "\n",
    "# # Run analysis every day at midnight\n",
    "# 0 0 * * * /path/to/python /path/to/analysis_script.py\n"
   ]
  },
  {
   "cell_type": "code",
   "execution_count": null,
   "metadata": {},
   "outputs": [],
   "source": [
    "6. Scalability:\n",
    "The database schema and Python scripts can easily accommodate additional cities by adding more rows and adjusting the list of cities in the script.\n",
    "7. Validation and Improvements:\n",
    "The results from the database can be compared with simulator predictions to validate and make improvements.\n",
    "Possible improvements include optimizing queries, adding indexes to the database, and fine-tuning the concurrency model.\n"
   ]
  },
  {
   "cell_type": "code",
   "execution_count": null,
   "metadata": {},
   "outputs": [],
   "source": [
    "Model Definition\n",
    "Define a Pydantic model that represents the structure of the weather data. The model includes fields like city, country, timestamp, temperature, and condition with the appropriate data types and constraints.\n",
    "\n",
    "from pydantic import BaseModel, Field\n",
    "from datetime import datetime\n",
    "\n",
    "class WeatherData(BaseModel):\n",
    "    city: str = Field(..., max_length=50)\n",
    "    country: str = Field(..., max_length=50)\n",
    "    timestamp: datetime\n",
    "    temperature: float\n",
    "    condition: str = Field(..., max_length=50)\n"
   ]
  },
  {
   "cell_type": "code",
   "execution_count": null,
   "metadata": {},
   "outputs": [],
   "source": [
    "Validation\n",
    "Before inserting the data into the database, create an instance of the WeatherData model using the fetched data. If the data is invalid, Pydantic will raise a ValidationError.\n",
    "\n",
    "import aiohttp\n",
    "import asyncio\n",
    "from pydantic import ValidationError\n",
    "\n",
    "async def fetch_weather_data(city):\n",
    "    async with aiohttp.ClientSession() as session:\n",
    "        async with session.get(f\"https://api.openweathermap.org/data/2.5/weather?q={city}&appid=YOUR_API_KEY\") as response:\n",
    "            data = await response.json()\n",
    "\n",
    "            # Extract relevant data\n",
    "            country = data['sys']['country']\n",
    "            timestamp = datetime.fromtimestamp(data['dt'])\n",
    "            temperature = data['main']['temp']\n",
    "            condition = data['weather'][0]['description']\n",
    "\n",
    "            # Validate data using Pydantic\n",
    "            try:\n",
    "                weather_data = WeatherData(\n",
    "                    city=city,\n",
    "                    country=country,\n",
    "                    timestamp=timestamp,\n",
    "                    temperature=temperature,\n",
    "                    condition=condition\n",
    "                )\n",
    "                return weather_data\n",
    "            except ValidationError as e:\n",
    "                print(f\"Validation error for {city}: {e}\")\n",
    "                return None\n",
    "\n",
    "async def main():\n",
    "    cities = [\"Istanbul\", \"London\", \"Saint Petersburg\", ...]\n",
    "    tasks = [fetch_weather_data(city) for city in cities]\n",
    "    responses = await asyncio.gather(*tasks)\n",
    "    # Process and store valid responses\n",
    "\n",
    "asyncio.run(main())\n"
   ]
  },
  {
   "cell_type": "code",
   "execution_count": null,
   "metadata": {},
   "outputs": [],
   "source": [
    "Benefits of Validation\n",
    "Data Integrity: By using Pydantic for validation, you ensure that only valid data gets inserted into the database.\n",
    "Error Handling: Pydantic will raise errors for any discrepancies in data type or constraints, making it easier to identify issues early on.\n",
    "Ease of Maintenance: Defining a Pydantic model provides a clear schema for the expected data, making the code easier to understand and maintain.\n"
   ]
  },
  {
   "cell_type": "code",
   "execution_count": null,
   "metadata": {},
   "outputs": [],
   "source": [
    "# add additional analytical information:\n",
    "# Today\n",
    "SELECT country, city,\n",
    "       MAX(temperature) AS max_temp_today,\n",
    "       MIN(temperature) AS min_temp_today,\n",
    "       STDDEV(temperature) AS stddev_temp_today\n",
    "FROM weather_data\n",
    "WHERE DATE(timestamp) = CURRENT_DATE\n",
    "GROUP BY country, city;\n"
   ]
  },
  {
   "cell_type": "code",
   "execution_count": null,
   "metadata": {},
   "outputs": [],
   "source": [
    "# Yerterday\n",
    "SELECT country, city,\n",
    "       MAX(temperature) AS max_temp_yesterday,\n",
    "       MIN(temperature) AS min_temp_yesterday,\n",
    "       STDDEV(temperature) AS stddev_temp_yesterday\n",
    "FROM weather_data\n",
    "WHERE DATE(timestamp) = CURRENT_DATE - INTERVAL '1 day'\n",
    "GROUP BY country, city;\n"
   ]
  },
  {
   "cell_type": "code",
   "execution_count": null,
   "metadata": {},
   "outputs": [],
   "source": [
    "# current week\n",
    "SELECT country, city,\n",
    "       MAX(temperature) AS max_temp_week,\n",
    "       MIN(temperature) AS min_temp_week,\n",
    "       STDDEV(temperature) AS stddev_temp_week\n",
    "FROM weather_data\n",
    "WHERE EXTRACT(week FROM timestamp) = EXTRACT(week FROM CURRENT_DATE)\n",
    "GROUP BY country, city;\n"
   ]
  },
  {
   "cell_type": "code",
   "execution_count": null,
   "metadata": {},
   "outputs": [],
   "source": [
    "# Last Seven Days:\n",
    "SELECT country, city,\n",
    "       MAX(temperature) AS max_temp_7days,\n",
    "       MIN(temperature) AS min_temp_7days,\n",
    "       STDDEV(temperature) AS stddev_temp_7days\n",
    "FROM weather_data\n",
    "WHERE timestamp >= NOW() - INTERVAL '7 days'\n",
    "GROUP BY country, city;\n",
    "\n"
   ]
  },
  {
   "cell_type": "code",
   "execution_count": null,
   "metadata": {},
   "outputs": [],
   "source": [
    "# 2. Cities with Highest or Lowest Temperature:\n",
    "WITH hourly_temps AS (\n",
    "  SELECT city, country, temperature,\n",
    "         ROW_NUMBER() OVER (PARTITION BY DATE_TRUNC('hour', timestamp) ORDER BY temperature DESC) as rn_max,\n",
    "         ROW_NUMBER() OVER (PARTITION BY DATE_TRUNC('hour', timestamp) ORDER BY temperature ASC) as rn_min\n",
    "  FROM weather_data\n",
    ")\n",
    "SELECT city, country, temperature,\n",
    "       CASE WHEN rn_max = 1 THEN 'Highest' WHEN rn_min = 1 THEN 'Lowest' END as indicator,\n",
    "       DATE_TRUNC('hour', timestamp) as hour\n",
    "FROM hourly_temps\n",
    "WHERE rn_max = 1 OR rn_min = 1;\n"
   ]
  },
  {
   "cell_type": "code",
   "execution_count": null,
   "metadata": {},
   "outputs": [],
   "source": [
    "Each Day:\n",
    "Similar to the hourly query, you can replace DATE_TRUNC('hour', timestamp) with DATE(timestamp) to get daily data.\n",
    "\n",
    "Each Week:\n",
    "Similar to the hourly query, you can replace DATE_TRUNC('hour', timestamp) with EXTRACT(week FROM timestamp) to get weekly data.\n",
    "\n"
   ]
  },
  {
   "cell_type": "code",
   "execution_count": null,
   "metadata": {},
   "outputs": [],
   "source": [
    "# Number of Times it Rained:\n",
    "# \n",
    "SELECT city, country, COUNT(*) as rain_count_last_day\n",
    "FROM weather_data\n",
    "WHERE condition = 'Rainy' AND timestamp >= NOW() - INTERVAL '1 day'\n",
    "GROUP BY city, country;\n",
    "\n",
    "SELECT city, country, COUNT(*) as rain_count_last_week\n",
    "FROM weather_data\n",
    "WHERE condition = 'Rainy' AND timestamp >= NOW() - INTERVAL '7 days'\n",
    "GROUP BY city, country;\n"
   ]
  },
  {
   "cell_type": "code",
   "execution_count": null,
   "metadata": {},
   "outputs": [],
   "source": []
  }
 ],
 "metadata": {
  "language_info": {
   "name": "python"
  },
  "orig_nbformat": 4
 },
 "nbformat": 4,
 "nbformat_minor": 2
}
