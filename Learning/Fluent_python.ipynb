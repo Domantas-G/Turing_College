{
 "cells": [
  {
   "cell_type": "code",
   "execution_count": 1,
   "metadata": {},
   "outputs": [
    {
     "name": "stdout",
     "output_type": "stream",
     "text": [
      "<instance of Leaf>.ping() in Leaf\n",
      "<instance of Leaf>.ping() in A\n",
      "<instance of Leaf>.ping() in B\n",
      "<instance of Leaf>.ping() in Root\n"
     ]
    }
   ],
   "source": [
    "class Root:  \n",
    "    def ping(self):\n",
    "        print(f'{self}.ping() in Root')\n",
    "\n",
    "    def pong(self):\n",
    "        print(f'{self}.pong() in Root')\n",
    "\n",
    "    def __repr__(self):\n",
    "        cls_name = type(self).__name__      \n",
    "        return f'<instance of {cls_name}>'\n",
    "\n",
    "\n",
    "class A(Root):  \n",
    "    def ping(self):\n",
    "        print(f'{self}.ping() in A')\n",
    "        super().ping()\n",
    "\n",
    "    def pong(self):\n",
    "        print(f'{self}.pong() in A')\n",
    "        super().pong()\n",
    "\n",
    "\n",
    "class B(Root):  \n",
    "    def ping(self):\n",
    "        print(f'{self}.ping() in B')\n",
    "        super().ping()\n",
    "\n",
    "    def pong(self):\n",
    "        print(f'{self}.pong() in B')\n",
    "\n",
    "\n",
    "class Leaf(A, B):  \n",
    "    def ping(self):\n",
    "        print(f'{self}.ping() in Leaf')\n",
    "        super().ping()\n",
    "        \n",
    "leaf1 = Leaf()\n",
    "leaf1.ping()\n",
    "# leaf1.pong()"
   ]
  },
  {
   "cell_type": "code",
   "execution_count": 3,
   "metadata": {},
   "outputs": [
    {
     "name": "stdout",
     "output_type": "stream",
     "text": [
      "<instance of Leaf>.ping() in Leaf, value=4\n",
      "<instance of Leaf>.ping() in A, value=8\n",
      "<instance of Leaf>.ping() in B, value=16\n",
      "<instance of Leaf>.ping() in Root, value=32\n"
     ]
    },
    {
     "data": {
      "text/plain": [
       "(__main__.Leaf, __main__.A, __main__.B, __main__.Root, object)"
      ]
     },
     "execution_count": 3,
     "metadata": {},
     "output_type": "execute_result"
    }
   ],
   "source": [
    "# Multiple Inheritance and Method Resolution Order\n",
    "\n",
    "class Root:  \n",
    "    def __init__(self):\n",
    "        self.value = 2\n",
    "\n",
    "    def ping(self):\n",
    "        self.value *= 2\n",
    "        print(f'{self}.ping() in Root, value={self.value}')\n",
    "\n",
    "    def pong(self):\n",
    "        print(f'{self}.pong() in Root')\n",
    "\n",
    "    def __repr__(self):\n",
    "        cls_name = type(self).__name__\n",
    "        return f'<instance of {cls_name}>'\n",
    "\n",
    "\n",
    "class A(Root):  \n",
    "    def ping(self):\n",
    "        self.value *= 2\n",
    "        print(f'{self}.ping() in A, value={self.value}')\n",
    "        super().ping()\n",
    "\n",
    "    def pong(self):\n",
    "        print(f'{self}.pong() in A')\n",
    "        super().pong()\n",
    "\n",
    "\n",
    "class B(Root):  \n",
    "    def ping(self):\n",
    "        self.value *= 2\n",
    "        print(f'{self}.ping() in B, value={self.value}')\n",
    "        super().ping()\n",
    "\n",
    "    def pong(self):\n",
    "        print(f'{self}.pong() in B')\n",
    "\n",
    "\n",
    "class Leaf(A, B):  \n",
    "    def ping(self):\n",
    "        self.value *= 2\n",
    "        print(f'{self}.ping() in Leaf, value={self.value}')\n",
    "        super().ping()\n",
    "        \n",
    "leaf1 = Leaf()\n",
    "leaf1.ping()\n",
    "\n",
    "Leaf.__mro__"
   ]
  },
  {
   "cell_type": "code",
   "execution_count": null,
   "metadata": {},
   "outputs": [],
   "source": []
  }
 ],
 "metadata": {
  "kernelspec": {
   "display_name": "Python 3",
   "language": "python",
   "name": "python3"
  },
  "language_info": {
   "codemirror_mode": {
    "name": "ipython",
    "version": 3
   },
   "file_extension": ".py",
   "mimetype": "text/x-python",
   "name": "python",
   "nbconvert_exporter": "python",
   "pygments_lexer": "ipython3",
   "version": "3.11.2"
  },
  "orig_nbformat": 4
 },
 "nbformat": 4,
 "nbformat_minor": 2
}
