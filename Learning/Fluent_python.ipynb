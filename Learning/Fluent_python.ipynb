{
 "cells": [
  {
   "cell_type": "code",
   "execution_count": 1,
   "metadata": {},
   "outputs": [
    {
     "name": "stdout",
     "output_type": "stream",
     "text": [
      "<instance of Leaf>.ping() in Leaf\n",
      "<instance of Leaf>.ping() in A\n",
      "<instance of Leaf>.ping() in B\n",
      "<instance of Leaf>.ping() in Root\n"
     ]
    }
   ],
   "source": [
    "class Root:  \n",
    "    def ping(self):\n",
    "        print(f'{self}.ping() in Root')\n",
    "\n",
    "    def pong(self):\n",
    "        print(f'{self}.pong() in Root')\n",
    "\n",
    "    def __repr__(self):\n",
    "        cls_name = type(self).__name__      \n",
    "        return f'<instance of {cls_name}>'\n",
    "\n",
    "\n",
    "class A(Root):  \n",
    "    def ping(self):\n",
    "        print(f'{self}.ping() in A')\n",
    "        super().ping()\n",
    "\n",
    "    def pong(self):\n",
    "        print(f'{self}.pong() in A')\n",
    "        super().pong()\n",
    "\n",
    "\n",
    "class B(Root):  \n",
    "    def ping(self):\n",
    "        print(f'{self}.ping() in B')\n",
    "        super().ping()\n",
    "\n",
    "    def pong(self):\n",
    "        print(f'{self}.pong() in B')\n",
    "\n",
    "\n",
    "class Leaf(A, B):  \n",
    "    def ping(self):\n",
    "        print(f'{self}.ping() in Leaf')\n",
    "        super().ping()\n",
    "        \n",
    "leaf1 = Leaf()\n",
    "leaf1.ping()\n",
    "# leaf1.pong()"
   ]
  },
  {
   "cell_type": "code",
   "execution_count": 3,
   "metadata": {},
   "outputs": [
    {
     "name": "stdout",
     "output_type": "stream",
     "text": [
      "<instance of Leaf>.ping() in Leaf, value=4\n",
      "<instance of Leaf>.ping() in A, value=8\n",
      "<instance of Leaf>.ping() in B, value=16\n",
      "<instance of Leaf>.ping() in Root, value=32\n"
     ]
    },
    {
     "data": {
      "text/plain": [
       "(__main__.Leaf, __main__.A, __main__.B, __main__.Root, object)"
      ]
     },
     "execution_count": 3,
     "metadata": {},
     "output_type": "execute_result"
    }
   ],
   "source": [
    "# Multiple Inheritance and Method Resolution Order\n",
    "\n",
    "class Root:  \n",
    "    def __init__(self):\n",
    "        self.value = 2\n",
    "\n",
    "    def ping(self):\n",
    "        self.value *= 2\n",
    "        print(f'{self}.ping() in Root, value={self.value}')\n",
    "\n",
    "    def pong(self):\n",
    "        print(f'{self}.pong() in Root')\n",
    "\n",
    "    def __repr__(self):\n",
    "        cls_name = type(self).__name__\n",
    "        return f'<instance of {cls_name}>'\n",
    "\n",
    "\n",
    "class A(Root):  \n",
    "    def ping(self):\n",
    "        self.value *= 2\n",
    "        print(f'{self}.ping() in A, value={self.value}')\n",
    "        super().ping()\n",
    "\n",
    "    def pong(self):\n",
    "        print(f'{self}.pong() in A')\n",
    "        super().pong()\n",
    "\n",
    "\n",
    "class B(Root):  \n",
    "    def ping(self):\n",
    "        self.value *= 2\n",
    "        print(f'{self}.ping() in B, value={self.value}')\n",
    "        super().ping()\n",
    "\n",
    "    def pong(self):\n",
    "        print(f'{self}.pong() in B')\n",
    "\n",
    "\n",
    "class Leaf(A, B):  \n",
    "    def ping(self):\n",
    "        self.value *= 2\n",
    "        print(f'{self}.ping() in Leaf, value={self.value}')\n",
    "        super().ping()\n",
    "        \n",
    "leaf1 = Leaf()\n",
    "leaf1.ping()\n",
    "\n",
    "Leaf.__mro__"
   ]
  },
  {
   "cell_type": "code",
   "execution_count": 13,
   "metadata": {},
   "outputs": [
    {
     "name": "stdout",
     "output_type": "stream",
     "text": [
      "<callable_iterator object at 0x1105bc910>\n",
      "4\n",
      "1\n",
      "6\n",
      "2\n"
     ]
    }
   ],
   "source": [
    "import random\n",
    "def d6():\n",
    "  return random.randint(1, 6)\n",
    "\n",
    "# Shows how to use iter to roll a six-sided die until a 1 is rolled\n",
    "d6_iter = iter(d6, 5)\n",
    "print(d6_iter)\n",
    "\n",
    "for roll in d6_iter:\n",
    "  print(roll)"
   ]
  },
  {
   "cell_type": "markdown",
   "metadata": {},
   "source": [
    "# Generator expression example"
   ]
  },
  {
   "cell_type": "code",
   "execution_count": 16,
   "metadata": {},
   "outputs": [
    {
     "name": "stdout",
     "output_type": "stream",
     "text": [
      "<generator object <genexpr> at 0x1102f7c60>\n",
      "['Example', 'text', 'with', 'some', 'words', 'Python', 'regex', 'example', 'etc']\n"
     ]
    }
   ],
   "source": [
    "import re\n",
    "\n",
    "# Let's assume RE_WORD has been compiled already\n",
    "RE_WORD = re.compile(r'\\w+')\n",
    "\n",
    "# Some example text\n",
    "text = \"Example text with some words: Python, regex-example, etc.\"\n",
    "\n",
    "# Generator expression to get words from the text\n",
    "words_generator = (match.group() for match in RE_WORD.finditer(text))\n",
    "print(words_generator)\n",
    "print(list(words_generator))\n",
    "\n",
    "# You can iterate over the generator to process each word\n",
    "for word in words_generator:\n",
    "    print(word)\n"
   ]
  },
  {
   "cell_type": "code",
   "execution_count": 22,
   "metadata": {},
   "outputs": [
    {
     "name": "stdout",
     "output_type": "stream",
     "text": [
      "['X', 'Y', 'Z']\n"
     ]
    },
    {
     "data": {
      "text/plain": [
       "0"
      ]
     },
     "execution_count": 22,
     "metadata": {},
     "output_type": "execute_result"
    }
   ],
   "source": [
    "ge = (c for c in 'XYZ')\n",
    "print(list(ge))\n"
   ]
  },
  {
   "cell_type": "markdown",
   "metadata": {},
   "source": [
    "# Itertools"
   ]
  },
  {
   "cell_type": "code",
   "execution_count": 23,
   "metadata": {},
   "outputs": [
    {
     "data": {
      "text/plain": [
       "['a', 'd', 'a']"
      ]
     },
     "execution_count": 23,
     "metadata": {},
     "output_type": "execute_result"
    }
   ],
   "source": [
    "def vowel(c):\n",
    "     return c.lower() in 'aeiou'\n",
    "\n",
    "list(filter(vowel, 'Aardvark'))\n",
    "# ['A', 'a', 'a']\n",
    "import itertools\n",
    "list(itertools.filterfalse(vowel, 'Aardvark'))\n",
    "# ['r', 'd', 'v', 'r', 'k']\n",
    "list(itertools.dropwhile(vowel, 'Aardvark'))\n",
    "# ['r', 'd', 'v', 'a', 'r', 'k']\n",
    "list(itertools.takewhile(vowel, 'Aardvark'))\n",
    "# ['A', 'a']\n",
    "list(itertools.compress('Aardvark', (1, 0, 1, 1, 0, 1)))\n",
    "# ['A', 'r', 'd', 'a']\n",
    "list(itertools.islice('Aardvark', 4))\n",
    "# ['A', 'a', 'r', 'd']\n",
    "list(itertools.islice('Aardvark', 4, 7))\n",
    "# ['v', 'a', 'r']\n",
    "list(itertools.islice('Aardvark', 1, 7, 2))\n",
    "# ['a', 'd', 'a']\n"
   ]
  },
  {
   "cell_type": "code",
   "execution_count": 24,
   "metadata": {},
   "outputs": [
    {
     "data": {
      "text/plain": [
       "[1, 2, 6, 24, 120, 720, 5040, 40320, 362880, 3628800]"
      ]
     },
     "execution_count": 24,
     "metadata": {},
     "output_type": "execute_result"
    }
   ],
   "source": [
    "sample = [5, 4, 2, 8, 7, 6, 3, 0, 9, 1]\n",
    "\n",
    "import itertools\n",
    "# Running sum.\n",
    "list(itertools.accumulate(sample))  \n",
    "# [5, 9, 11, 19, 26, 32, 35, 35, 44, 45]\n",
    "\n",
    "# Running minimum.\n",
    "list(itertools.accumulate(sample, min))  \n",
    "# [5, 4, 2, 2, 2, 2, 2, 0, 0, 0]\n",
    "\n",
    "# Running maximum.\n",
    "list(itertools.accumulate(sample, max))  \n",
    "# [5, 5, 5, 8, 8, 8, 8, 8, 9, 9]\n",
    "\n",
    "import operator\n",
    "# Running product.\n",
    "list(itertools.accumulate(sample, operator.mul))  \n",
    "# [5, 20, 40, 320, 2240, 13440, 40320, 0, 0, 0]\n",
    "\n",
    "# Factorials from 1! to 10!\n",
    "list(itertools.accumulate(range(1, 11), operator.mul))\n",
    "# [1, 2, 6, 24, 120, 720, 5040, 40320, 362880, 3628800]"
   ]
  },
  {
   "cell_type": "code",
   "execution_count": 29,
   "metadata": {},
   "outputs": [
    {
     "name": "stdout",
     "output_type": "stream",
     "text": [
      "[(1, 'a'), (2, 'l'), (3, 'b'), (4, 'a'), (5, 't'), (6, 'r'), (7, 'o'), (8, 'z')]\n",
      "[0, 1, 4, 9, 16, 25, 36, 49, 64, 81, 100]\n",
      "[0, 4, 16]\n",
      "[(0, 2), (1, 4), (2, 8)]\n",
      "[(0, 2), (1, 4), (2, 8)]\n",
      "['a', 'll', 'bbb', 'aaaa', 'ttttt', 'rrrrrr', 'ooooooo', 'zzzzzzzz']\n",
      "[5.0, 4.5, 3.6666666666666665, 4.75, 5.2, 5.333333333333333, 5.0, 4.375, 4.888888888888889, 4.5]\n"
     ]
    }
   ],
   "source": [
    "# Number the letters in the word, starting from 1\n",
    "print(list(enumerate('albatroz', 1)))\n",
    "# [(1, 'a'), (2, 'l'), (3, 'b'), (4, 'a'), (5, 't'), (6, 'r'), (7, 'o'), (8, 'z')]\n",
    "\n",
    "import operator\n",
    "# Squares of integers from 0 to 10\n",
    "print(list(map(operator.mul, range(11), range(11)))  )\n",
    "# [0, 1, 4, 9, 16, 25, 36, 49, 64, 81, 100]\n",
    "\n",
    "# Multiplying numbers from two iterables in parallel: results stop when the shortest iterable ends\n",
    "print(list(map(operator.mul, range(11), [2, 4, 8]))  )\n",
    "# [0, 4, 16]\n",
    "\n",
    "# This is what the zip built-in function does\n",
    "print(list(map(lambda a, b: (a, b), range(11), [2, 4, 8]))  )\n",
    "print(list(zip(range(11),[2, 4, 8])))\n",
    "# [(0, 2), (1, 4), (2, 8)]\n",
    "\n",
    "\n",
    "import itertools\n",
    "# Repeat each letter in the word according to its place in it, starting from 1.\n",
    "print(list(itertools.starmap(operator.mul, enumerate('albatroz', 1)))  )\n",
    "# ['a', 'll', 'bbb', 'aaaa', 'ttttt', 'rrrrrr', 'ooooooo', 'zzzzzzzz']\n",
    "\n",
    "# Running average\n",
    "sample = [5, 4, 2, 8, 7, 6, 3, 0, 9, 1]\n",
    "print(list(itertools.starmap(lambda a, b: b / a,\n",
    "     enumerate(itertools.accumulate(sample), 1))))  \n",
    "# [5.0, 4.5, 3.6666666666666665, 4.75, 5.2, 5.333333333333333,\n",
    "# 5.0, 4.375, 4.888888888888889, 4.5]"
   ]
  },
  {
   "cell_type": "code",
   "execution_count": 30,
   "metadata": {},
   "outputs": [
    {
     "data": {
      "text/plain": [
       "[('A', 0), ('B', 1), ('C', 2), ('?', 3), ('?', 4)]"
      ]
     },
     "execution_count": 30,
     "metadata": {},
     "output_type": "execute_result"
    }
   ],
   "source": [
    "# chain is usually called with two or more iterables.\n",
    "list(itertools.chain('ABC', range(2)))  \n",
    "# ['A', 'B', 'C', 0, 1]\n",
    "\n",
    "# chain does nothing useful when called with a single iterable.\n",
    "list(itertools.chain(enumerate('ABC')))  \n",
    "# [(0, 'A'), (1, 'B'), (2, 'C')]\n",
    "\n",
    "# But chain.from_iterable takes each item from the iterable, and chains them in sequence, as long as each item is itself iterable.\n",
    "list(itertools.chain.from_iterable(enumerate('ABC')))  \n",
    "# [0, 'A', 1, 'B', 2, 'C']\n",
    "\n",
    "# Any number of iterables can be consumed by zip in parallel, but the generator always stops as soon as the first iterable ends. In Python ≥ 3.10, if the strict=True argument is given and an iterable ends before the others, ValueError is raised.\n",
    "list(zip('ABC', range(5), [10, 20, 30, 40]))  \n",
    "# [('A', 0, 10), ('B', 1, 20), ('C', 2, 30)]\n",
    "\n",
    "# itertools.zip_longest works like zip, except it consumes all input iterables to the end, padding output tuples with None, as needed.\n",
    "list(itertools.zip_longest('ABC', range(5)))  \n",
    "# [('A', 0), ('B', 1), ('C', 2), (None, 3), (None, 4)]\n",
    "\n",
    "# The fillvalue keyword argument specifies a custom padding value.\n",
    "list(itertools.zip_longest('ABC', range(5), fillvalue='?'))  \n",
    "# [('A', 0), ('B', 1), ('C', 2), ('?', 3), ('?', 4)]"
   ]
  },
  {
   "cell_type": "markdown",
   "metadata": {},
   "source": [
    "# Coroutines"
   ]
  },
  {
   "cell_type": "code",
   "execution_count": 35,
   "metadata": {},
   "outputs": [],
   "source": [
    "from collections.abc import Generator\n",
    "\n",
    "def averager() -> Generator[float, float, None]:\n",
    "    total = 0.0\n",
    "    count = 0\n",
    "    average = 0.0\n",
    "    while True:\n",
    "        term = yield average\n",
    "        total += term\n",
    "        count += 1\n",
    "        average = total/count\n"
   ]
  },
  {
   "cell_type": "code",
   "execution_count": 38,
   "metadata": {},
   "outputs": [
    {
     "data": {
      "text/plain": [
       "10.0"
      ]
     },
     "execution_count": 38,
     "metadata": {},
     "output_type": "execute_result"
    }
   ],
   "source": [
    "coro_avg = averager()\n",
    "coro_avg.send(None)\n",
    "coro_avg.send(10)"
   ]
  },
  {
   "cell_type": "code",
   "execution_count": 32,
   "metadata": {},
   "outputs": [
    {
     "data": {
      "text/plain": [
       "15.0"
      ]
     },
     "execution_count": 32,
     "metadata": {},
     "output_type": "execute_result"
    }
   ],
   "source": [
    "coro_avg = averager()\n",
    "# For coroutines to work we need to Prime it by:\n",
    "next(coro_avg) # = coro_avg.send(None)\n",
    "# OR\n",
    "# coro_avg.send(None)\n",
    "coro_avg.send(10)\n",
    "coro_avg.send(30)\n",
    "coro_avg.send(5)"
   ]
  },
  {
   "cell_type": "markdown",
   "metadata": {},
   "source": [
    "# Match statements"
   ]
  },
  {
   "cell_type": "code",
   "execution_count": 40,
   "metadata": {},
   "outputs": [
    {
     "name": "stdout",
     "output_type": "stream",
     "text": [
      "Starting...\n",
      "Pausing...\n",
      "Unknown command!\n"
     ]
    }
   ],
   "source": [
    "def handle_command(command):\n",
    "    match command:\n",
    "        case 'start':\n",
    "            print('Starting...')\n",
    "        case 'stop':\n",
    "            print('Stopping...')\n",
    "        case 'pause':\n",
    "            print('Pausing...')\n",
    "        case _:\n",
    "            print('Unknown command!')\n",
    "\n",
    "handle_command('start')  # Output: Starting...\n",
    "handle_command('pause')  # Output: Starting...\n",
    "handle_command('exit')   # Output: Unknown command!\n"
   ]
  },
  {
   "cell_type": "code",
   "execution_count": 41,
   "metadata": {},
   "outputs": [
    {
     "name": "stdout",
     "output_type": "stream",
     "text": [
      "Handling click at 50, 100\n",
      "Handling keypress A\n"
     ]
    }
   ],
   "source": [
    "def handle_event(event):\n",
    "    match event:\n",
    "        case ('click', (x, y)):\n",
    "            print(f'Handling click at {x}, {y}')\n",
    "        case ('move', x, y):\n",
    "            print(f'Handling move to {x}, {y}')\n",
    "        case ('keypress', key_code):\n",
    "            print(f'Handling keypress {key_code}')\n",
    "        case _:\n",
    "            print('Unknown event')\n",
    "\n",
    "handle_event(('click', (50, 100)))  # Output: Handling click at 50, 100\n",
    "handle_event(('keypress', 'A'))     # Output: Handling keypress A\n"
   ]
  },
  {
   "cell_type": "code",
   "execution_count": 44,
   "metadata": {},
   "outputs": [
    {
     "name": "stdout",
     "output_type": "stream",
     "text": [
      "Point is on the diagonal: Point(x=20, y=20)\n",
      "Circle with center at origin, radius 5\n"
     ]
    },
    {
     "ename": "TypeError",
     "evalue": "Point.__init__() missing 2 required positional arguments: 'x' and 'y'",
     "output_type": "error",
     "traceback": [
      "\u001b[0;31m---------------------------------------------------------------------------\u001b[0m",
      "\u001b[0;31mTypeError\u001b[0m                                 Traceback (most recent call last)",
      "\u001b[1;32m/Volumes/Workspace/Turing_College/Learning/Fluent_python.ipynb Cell 19\u001b[0m line \u001b[0;36m2\n\u001b[1;32m     <a href='vscode-notebook-cell:/Volumes/Workspace/Turing_College/Learning/Fluent_python.ipynb#X26sZmlsZQ%3D%3D?line=25'>26</a>\u001b[0m analyze_shape(Point(\u001b[39m20\u001b[39m, \u001b[39m20\u001b[39m))  \u001b[39m# Output: Point is on the diagonal: Point(x=20, y=20)\u001b[39;00m\n\u001b[1;32m     <a href='vscode-notebook-cell:/Volumes/Workspace/Turing_College/Learning/Fluent_python.ipynb#X26sZmlsZQ%3D%3D?line=26'>27</a>\u001b[0m analyze_shape(Circle(Point(\u001b[39m0\u001b[39m, \u001b[39m0\u001b[39m), \u001b[39m5\u001b[39m))  \u001b[39m# Output: Circle with center at origin, radius 5\u001b[39;00m\n\u001b[0;32m---> <a href='vscode-notebook-cell:/Volumes/Workspace/Turing_College/Learning/Fluent_python.ipynb#X26sZmlsZQ%3D%3D?line=28'>29</a>\u001b[0m analyze_shape(Point())  \u001b[39m# Output: Point is on the diagonal: Point(x=20, y=20)\u001b[39;00m\n\u001b[1;32m     <a href='vscode-notebook-cell:/Volumes/Workspace/Turing_College/Learning/Fluent_python.ipynb#X26sZmlsZQ%3D%3D?line=29'>30</a>\u001b[0m analyze_shape(Circle(Point(), \u001b[39m5\u001b[39m))  \u001b[39m# Output: Circle with center at origin, radius 5\u001b[39;00m\n",
      "\u001b[0;31mTypeError\u001b[0m: Point.__init__() missing 2 required positional arguments: 'x' and 'y'"
     ]
    }
   ],
   "source": [
    "from dataclasses import dataclass\n",
    "\n",
    "@dataclass\n",
    "class Point:\n",
    "    x: int\n",
    "    y: int\n",
    "\n",
    "@dataclass\n",
    "class Circle:\n",
    "    center: Point\n",
    "    radius: int\n",
    "\n",
    "def analyze_shape(shape):\n",
    "    match shape:\n",
    "        case Point(x, y) if x == y:\n",
    "            print(f'Point is on the diagonal: {shape}')\n",
    "        case Point():\n",
    "            print(f'Point: {shape}')\n",
    "        case Circle(center=Point(0, 0), radius=r):\n",
    "            print(f'Circle with center at origin, radius {r}')\n",
    "        case Circle():\n",
    "            print(f'Circle: {shape}')\n",
    "        case _:\n",
    "            print('Unknown shape')\n",
    "\n",
    "analyze_shape(Point(20, 20))  # Output: Point is on the diagonal: Point(x=20, y=20)\n",
    "analyze_shape(Circle(Point(0, 0), 5))  # Output: Circle with center at origin, radius 5"
   ]
  },
  {
   "cell_type": "code",
   "execution_count": null,
   "metadata": {},
   "outputs": [],
   "source": []
  },
  {
   "cell_type": "code",
   "execution_count": null,
   "metadata": {},
   "outputs": [],
   "source": []
  }
 ],
 "metadata": {
  "kernelspec": {
   "display_name": "Python 3",
   "language": "python",
   "name": "python3"
  },
  "language_info": {
   "codemirror_mode": {
    "name": "ipython",
    "version": 3
   },
   "file_extension": ".py",
   "mimetype": "text/x-python",
   "name": "python",
   "nbconvert_exporter": "python",
   "pygments_lexer": "ipython3",
   "version": "3.11.2"
  },
  "orig_nbformat": 4
 },
 "nbformat": 4,
 "nbformat_minor": 2
}
