{
 "cells": [
  {
   "cell_type": "code",
   "execution_count": null,
   "metadata": {},
   "outputs": [],
   "source": [
    "pip install bs4"
   ]
  },
  {
   "cell_type": "code",
   "execution_count": 5,
   "metadata": {},
   "outputs": [
    {
     "ename": "KeyError",
     "evalue": "'Price'",
     "output_type": "error",
     "traceback": [
      "\u001b[0;31m---------------------------------------------------------------------------\u001b[0m",
      "\u001b[0;31mKeyError\u001b[0m                                  Traceback (most recent call last)",
      "\u001b[1;32m/Volumes/Workspace/Turing_College/Learning/scrape.ipynb Cell 2\u001b[0m line \u001b[0;36m7\n\u001b[1;32m     <a href='vscode-notebook-cell:/Volumes/Workspace/Turing_College/Learning/scrape.ipynb#W4sZmlsZQ%3D%3D?line=68'>69</a>\u001b[0m df \u001b[39m=\u001b[39m pd\u001b[39m.\u001b[39mDataFrame(data)\n\u001b[1;32m     <a href='vscode-notebook-cell:/Volumes/Workspace/Turing_College/Learning/scrape.ipynb#W4sZmlsZQ%3D%3D?line=70'>71</a>\u001b[0m \u001b[39m# Convert 'Price' and 'Storage Space (TB)' to numeric for calculation\u001b[39;00m\n\u001b[0;32m---> <a href='vscode-notebook-cell:/Volumes/Workspace/Turing_College/Learning/scrape.ipynb#W4sZmlsZQ%3D%3D?line=71'>72</a>\u001b[0m df[\u001b[39m'\u001b[39m\u001b[39mPrice\u001b[39m\u001b[39m'\u001b[39m] \u001b[39m=\u001b[39m df[\u001b[39m'\u001b[39;49m\u001b[39mPrice\u001b[39;49m\u001b[39m'\u001b[39;49m]\u001b[39m.\u001b[39mreplace(\u001b[39mr\u001b[39m\u001b[39m'\u001b[39m\u001b[39m[^\u001b[39m\u001b[39m\\\u001b[39m\u001b[39md.]\u001b[39m\u001b[39m'\u001b[39m, \u001b[39m'\u001b[39m\u001b[39m'\u001b[39m, regex\u001b[39m=\u001b[39m\u001b[39mTrue\u001b[39;00m)\u001b[39m.\u001b[39mastype(\u001b[39mfloat\u001b[39m, errors\u001b[39m=\u001b[39m\u001b[39m'\u001b[39m\u001b[39mignore\u001b[39m\u001b[39m'\u001b[39m)\n\u001b[1;32m     <a href='vscode-notebook-cell:/Volumes/Workspace/Turing_College/Learning/scrape.ipynb#W4sZmlsZQ%3D%3D?line=72'>73</a>\u001b[0m df[\u001b[39m'\u001b[39m\u001b[39mStorage Space (TB)\u001b[39m\u001b[39m'\u001b[39m] \u001b[39m=\u001b[39m pd\u001b[39m.\u001b[39mto_numeric(df[\u001b[39m'\u001b[39m\u001b[39mStorage Space (TB)\u001b[39m\u001b[39m'\u001b[39m], errors\u001b[39m=\u001b[39m\u001b[39m'\u001b[39m\u001b[39mcoerce\u001b[39m\u001b[39m'\u001b[39m)\n\u001b[1;32m     <a href='vscode-notebook-cell:/Volumes/Workspace/Turing_College/Learning/scrape.ipynb#W4sZmlsZQ%3D%3D?line=74'>75</a>\u001b[0m \u001b[39m# Calculate 'Price per TB'\u001b[39;00m\n",
      "File \u001b[0;32m/Library/Frameworks/Python.framework/Versions/3.11/lib/python3.11/site-packages/pandas/core/frame.py:3761\u001b[0m, in \u001b[0;36mDataFrame.__getitem__\u001b[0;34m(self, key)\u001b[0m\n\u001b[1;32m   3759\u001b[0m \u001b[39mif\u001b[39;00m \u001b[39mself\u001b[39m\u001b[39m.\u001b[39mcolumns\u001b[39m.\u001b[39mnlevels \u001b[39m>\u001b[39m \u001b[39m1\u001b[39m:\n\u001b[1;32m   3760\u001b[0m     \u001b[39mreturn\u001b[39;00m \u001b[39mself\u001b[39m\u001b[39m.\u001b[39m_getitem_multilevel(key)\n\u001b[0;32m-> 3761\u001b[0m indexer \u001b[39m=\u001b[39m \u001b[39mself\u001b[39;49m\u001b[39m.\u001b[39;49mcolumns\u001b[39m.\u001b[39;49mget_loc(key)\n\u001b[1;32m   3762\u001b[0m \u001b[39mif\u001b[39;00m is_integer(indexer):\n\u001b[1;32m   3763\u001b[0m     indexer \u001b[39m=\u001b[39m [indexer]\n",
      "File \u001b[0;32m/Library/Frameworks/Python.framework/Versions/3.11/lib/python3.11/site-packages/pandas/core/indexes/range.py:349\u001b[0m, in \u001b[0;36mRangeIndex.get_loc\u001b[0;34m(self, key)\u001b[0m\n\u001b[1;32m    347\u001b[0m         \u001b[39mraise\u001b[39;00m \u001b[39mKeyError\u001b[39;00m(key) \u001b[39mfrom\u001b[39;00m \u001b[39merr\u001b[39;00m\n\u001b[1;32m    348\u001b[0m \u001b[39mif\u001b[39;00m \u001b[39misinstance\u001b[39m(key, Hashable):\n\u001b[0;32m--> 349\u001b[0m     \u001b[39mraise\u001b[39;00m \u001b[39mKeyError\u001b[39;00m(key)\n\u001b[1;32m    350\u001b[0m \u001b[39mself\u001b[39m\u001b[39m.\u001b[39m_check_indexing_error(key)\n\u001b[1;32m    351\u001b[0m \u001b[39mraise\u001b[39;00m \u001b[39mKeyError\u001b[39;00m(key)\n",
      "\u001b[0;31mKeyError\u001b[0m: 'Price'"
     ]
    }
   ],
   "source": [
    "import requests\n",
    "from bs4 import BeautifulSoup\n",
    "import re\n",
    "import time\n",
    "import pandas as pd\n",
    "\n",
    "def scrape_page(url):\n",
    "    response = requests.get(url)\n",
    "    soup = BeautifulSoup(response.text, 'html.parser')\n",
    "\n",
    "    products = soup.find_all('div', class_='GRID_ITEM')\n",
    "    page_results = []\n",
    "\n",
    "    for product in products:\n",
    "        # Extracting item name and link\n",
    "        product_title_div = product.find('div', class_='product-title')\n",
    "        if product_title_div and product_title_div.find('a'):\n",
    "            name = product_title_div.find('a').get_text(strip=True)\n",
    "            link = 'https://www.varle.lt' + product_title_div.find('a')['href']\n",
    "        else:\n",
    "            name, link = None, None\n",
    "\n",
    "        # Extracting storage space in TB\n",
    "        storage_space = re.search(r'(\\d+)\\s*TB', name)\n",
    "        storage_space = storage_space.group(1) if storage_space else None\n",
    "\n",
    "        # Extracting price\n",
    "        price_div = product.find('div', class_='price-value')\n",
    "        if price_div:\n",
    "            price_main = price_div.find('span').get_text(strip=True) if price_div.find('span') else ''\n",
    "            price_decimal = price_div.find('sup').get_text(strip=True) if price_div.find('sup') else ''\n",
    "            price = price_main + price_decimal\n",
    "        else:\n",
    "            price = None\n",
    "\n",
    "        page_results.append({\n",
    "            'Item Name': name,\n",
    "            'Direct Link': link,\n",
    "            'Storage Space (TB)': storage_space,\n",
    "            'Price': price\n",
    "        })\n",
    "\n",
    "    return page_results\n",
    "\n",
    "def scrape_varle_store(base_url, pages):\n",
    "    results = []\n",
    "    for page in range(1, pages + 1):\n",
    "        # Constructing the URL for each page\n",
    "        url = f'{base_url}&p={page}'\n",
    "        results.extend(scrape_page(url))\n",
    "\n",
    "        # Delay for 1 second before scraping the next page\n",
    "        if page < pages:\n",
    "            time.sleep(1)\n",
    "\n",
    "    return results\n",
    "\n",
    "# Base URL (without the page parameter)\n",
    "base_url = 'https://www.varle.lt/isoriniai-kietieji-diskai-hdd/?f.s-bendra_disko_talpa=4%20TB&f.s-bendra_disko_talpa=8%20TB&f.s-bendra_disko_talpa=5%20TB&f.s-bendra_disko_talpa=18%20TB&f.s-bendra_disko_talpa=12%20TB&f.s-bendra_disko_talpa=14%20TB&f.s-bendra_disko_talpa=16%20TB&f.s-bendra_disko_talpa=20%20TB&f.s-bendra_disko_talpa=3%20TB&f.s-bendra_disko_talpa=6%20TB&f.s-bendra_disko_talpa=10%20TB&f.s-bendra_disko_talpa=36%20TB&sort=-discount_sum'\n",
    "\n",
    "# Number of pages to scrape\n",
    "num_pages = 3\n",
    "\n",
    "\n",
    "# Scraping the data\n",
    "data = scrape_varle_store(base_url, num_pages)\n",
    "\n",
    "# Creating DataFrame\n",
    "df = pd.DataFrame(data)\n",
    "\n",
    "# Convert 'Price' and 'Storage Space (TB)' to numeric for calculation\n",
    "df['Price'] = df['Price'].replace(r'[^\\d.]', '', regex=True).astype(float, errors='ignore')\n",
    "df['Storage Space (TB)'] = pd.to_numeric(df['Storage Space (TB)'], errors='coerce')\n",
    "\n",
    "# Calculate 'Price per TB'\n",
    "df['Price per TB'] = df['Price'] / df['Storage Space (TB)']\n",
    "\n",
    "# Remove entries with NaN or Infinite values in 'Price per TB'\n",
    "df = df[df['Price per TB'].notna() & (df['Price per TB'] != float('inf'))]\n",
    "\n",
    "# Sorting by 'Price per TB'\n",
    "df_sorted = df.sort_values(by='Price per TB')\n",
    "\n",
    "# Print the sorted DataFrame\n",
    "print(df_sorted)"
   ]
  },
  {
   "cell_type": "code",
   "execution_count": null,
   "metadata": {},
   "outputs": [],
   "source": []
  },
  {
   "cell_type": "code",
   "execution_count": null,
   "metadata": {},
   "outputs": [],
   "source": []
  },
  {
   "cell_type": "code",
   "execution_count": null,
   "metadata": {},
   "outputs": [],
   "source": []
  }
 ],
 "metadata": {
  "kernelspec": {
   "display_name": "Python 3",
   "language": "python",
   "name": "python3"
  },
  "language_info": {
   "codemirror_mode": {
    "name": "ipython",
    "version": 3
   },
   "file_extension": ".py",
   "mimetype": "text/x-python",
   "name": "python",
   "nbconvert_exporter": "python",
   "pygments_lexer": "ipython3",
   "version": "3.11.2"
  },
  "orig_nbformat": 4
 },
 "nbformat": 4,
 "nbformat_minor": 2
}
