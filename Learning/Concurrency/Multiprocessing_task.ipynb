{
 "cells": [
  {
   "cell_type": "code",
   "execution_count": 4,
   "metadata": {},
   "outputs": [
    {
     "name": "stderr",
     "output_type": "stream",
     "text": [
      "Traceback (most recent call last):\n",
      "  File \"<string>\", line 1, in <module>\n",
      "  File \"/Library/Frameworks/Python.framework/Versions/3.11/lib/python3.11/multiprocessing/spawn.py\", line 120, in spawn_main\n",
      "    exitcode = _main(fd, parent_sentinel)\n",
      "               ^^^^^^^^^^^^^^^^^^^^^^^^^^\n",
      "  File \"/Library/Frameworks/Python.framework/Versions/3.11/lib/python3.11/multiprocessing/spawn.py\", line 130, in _main\n",
      "    self = reduction.pickle.load(from_parent)\n",
      "           ^^^^^^^^^^^^^^^^^^^^^^^^^^^^^^^^^^\n",
      "AttributeError: Can't get attribute 'square_sum' on <module '__main__' (built-in)>\n",
      "Traceback (most recent call last):\n",
      "  File \"<string>\", line 1, in <module>\n",
      "  File \"/Library/Frameworks/Python.framework/Versions/3.11/lib/python3.11/multiprocessing/spawn.py\", line 120, in spawn_main\n",
      "    exitcode = _main(fd, parent_sentinel)\n",
      "               ^^^^^^^^^^^^^^^^^^^^^^^^^^\n",
      "  File \"/Library/Frameworks/Python.framework/Versions/3.11/lib/python3.11/multiprocessing/spawn.py\", line 130, in _main\n",
      "    self = reduction.pickle.load(from_parent)\n",
      "           ^^^^^^^^^^^^^^^^^^^^^^^^^^^^^^^^^^\n",
      "AttributeError: Can't get attribute 'square_sum' on <module '__main__' (built-in)>\n"
     ]
    }
   ],
   "source": [
    "\"\"\"Mutliprocessing is a great way to speed up cpu-bound tasks\"\"\"\n",
    "import multiprocessing\n",
    "\n",
    "def square_sum(numbers):\n",
    "  \"\"\"Calculate the sum of squares of a list of numbers.\"\"\"\n",
    "  total = sum([num**2 for num in numbers])\n",
    "  print(f\"Sum of squares from {numbers}: {total}\")\n",
    "\n",
    "# Define the list of numbers to calculate the sum of squares for\n",
    "numbers = [10, 20, 30, 40, 50, 60, 70, 80, 90, 100]\n",
    "\n",
    "# Divide the list of numbers into 2 chunks\n",
    "chunk1 = numbers[:5]\n",
    "chunk2 = numbers[5:]\n",
    "\n",
    "process1 = multiprocessing.Process(target = square_sum, args = (chunk1,))\n",
    "process2 = multiprocessing.Process(target = square_sum, args = (chunk2,))\n",
    "\n",
    "process1.start()\n",
    "process2.start()\n",
    "\n",
    "process1.join()\n",
    "process2.join()"
   ]
  },
  {
   "cell_type": "code",
   "execution_count": 9,
   "metadata": {},
   "outputs": [
    {
     "ename": "SyntaxError",
     "evalue": "invalid syntax (958716471.py, line 16)",
     "output_type": "error",
     "traceback": [
      "\u001b[0;36m  Cell \u001b[0;32mIn[9], line 16\u001b[0;36m\u001b[0m\n\u001b[0;31m    return False i += 6\u001b[0m\n\u001b[0m                 ^\u001b[0m\n\u001b[0;31mSyntaxError\u001b[0m\u001b[0;31m:\u001b[0m invalid syntax\n"
     ]
    }
   ],
   "source": [
    "\"\"\"pools make working with multiprocessing easier\"\"\" \n",
    "import multiprocessing\n",
    "import time\n",
    "\n",
    "def is_prime(n):\n",
    "  \"\"\"Check if a number is prime.\"\"\" \n",
    "  if n <= 1:\n",
    "    return False\n",
    "  elif n <= 3:\n",
    "    return True\n",
    "  elif n % 2 == 0 or n % 3 == 0:\n",
    "    return False\n",
    "  i = 5\n",
    "  while i * i <= n:\n",
    "    if n % i == 0 or n % (i + 2) == 0:\n",
    "      return False \n",
    "  i += 6\n",
    "  return True\n",
    "\n",
    "def find_primes(numbers):\n",
    "  \"\"\"Find all prime numbers in a list.\"\"\"\n",
    "  primes = []\n",
    "  for number in numbers:\n",
    "    if is_prime (number):\n",
    "      primes.append (number)\n",
    "  return primes\n",
    "\n",
    "# Define the list of numbers to find primes in:\n",
    "numbers = list(range(100_000_000, 101_000_001))\n",
    "# the number of processes to use\n",
    "processes = 2\n",
    "\n",
    "# Divide the list of numbers into chunks for each process\n",
    "chunk_size = len(numbers) // processes\n",
    "chunks = [numbers[i : i + chunk_size] for i in range(p, len(numbers), chunk_size)]\n",
    "\n",
    "pool = multiprocessing.Pool(processes=processes)\n",
    "start_time = time.monotonic()\n",
    "\n",
    "# Runs \"fing_primes\" for all \"chunks\" \n",
    "results = pool.mpa(find_primes, chunks)\n",
    "\n",
    "primes = []\n",
    "for result in results:\n",
    "  primes += result\n",
    "  \n",
    "pool.close()\n",
    "pool.join()\n",
    "\n",
    "end_time = time.monolithic()\n",
    "\n",
    "print(\n",
    "  f\"Found {len(primes):_} prime numbers\"\n",
    "  f\"between {numbers[0]:_} and {numbers[-1]:_}\"\n",
    "  f\"in {(end_time - start_time):.2f} seconds.\"\n",
    ")"
   ]
  },
  {
   "cell_type": "code",
   "execution_count": 10,
   "metadata": {},
   "outputs": [
    {
     "ename": "SyntaxError",
     "evalue": "invalid syntax (3747834503.py, line 18)",
     "output_type": "error",
     "traceback": [
      "\u001b[0;36m  Cell \u001b[0;32mIn[10], line 18\u001b[0;36m\u001b[0m\n\u001b[0;31m    queue = manager.Queue():\u001b[0m\n\u001b[0m                           ^\u001b[0m\n\u001b[0;31mSyntaxError\u001b[0m\u001b[0;31m:\u001b[0m invalid syntax\n"
     ]
    }
   ],
   "source": [
    "\"\"\"queues allow us to pass data between processes\"\"\"\n",
    "import concurrent.futures\n",
    "import multiprocessing\n",
    "import random\n",
    "import time\n",
    "\n",
    "def compute_task(task_id, queue):\n",
    "  \"\"\"Perform a computationally intensive task\"\"\"\n",
    "  count_to = queue.get()\n",
    "  print(f\"Starting task {task_id}. Counting up to {count_to:_}...\")\n",
    "  result = 0\n",
    "  for i in range(count_to) :\n",
    "    result += i\n",
    "  print(f\"Finished task {task_id}.\")\n",
    "  return result\n",
    "\n",
    "with multiprocessing.Manager() as manager:\n",
    "  queue = manager.Queue():\n",
    "  for _ in range(10):\n",
    "    queue.put(random.randint(10_000_000, 50_000_000))\n",
    "    \n",
    "  start_time = time.monotonic()\n",
    "  with concurrent.futures.ThreadPoolExecutor(max_workers=4) as executor:\n",
    "    futures = [executor.submit(compute_task, t_id, queue) for t_id in range(1, 11)]:\n",
    "      print(\"All tasks submitted to executor.\")\n",
    "      results = []\n",
    "      for i, future in enumerate(concurrent.futures.as_completed(futures)):\n",
    "        print(f\"Processing task {i+1}\")\n",
    "        result = future.result()\n",
    "        print(f\"Got results: {i+1}: {result:_}\")\n",
    "print(f\"Finished in {(time.monotonic() - start_time):.2f} seconds.\")"
   ]
  },
  {
   "cell_type": "code",
   "execution_count": null,
   "metadata": {},
   "outputs": [],
   "source": []
  }
 ],
 "metadata": {
  "kernelspec": {
   "display_name": "Python 3",
   "language": "python",
   "name": "python3"
  },
  "language_info": {
   "codemirror_mode": {
    "name": "ipython",
    "version": 3
   },
   "file_extension": ".py",
   "mimetype": "text/x-python",
   "name": "python",
   "nbconvert_exporter": "python",
   "pygments_lexer": "ipython3",
   "version": "3.11.2"
  }
 },
 "nbformat": 4,
 "nbformat_minor": 2
}
