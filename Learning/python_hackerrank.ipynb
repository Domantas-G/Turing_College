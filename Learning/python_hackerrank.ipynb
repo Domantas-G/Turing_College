{
 "cells": [
  {
   "cell_type": "markdown",
   "metadata": {},
   "source": [
    "# DefaultDict\n",
    "https://www.hackerrank.com/challenges/defaultdict-tutorial/problem?isFullScreen=true"
   ]
  },
  {
   "cell_type": "code",
   "execution_count": 2,
   "metadata": {},
   "outputs": [
    {
     "name": "stdout",
     "output_type": "stream",
     "text": [
      "('python', ['awesome', 'language'])\n",
      "('something-else', ['not relevant'])\n"
     ]
    }
   ],
   "source": [
    "from collections import defaultdict\n",
    "d = defaultdict(list)\n",
    "d['python'].append(\"awesome\")\n",
    "d['something-else'].append(\"not relevant\")\n",
    "d['python'].append(\"language\")\n",
    "for i in d.items():\n",
    "    print(i)\n"
   ]
  },
  {
   "cell_type": "code",
   "execution_count": null,
   "metadata": {},
   "outputs": [],
   "source": [
    "from collections import defaultdict\n",
    "\n",
    "n, m = map(int, input().split())\n",
    "group_a = defaultdict(list)\n",
    "\n",
    "# Process group A\n",
    "for i in range(1, n + 1):\n",
    "    word = input()\n",
    "    group_a[word].append(i)\n",
    "\n",
    "# Process group B\n",
    "for i in range(m):\n",
    "    word = input()\n",
    "    positions = group_a[word]\n",
    "    if positions:\n",
    "        print(' '.join(map(str, positions)))\n",
    "    else:\n",
    "        print(-1)\n"
   ]
  },
  {
   "cell_type": "code",
   "execution_count": null,
   "metadata": {},
   "outputs": [],
   "source": [
    "from collections import defaultdict\n",
    "\n",
    "n, m = map(int, input().split())\n",
    "\n",
    "lists = defaultdict(list)\n",
    "\n",
    "for line in range(n):\n",
    "    lists['A'].append(input().strip())\n",
    "for line in range(m):\n",
    "    lists['B'].append(input().strip())\n",
    "\n",
    "for letter in lists['B']:\n",
    "    if letter in lists['A']:\n",
    "        indices = [i+1 for i in range(len(lists['A'])) if lists['A'][i] == letter]\n",
    "        \n",
    "        print(*indices, sep=\" \")\n",
    "    else:\n",
    "        print(-1)\n"
   ]
  },
  {
   "cell_type": "code",
   "execution_count": null,
   "metadata": {},
   "outputs": [],
   "source": [
    "from collections import defaultdict\n",
    "n,m=map(int,input().split(' '))\n",
    "A=[input() for _ in range(n)]\n",
    "B=[input() for _ in range(m)]\n",
    "D=defaultdict(list)\n",
    "for ind,key in enumerate(A):\n",
    "  D[key].append(ind+1)\n",
    "for j in B:\n",
    "  if len(D[j])>0:\n",
    "    print(*D[j])\n",
    "  else:\n",
    "    print(-1)\n"
   ]
  },
  {
   "cell_type": "code",
   "execution_count": null,
   "metadata": {},
   "outputs": [],
   "source": [
    "from collections import defaultdict\n",
    "n, m=map(int,input().split())\n",
    "A=[]\n",
    "B=[]\n",
    "for _ in range(n):\n",
    "    A.append(input())\n",
    "for _ in range(m):\n",
    "    B.append(input())\n",
    "d=defaultdict(list)\n",
    "for i in range(len(A)):\n",
    "    d[A[i]].append(i+1)\n",
    "for i in range(len(B)):\n",
    "    if len(d[B[i]])>0:\n",
    "        print(*d[B[i]])\n",
    "    else:\n",
    "        print(-1)\n"
   ]
  },
  {
   "cell_type": "markdown",
   "metadata": {},
   "source": [
    "# collections.Counter()\n",
    "A counter is a container that stores elements as dictionary keys, and their counts are stored as dictionary values.  \n",
    "https://www.hackerrank.com/challenges/collections-counter/problem?isFullScreen=true"
   ]
  },
  {
   "cell_type": "code",
   "execution_count": 5,
   "metadata": {},
   "outputs": [
    {
     "name": "stdout",
     "output_type": "stream",
     "text": [
      "Counter({2: 4, 3: 4, 1: 3, 4: 2, 5: 1})\n",
      "dict_items([(1, 3), (2, 4), (3, 4), (4, 2), (5, 1)])\n",
      "dict_keys([1, 2, 3, 4, 5])\n",
      "dict_values([3, 4, 4, 2, 1])\n"
     ]
    }
   ],
   "source": [
    "from collections import Counter\n",
    "\n",
    "myList = [1,1,2,3,4,5,3,2,3,4,2,1,2,3]\n",
    "\n",
    "print(Counter(myList))\n",
    "# Counter({2: 4, 3: 4, 1: 3, 4: 2, 5: 1})\n",
    "\n",
    "print(Counter(myList).items())\n",
    "# [(1, 3), (2, 4), (3, 4), (4, 2), (5, 1)]\n",
    "\n",
    "print(Counter(myList).keys())\n",
    "# [1, 2, 3, 4, 5]\n",
    "\n",
    "print(Counter(myList).values())\n",
    "# [3, 4, 4, 2, 1]"
   ]
  },
  {
   "cell_type": "code",
   "execution_count": 8,
   "metadata": {},
   "outputs": [
    {
     "data": {
      "text/plain": [
       "Counter({'5': 2, '6': 2, '2': 1, '3': 1, '4': 1, '8': 1, '7': 1, '18': 1})"
      ]
     },
     "execution_count": 8,
     "metadata": {},
     "output_type": "execute_result"
    }
   ],
   "source": [
    "# number_of_shoes = input()\n",
    "number_of_shoes = 10\n",
    "\n",
    "# all_shoe_sizes = input().split(\" \")\n",
    "all_shoe_sizes = \"2 3 4 5 6 8 7 6 5 18\".split(\" \")\n",
    "\n",
    "# number_of_customers = input()\n",
    "number_of_customers = 6\n",
    "\n",
    "remaining_shoes = Counter(all_shoe_sizes)\n",
    "\n",
    "for i in range(number_of_customers):\n",
    "  customer_request in remaining_shoes[customer_request[1]]\n",
    "\n",
    "\n",
    "\n"
   ]
  },
  {
   "cell_type": "code",
   "execution_count": 19,
   "metadata": {},
   "outputs": [
    {
     "data": {
      "text/plain": [
       "dict_keys(['5'])"
      ]
     },
     "execution_count": 19,
     "metadata": {},
     "output_type": "execute_result"
    }
   ],
   "source": [
    "customer_request = {'5': 65}\n",
    "customer_request.keys()\n",
    "\n",
    "# customer_request[0] in remaining_shoes[customer_request[1]]"
   ]
  },
  {
   "cell_type": "code",
   "execution_count": 20,
   "metadata": {},
   "outputs": [
    {
     "data": {
      "text/plain": [
       "200"
      ]
     },
     "execution_count": 20,
     "metadata": {},
     "output_type": "execute_result"
    }
   ],
   "source": [
    "from collections import Counter\n",
    "\n",
    "def money_earned(num_shoes, shoe_sizes, num_customers, customer_data):\n",
    "    # Count the occurrences of each shoe size\n",
    "    shoe_inventory = Counter(shoe_sizes)\n",
    "    earnings = 0\n",
    "\n",
    "    # Process each customer's request\n",
    "    for i in range(num_customers):\n",
    "        size, price = customer_data[i]\n",
    "        if shoe_inventory[size] > 0:\n",
    "            earnings += price\n",
    "            shoe_inventory[size] -= 1\n",
    "\n",
    "    return earnings\n",
    "\n",
    "# Sample Input\n",
    "num_shoes = 10\n",
    "shoe_sizes = [2, 3, 4, 5, 6, 8, 7, 6, 5, 18]\n",
    "num_customers = 6\n",
    "customer_data = [(6, 55), (6, 45), (6, 55), (4, 40), (18, 60), (10, 50)]\n",
    "\n",
    "# Compute the earnings\n",
    "earnings = money_earned(num_shoes, shoe_sizes, num_customers, customer_data)\n",
    "earnings\n"
   ]
  },
  {
   "cell_type": "code",
   "execution_count": 21,
   "metadata": {},
   "outputs": [
    {
     "data": {
      "text/plain": [
       "200"
      ]
     },
     "execution_count": 21,
     "metadata": {},
     "output_type": "execute_result"
    }
   ],
   "source": [
    "# Initialize earnings to 0\n",
    "earnings = 0\n",
    "\n",
    "# Create a Counter object for shoe sizes\n",
    "shoe_inventory = Counter(shoe_sizes)\n",
    "\n",
    "# Iterate over each customer's request\n",
    "for size, price in customer_data:\n",
    "    if shoe_inventory[size] > 0:\n",
    "        earnings += price\n",
    "        shoe_inventory[size] -= 1\n",
    "\n",
    "earnings\n"
   ]
  },
  {
   "cell_type": "code",
   "execution_count": null,
   "metadata": {},
   "outputs": [],
   "source": []
  }
 ],
 "metadata": {
  "kernelspec": {
   "display_name": "Python 3",
   "language": "python",
   "name": "python3"
  },
  "language_info": {
   "codemirror_mode": {
    "name": "ipython",
    "version": 3
   },
   "file_extension": ".py",
   "mimetype": "text/x-python",
   "name": "python",
   "nbconvert_exporter": "python",
   "pygments_lexer": "ipython3",
   "version": "3.11.2"
  },
  "orig_nbformat": 4
 },
 "nbformat": 4,
 "nbformat_minor": 2
}
