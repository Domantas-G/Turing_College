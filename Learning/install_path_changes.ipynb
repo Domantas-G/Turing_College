{
 "cells": [
  {
   "cell_type": "code",
   "execution_count": 2,
   "metadata": {},
   "outputs": [
    {
     "name": "stdout",
     "output_type": "stream",
     "text": [
      "\u001b[33mWARNING: Retrying (Retry(total=4, connect=None, read=None, redirect=None, status=None)) after connection broken by 'ConnectTimeoutError(<pip._vendor.urllib3.connection.HTTPSConnection object at 0x100d28110>, 'Connection to pypi.org timed out. (connect timeout=15)')': /simple/matplotlib/\u001b[0m\u001b[33m\n",
      "\u001b[0m\u001b[33mWARNING: Retrying (Retry(total=3, connect=None, read=None, redirect=None, status=None)) after connection broken by 'ConnectTimeoutError(<pip._vendor.urllib3.connection.HTTPSConnection object at 0x102980650>, 'Connection to pypi.org timed out. (connect timeout=15)')': /simple/matplotlib/\u001b[0m\u001b[33m\n",
      "\u001b[0m\u001b[33mWARNING: Retrying (Retry(total=2, connect=None, read=None, redirect=None, status=None)) after connection broken by 'ConnectTimeoutError(<pip._vendor.urllib3.connection.HTTPSConnection object at 0x101e93210>, 'Connection to pypi.org timed out. (connect timeout=15)')': /simple/matplotlib/\u001b[0m\u001b[33m\n",
      "\u001b[0m\u001b[33mWARNING: Retrying (Retry(total=1, connect=None, read=None, redirect=None, status=None)) after connection broken by 'ConnectTimeoutError(<pip._vendor.urllib3.connection.HTTPSConnection object at 0x1018d8a10>, 'Connection to pypi.org timed out. (connect timeout=15)')': /simple/matplotlib/\u001b[0m\u001b[33m\n",
      "\u001b[0m\u001b[33mWARNING: Retrying (Retry(total=0, connect=None, read=None, redirect=None, status=None)) after connection broken by 'ConnectTimeoutError(<pip._vendor.urllib3.connection.HTTPSConnection object at 0x1018d8750>, 'Connection to pypi.org timed out. (connect timeout=15)')': /simple/matplotlib/\u001b[0m\u001b[33m\n",
      "\u001b[0m\u001b[31mERROR: Could not find a version that satisfies the requirement matplotlib (from versions: none)\u001b[0m\u001b[31m\n",
      "\u001b[0m\u001b[31mERROR: No matching distribution found for matplotlib\u001b[0m\u001b[31m\n",
      "\u001b[0mNote: you may need to restart the kernel to use updated packages.\n"
     ]
    }
   ],
   "source": [
    "pip install -U matplotlib"
   ]
  },
  {
   "cell_type": "code",
   "execution_count": 3,
   "metadata": {},
   "outputs": [
    {
     "name": "stdout",
     "output_type": "stream",
     "text": [
      "\u001b[33mWARNING: Retrying (Retry(total=4, connect=None, read=None, redirect=None, status=None)) after connection broken by 'ConnectTimeoutError(<pip._vendor.urllib3.connection.HTTPSConnection object at 0x1037c84d0>, 'Connection to pypi.org timed out. (connect timeout=15)')': /simple/matplotlib/\u001b[0m\u001b[33m\n",
      "\u001b[0m\u001b[33mWARNING: Retrying (Retry(total=3, connect=None, read=None, redirect=None, status=None)) after connection broken by 'ConnectTimeoutError(<pip._vendor.urllib3.connection.HTTPSConnection object at 0x10370a710>, 'Connection to pypi.org timed out. (connect timeout=15)')': /simple/matplotlib/\u001b[0m\u001b[33m\n",
      "\u001b[0m\u001b[33mWARNING: Retrying (Retry(total=2, connect=None, read=None, redirect=None, status=None)) after connection broken by 'ConnectTimeoutError(<pip._vendor.urllib3.connection.HTTPSConnection object at 0x1037a5950>, 'Connection to pypi.org timed out. (connect timeout=15)')': /simple/matplotlib/\u001b[0m\u001b[33m\n",
      "\u001b[0m\u001b[33mWARNING: Retrying (Retry(total=1, connect=None, read=None, redirect=None, status=None)) after connection broken by 'ConnectTimeoutError(<pip._vendor.urllib3.connection.HTTPSConnection object at 0x1037a7390>, 'Connection to pypi.org timed out. (connect timeout=15)')': /simple/matplotlib/\u001b[0m\u001b[33m\n",
      "\u001b[0m\u001b[33mWARNING: Retrying (Retry(total=0, connect=None, read=None, redirect=None, status=None)) after connection broken by 'ConnectTimeoutError(<pip._vendor.urllib3.connection.HTTPSConnection object at 0x1037a6c10>, 'Connection to pypi.org timed out. (connect timeout=15)')': /simple/matplotlib/\u001b[0m\u001b[33m\n",
      "\u001b[0m\u001b[31mERROR: Could not find a version that satisfies the requirement matplotlib==3.5.1 (from versions: none)\u001b[0m\u001b[31m\n",
      "\u001b[0m\u001b[31mERROR: No matching distribution found for matplotlib==3.5.1\u001b[0m\u001b[31m\n",
      "\u001b[0mNote: you may need to restart the kernel to use updated packages.\n"
     ]
    }
   ],
   "source": [
    "pip install matplotlib==3.5.1\n"
   ]
  },
  {
   "cell_type": "code",
   "execution_count": 4,
   "metadata": {},
   "outputs": [
    {
     "ename": "SyntaxError",
     "evalue": "invalid syntax (3309222979.py, line 1)",
     "output_type": "error",
     "traceback": [
      "\u001b[0;36m  Cell \u001b[0;32mIn[4], line 1\u001b[0;36m\u001b[0m\n\u001b[0;31m    pip3 install -U matplotlib\u001b[0m\n\u001b[0m         ^\u001b[0m\n\u001b[0;31mSyntaxError\u001b[0m\u001b[0;31m:\u001b[0m invalid syntax\n"
     ]
    }
   ],
   "source": [
    "# Accessing different Python environment via terminal:\n",
    "cd '' && '/usr/local/bin/python3'  "
   ]
  },
  {
   "cell_type": "code",
   "execution_count": null,
   "metadata": {},
   "outputs": [],
   "source": [
    "# Check python location\n",
    "which python\n",
    "# Original location:\n",
    "/Volumes/Workspace/Anaconda/anaconda3/bin/python\n",
    "# In T: Python\n",
    ">>> import os\n",
    ">>> import sys\n",
    ">>> print(os.path.dirname(sys.executable))\n",
    "/Volumes/Workspace/Anaconda/anaconda3/bin"
   ]
  },
  {
   "cell_type": "code",
   "execution_count": null,
   "metadata": {},
   "outputs": [],
   "source": [
    "# Creating a Virtual Environment\n",
    "python3 -m venv myenv\n",
    "# Activating the Virtual Environment:\n",
    "source myenv/bin/activate\n",
    "# Installing Packages\n",
    "pip install matplotlib\n",
    "# Deactivating the Virtual Environment\n",
    "deactivate"
   ]
  },
  {
   "cell_type": "code",
   "execution_count": null,
   "metadata": {},
   "outputs": [],
   "source": [
    "Add Python to the PATH variable\n",
    "Open the terminal and add the Python installation directory to the PATH variable using the export command, such as:\n",
    "  export PATH=/usr/local/bin/python{version}:$PATH.\n"
   ]
  },
  {
   "cell_type": "code",
   "execution_count": null,
   "metadata": {},
   "outputs": [],
   "source": [
    "\"\"\"Python update default location:\n",
    "Open the terminal (Terminal on macOS, and Ctrl + Alt + T on Linux).\n",
    "Edit the shell configuration file: \n",
    "(~/.bashrc for bash shell, ~/.zshrc for zsh shell).\n",
    "Add the following line: export PATH=”/path/to/python-<version>/bin:$PATH”\n",
    "Save the file and restart the terminal for the changes to take effect.\n",
    "  \"\"\"\n",
    "# If above gives error:\n",
    "\"\"\"\n",
    "In terminal:\n",
    "cd ~\n",
    "vim .zshrc\n",
    "press 'i'\n",
    "Insert Python path(/bin:/Library/flutter/bin) behind .bin:$PATH/.\n",
    "Example: export PATH=\"$HOME/.yarn/bin:$HOME/.config/yarn/global/node_modules/.bin:$PATH/bin:/Library/flutter/bin\"\n",
    "If you are done, press 'esc' and enter ':wq'\n",
    "\"\"\"\n",
    "cd ~\n",
    "nano .zshrc\n",
    "path+=('/usr/local/bin/ntfy') OR export PATH=\"$PATH:/Users/{your_flutter_extracted_path}/bin\"\n",
    "\n",
    "Save the changes by pressing CTRL + O, then exit Nano by pressing CTRL + X.\n",
    "\n",
    "source ~/.zshrc\n",
    "which python\n"
   ]
  }
 ],
 "metadata": {
  "kernelspec": {
   "display_name": "Python 3",
   "language": "python",
   "name": "python3"
  },
  "language_info": {
   "codemirror_mode": {
    "name": "ipython",
    "version": 3
   },
   "file_extension": ".py",
   "mimetype": "text/x-python",
   "name": "python",
   "nbconvert_exporter": "python",
   "pygments_lexer": "ipython3",
   "version": "3.11.2"
  },
  "orig_nbformat": 4
 },
 "nbformat": 4,
 "nbformat_minor": 2
}
