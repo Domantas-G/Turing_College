{
 "cells": [
  {
   "cell_type": "code",
   "execution_count": 5,
   "metadata": {},
   "outputs": [
    {
     "data": {
      "text/plain": [
       "array([ 2, 50,  8])"
      ]
     },
     "execution_count": 5,
     "metadata": {},
     "output_type": "execute_result"
    }
   ],
   "source": [
    "my_list = [[1, 2, 3], [40, 50, 60], [9, 8, 7]]\n",
    "\n",
    "import numpy as np\n",
    "my_array = np.array(my_list)\n",
    "my_array[:,1]\n",
    "# np.sum(my_array[:, 1])\n"
   ]
  },
  {
   "cell_type": "code",
   "execution_count": null,
   "metadata": {},
   "outputs": [],
   "source": [
    "class Cage(object):\n",
    "  \n",
    "  \n",
    "  def __init__(self, id_number: int):\n",
    "    self.id_number = id_number\n",
    "    self.animals = []\n",
    "    \n",
    "  def add_animals(self, *animals: str):\n",
    "    self.animals = animals.extend(*animals)\n",
    "    \n",
    "    \n",
    "  def __repr__(self) str:\n",
    "    print(self.id_number, self.animals)"
   ]
  },
  {
   "cell_type": "code",
   "execution_count": 8,
   "metadata": {},
   "outputs": [
    {
     "name": "stdout",
     "output_type": "stream",
     "text": [
      "Cage 1\n",
      "\tblack Wolf, 4 legs\n",
      "\twhite Sheep, 4 legs\n",
      "Cage 2\n",
      "\tbrown Snake, 0 legs\n",
      "\tgreen Parrot, 2 legs\n"
     ]
    }
   ],
   "source": [
    "class Animal():\n",
    "    def __init__(self, color, number_of_legs):\n",
    "        self.species = self.__class__.__name__\n",
    "        self.color = color\n",
    "        self.number_of_legs = number_of_legs\n",
    "\n",
    "    def __repr__(self):\n",
    "        return f'{self.color} {self.species}, {self.number_of_legs} legs'\n",
    "\n",
    "class Wolf(Animal):\n",
    "    def __init__(self, color):\n",
    "        super().__init__(color, 4)\n",
    " \n",
    "\n",
    "class Sheep(Animal):\n",
    "    def __init__(self, color):\n",
    "        super().__init__(color, 4)\n",
    " \n",
    "\n",
    "class Snake(Animal):\n",
    "    def __init__(self, color):\n",
    "        super().__init__(color, 0)\n",
    " \n",
    "\n",
    "class Parrot(Animal):\n",
    "    def __init__(self, color):\n",
    "        super().__init__(color, 2)\n",
    " \n",
    "\n",
    "class Cage():\n",
    "    def __init__(self, id_number):\n",
    "        self.id_number = id_number\n",
    "        self.animals = []\n",
    " \n",
    "    def add_animals(self, *animals):\n",
    "        for one_animal in animals:\n",
    "            self.animals.append(one_animal)\n",
    " \n",
    "    def __repr__(self):\n",
    "        output = f'Cage {self.id_number}\\n'\n",
    "        output += '\\n'.join('\\t' + str(animal)\n",
    "                            for animal in self.animals)\n",
    "        return output\n",
    "     \n",
    "wolf = Wolf('black')\n",
    "sheep = Sheep('white')\n",
    "snake = Snake('brown')\n",
    "parrot = Parrot('green')\n",
    " \n",
    "c1 = Cage(1)\n",
    "c1.add_animals(wolf, sheep)\n",
    " \n",
    "c2 = Cage(2)\n",
    "c2.add_animals(snake, parrot)\n",
    " \n",
    "print(c1)\n",
    "print(c2)\n"
   ]
  },
  {
   "cell_type": "code",
   "execution_count": 21,
   "metadata": {},
   "outputs": [],
   "source": [
    "# invariant.py\n",
    "from typing import TypeVar, Generic\n",
    "\n",
    "class Beverage:  \n",
    "    \"\"\"Any beverage.\"\"\"\n",
    "\n",
    "class Juice(Beverage):\n",
    "    \"\"\"Any fruit juice.\"\"\"\n",
    "\n",
    "class OrangeJuice(Juice):\n",
    "    \"\"\"Delicious juice from Brazilian oranges.\"\"\"\n",
    "\n",
    "T = TypeVar('T')  \n",
    "\n",
    "class BeverageDispenser(Generic[T]):  \n",
    "    \"\"\"A dispenser parameterized on the beverage type.\"\"\"\n",
    "    def __init__(self, beverage: T) -> None:\n",
    "        self.beverage = beverage\n",
    "\n",
    "    def dispense(self) -> T:\n",
    "        return self.beverage\n",
    "\n",
    "def install(dispenser: BeverageDispenser[Juice]) -> None:  \n",
    "    \"\"\"Install a fruit juice dispenser.\"\"\"\n",
    "    print(f\"{__name__} successfully installed\")"
   ]
  },
  {
   "cell_type": "code",
   "execution_count": 22,
   "metadata": {},
   "outputs": [
    {
     "name": "stdout",
     "output_type": "stream",
     "text": [
      "__main__successfully installed\n"
     ]
    }
   ],
   "source": [
    "juice_dispenser = BeverageDispenser(Juice())\n",
    "install(juice_dispenser)\n",
    "# juice_dispenser"
   ]
  },
  {
   "cell_type": "code",
   "execution_count": 23,
   "metadata": {},
   "outputs": [
    {
     "name": "stdout",
     "output_type": "stream",
     "text": [
      "__main__successfully installed\n"
     ]
    }
   ],
   "source": [
    "beverage_dispenser = BeverageDispenser(Beverage())\n",
    "install(beverage_dispenser)\n",
    "## mypy: Argument 1 to \"install\" has\n",
    "## incompatible type \"BeverageDispenser[Beverage]\"\n",
    "##          expected \"BeverageDispenser[Juice]\""
   ]
  },
  {
   "cell_type": "markdown",
   "metadata": {},
   "source": [
    "Basic Python Functions:\n",
    "\n",
    "Input/Output: input(), print()\n",
    "Type conversion: int(), float(), str(), list(), set(), tuple()\n",
    "String functions: split(), join(), replace(), startswith(), endswith(), strip(), lower(), upper()\n",
    "List methods: append(), extend(), remove(), pop(), index(), count(), sort(), reverse()\n",
    "Data Structures:\n",
    "\n",
    "Lists: List comprehensions, slicing\n",
    "Sets: add(), remove(), union(), intersection(), difference()\n",
    "Dictionaries: keys(), values(), items(), dictionary comprehensions\n",
    "Stacks and Queues: Can be implemented using lists or collections.deque\n",
    "Tuples: Immutable sequences\n",
    "Control Flow:\n",
    "\n",
    "Conditional statements: if, elif, else\n",
    "Loops: for, while\n",
    "Loop control: break, continue, pass\n",
    "Python Libraries:\n",
    "\n",
    "math: Common mathematical functions. E.g., sqrt(), factorial(), gcd(), ceil(), floor()\n",
    "itertools: Iterators for efficient looping. E.g., permutations(), combinations(), groupby(), cycle()\n",
    "collections: Useful extensions of common data structures. E.g., Counter, defaultdict, deque, namedtuple\n",
    "re: Regular expressions for string operations\n",
    "string: Common string operations and constants\n",
    "Advanced:\n",
    "\n",
    "List comprehensions with conditions\n",
    "Lambda functions\n",
    "map(), filter(), reduce()\n",
    "Generators and the yield keyword\n",
    "Algorithms and Problem-solving:\n",
    "\n",
    "Sorting algorithms\n",
    "Searching algorithms: Linear search, binary search\n",
    "Basic graph algorithms: Breadth-first search (BFS), Depth-first search (DFS)\n",
    "Dynamic programming basics\n",
    "Recursion\n",
    "File I/O (occasionally required):\n",
    "\n",
    "open(), read(), write(), close()\n",
    "Error and Exception Handling:\n",
    "\n",
    "try, except, finally\n",
    "Object-Oriented Programming:\n",
    "\n",
    "Classes, objects, inheritance, polymorphism"
   ]
  },
  {
   "cell_type": "markdown",
   "metadata": {},
   "source": [
    "# List Comprehension"
   ]
  },
  {
   "cell_type": "code",
   "execution_count": 1,
   "metadata": {},
   "outputs": [
    {
     "data": {
      "text/plain": [
       "[0, 1, 4, 9, 16, 25, 36, 49, 64, 81]"
      ]
     },
     "execution_count": 1,
     "metadata": {},
     "output_type": "execute_result"
    }
   ],
   "source": [
    "squares = [x**2 for x in range(10)]\n",
    "squares"
   ]
  },
  {
   "cell_type": "code",
   "execution_count": 3,
   "metadata": {},
   "outputs": [
    {
     "data": {
      "text/plain": [
       "[0, 2, 4, 6, 8]"
      ]
     },
     "execution_count": 3,
     "metadata": {},
     "output_type": "execute_result"
    }
   ],
   "source": [
    "evens = [x for x in range(10) if x % 2 == 0]\n",
    "evens"
   ]
  },
  {
   "cell_type": "code",
   "execution_count": 5,
   "metadata": {},
   "outputs": [
    {
     "name": "stdout",
     "output_type": "stream",
     "text": [
      "[32.0, 50.0, 68.0, 86.0]\n"
     ]
    }
   ],
   "source": [
    "celsius = [0, 10, 20, 30]\n",
    "fahrenheit = [(9/5)*temp + 32 for temp in celsius]\n",
    "print(fahrenheit)  # [32.0, 50.0, 68.0, 86.0]\n"
   ]
  },
  {
   "cell_type": "markdown",
   "metadata": {},
   "source": [
    "# Iterator\n",
    "An iterator is an object that contains a countable number of values and can be iterated upon using the next() function."
   ]
  },
  {
   "cell_type": "code",
   "execution_count": 6,
   "metadata": {},
   "outputs": [
    {
     "name": "stdout",
     "output_type": "stream",
     "text": [
      "H\n",
      "e\n"
     ]
    }
   ],
   "source": [
    "my_string = \"Hello\"\n",
    "itr = iter(my_string)\n",
    "print(next(itr))  # H\n",
    "print(next(itr))  # e\n"
   ]
  },
  {
   "cell_type": "code",
   "execution_count": 7,
   "metadata": {},
   "outputs": [
    {
     "name": "stdout",
     "output_type": "stream",
     "text": [
      "1\n",
      "2\n"
     ]
    }
   ],
   "source": [
    "my_list = [1, 2, 3]\n",
    "itr = iter(my_list)\n",
    "print(next(itr))  # 1\n",
    "print(next(itr))  # 2\n"
   ]
  },
  {
   "cell_type": "markdown",
   "metadata": {},
   "source": [
    "# Generator\n",
    "Generators are a simple way of creating iterators using functions and the yield keyword."
   ]
  },
  {
   "cell_type": "code",
   "execution_count": 11,
   "metadata": {},
   "outputs": [
    {
     "name": "stdout",
     "output_type": "stream",
     "text": [
      "0\n",
      "2\n",
      "[4, 6, 8]\n"
     ]
    }
   ],
   "source": [
    "def even_gen(n):\n",
    "    for i in range(n):\n",
    "        if i % 2 == 0:\n",
    "            yield i\n",
    "\n",
    "evens = even_gen(10)\n",
    "print(next(evens))  # 0\n",
    "print(next(evens))  # 2\n",
    "print(list(evens))\n"
   ]
  },
  {
   "cell_type": "code",
   "execution_count": 23,
   "metadata": {},
   "outputs": [
    {
     "name": "stdout",
     "output_type": "stream",
     "text": [
      "0\n",
      "1\n",
      "1\n",
      "2\n",
      "3\n"
     ]
    }
   ],
   "source": [
    "def fibonacci(n):\n",
    "    a, b = 0, 1\n",
    "    for _ in range(n):\n",
    "        yield a\n",
    "        a, b = b, a + b\n",
    "\n",
    "fib = fibonacci(5)\n",
    "for num in fib:\n",
    "    print(num)\n"
   ]
  },
  {
   "cell_type": "markdown",
   "metadata": {},
   "source": [
    "# Lambda Functions\n",
    "A lambda function is a small anonymous function. It can have any number of arguments but can only have one expression."
   ]
  },
  {
   "cell_type": "code",
   "execution_count": 24,
   "metadata": {},
   "outputs": [
    {
     "name": "stdout",
     "output_type": "stream",
     "text": [
      "7\n"
     ]
    }
   ],
   "source": [
    "add = lambda x, y: x + y\n",
    "print(add(3, 4))  # 7\n"
   ]
  },
  {
   "cell_type": "code",
   "execution_count": 25,
   "metadata": {},
   "outputs": [
    {
     "name": "stdout",
     "output_type": "stream",
     "text": [
      "25\n"
     ]
    }
   ],
   "source": [
    "square = lambda x: x**2\n",
    "print(square(5))  # 25"
   ]
  },
  {
   "cell_type": "code",
   "execution_count": 26,
   "metadata": {},
   "outputs": [
    {
     "name": "stdout",
     "output_type": "stream",
     "text": [
      "True\n",
      "False\n"
     ]
    }
   ],
   "source": [
    "is_even = lambda x: x % 2 == 0\n",
    "print(is_even(4))  # True\n",
    "print(is_even(7))  # False\n"
   ]
  },
  {
   "cell_type": "code",
   "execution_count": null,
   "metadata": {},
   "outputs": [],
   "source": [
    "numbers = [1, 2, 3, 4]\n",
    "squared_numbers = [(lambda x: x**2)(num) for num in numbers]\n",
    "print(squared_numbers)  # [1, 4, 9, 16]\n"
   ]
  },
  {
   "cell_type": "code",
   "execution_count": 40,
   "metadata": {},
   "outputs": [
    {
     "name": "stdout",
     "output_type": "stream",
     "text": [
      "[2, 4]\n"
     ]
    }
   ],
   "source": [
    "numbers = [1, 2, 3, 4]\n",
    "even_numbers = [num for num in numbers if (lambda x: x % 2 == 0)(num)]\n",
    "print(even_numbers)  # [2, 4]\n"
   ]
  },
  {
   "cell_type": "code",
   "execution_count": 42,
   "metadata": {},
   "outputs": [
    {
     "name": "stdout",
     "output_type": "stream",
     "text": [
      "['Apple', 'Banana', 'Cherry']\n"
     ]
    }
   ],
   "source": [
    "words = [\"apple\", \"banana\", \"cherry\"]\n",
    "capitalized_words = [(lambda x: x.capitalize())(word) for word in words]\n",
    "# Same as: \n",
    "# capitalized_words = [word.capitalize() for word in words]\n",
    "print(capitalized_words)  # ['Apple', 'Banana', 'Cherry']\n"
   ]
  },
  {
   "cell_type": "markdown",
   "metadata": {},
   "source": [
    "# Counter\n",
    "A Counter is a dictionary subclass that counts hashable objects. It's an unordered collection where elements are stored as dictionary keys and their counts as dictionary values."
   ]
  },
  {
   "cell_type": "code",
   "execution_count": 27,
   "metadata": {},
   "outputs": [
    {
     "name": "stdout",
     "output_type": "stream",
     "text": [
      "Counter({'a': 2, 'b': 2, 'c': 2})\n"
     ]
    }
   ],
   "source": [
    "from collections import Counter\n",
    "\n",
    "count = Counter(\"aabbcc\")\n",
    "print(count)  # Counter({'a': 2, 'b': 2, 'c': 2})\n"
   ]
  },
  {
   "cell_type": "code",
   "execution_count": 28,
   "metadata": {},
   "outputs": [
    {
     "name": "stdout",
     "output_type": "stream",
     "text": [
      "Counter({'apple': 2, 'banana': 1, 'orange': 1})\n"
     ]
    }
   ],
   "source": [
    "sentence = \"apple banana apple orange\"\n",
    "words = sentence.split()\n",
    "count = Counter(words)\n",
    "print(count)  # Counter({'apple': 2, 'banana': 1, 'orange': 1})\n"
   ]
  },
  {
   "cell_type": "code",
   "execution_count": 29,
   "metadata": {},
   "outputs": [
    {
     "name": "stdout",
     "output_type": "stream",
     "text": [
      "Counter({'a': 2})\n"
     ]
    }
   ],
   "source": [
    "c1 = Counter(a=3, b=2, c=1)\n",
    "c2 = Counter(a=1, b=2, c=3)\n",
    "result = c1 - c2\n",
    "print(result)  # Counter({'a': 2})\n"
   ]
  },
  {
   "cell_type": "markdown",
   "metadata": {},
   "source": [
    "# defaultdict\n",
    "A defaultdict is a dictionary subclass that provides a default value for the key that does not exist."
   ]
  },
  {
   "cell_type": "code",
   "execution_count": 31,
   "metadata": {},
   "outputs": [
    {
     "name": "stdout",
     "output_type": "stream",
     "text": [
      "1\n",
      "0\n"
     ]
    }
   ],
   "source": [
    "from collections import defaultdict\n",
    "\n",
    "int_dict = defaultdict(int)\n",
    "int_dict[\"a\"] += 1\n",
    "print(int_dict[\"a\"])  # 1\n",
    "print(int_dict[\"b\"])  # 0 (default int value)\n"
   ]
  },
  {
   "cell_type": "code",
   "execution_count": 32,
   "metadata": {},
   "outputs": [
    {
     "name": "stdout",
     "output_type": "stream",
     "text": [
      "defaultdict(<class 'list'>, {'apple': [3, 5], 'banana': [2]})\n"
     ]
    }
   ],
   "source": [
    "items = [(\"apple\", 3), (\"banana\", 2), (\"apple\", 5)]\n",
    "fruit_dict = defaultdict(list)\n",
    "for fruit, count in items:\n",
    "    fruit_dict[fruit].append(count)\n",
    "print(fruit_dict)  # defaultdict(<class 'list'>, {'apple': [3, 5], 'banana': [2]})\n"
   ]
  },
  {
   "cell_type": "code",
   "execution_count": 33,
   "metadata": {},
   "outputs": [
    {
     "name": "stdout",
     "output_type": "stream",
     "text": [
      "hello\n",
      "\n"
     ]
    }
   ],
   "source": [
    "str_dict = defaultdict(str)\n",
    "str_dict[\"a\"] += \"hello\"\n",
    "print(str_dict[\"a\"])  # \"hello\"\n",
    "print(str_dict[\"b\"])  # \"\" (default str value)\n"
   ]
  },
  {
   "cell_type": "markdown",
   "metadata": {},
   "source": [
    "# deque\n",
    "A deque (double-ended queue) is an ordered collection of items similar to a list, but it supports adding and removing elements from both ends in O(1) time."
   ]
  },
  {
   "cell_type": "code",
   "execution_count": 34,
   "metadata": {},
   "outputs": [
    {
     "data": {
      "text/plain": [
       "2"
      ]
     },
     "execution_count": 34,
     "metadata": {},
     "output_type": "execute_result"
    }
   ],
   "source": [
    "from collections import deque\n",
    "\n",
    "d = deque()\n",
    "d.append(1)         # deque([1])\n",
    "d.appendleft(2)     # deque([2, 1])\n",
    "d.pop()             # Returns 1, deque becomes [2]\n",
    "d.popleft()         # Returns 2, deque becomes []\n"
   ]
  },
  {
   "cell_type": "code",
   "execution_count": 37,
   "metadata": {},
   "outputs": [
    {
     "name": "stdout",
     "output_type": "stream",
     "text": [
      "deque([4, 5, 1, 2, 3])\n",
      "deque([1, 2, 3, 4, 5])\n"
     ]
    }
   ],
   "source": [
    "d = deque([1, 2, 3, 4, 5])\n",
    "d.rotate(2)         # deque([4, 5, 1, 2, 3])\n",
    "print(d)\n",
    "d.rotate(-2)        # deque([1, 2, 3, 4, 5])\n",
    "print(d)"
   ]
  },
  {
   "cell_type": "code",
   "execution_count": 39,
   "metadata": {},
   "outputs": [
    {
     "data": {
      "text/plain": [
       "deque([2, 3, 4], maxlen=3)"
      ]
     },
     "execution_count": 39,
     "metadata": {},
     "output_type": "execute_result"
    }
   ],
   "source": [
    "d = deque(maxlen=3)  # Only hold 3 items\n",
    "d.append(1)          # deque([1])\n",
    "d.append(2)          # deque([1, 2])\n",
    "d.append(3)          # deque([1, 2, 3])\n",
    "d.append(4)          # deque([2, 3, 4])\n",
    "d\n"
   ]
  },
  {
   "cell_type": "markdown",
   "metadata": {},
   "source": [
    "# enumerate\n",
    "The enumerate function returns an iterator that produces tuples containing the index and the value from the original iterable."
   ]
  },
  {
   "cell_type": "code",
   "execution_count": 51,
   "metadata": {},
   "outputs": [
    {
     "name": "stdout",
     "output_type": "stream",
     "text": [
      "1 a\n",
      "2 b\n",
      "3 c\n",
      "4 d\n",
      "5 e\n",
      "6 f\n"
     ]
    }
   ],
   "source": [
    "letters = ['a', 'b', 'c', 'd', 'e', 'f']\n",
    "\n",
    "for idx, letter in enumerate(letters, start=1):\n",
    "    print(idx, letter)"
   ]
  },
  {
   "cell_type": "code",
   "execution_count": 52,
   "metadata": {},
   "outputs": [
    {
     "data": {
      "text/plain": [
       "[(0, 'a'), (1, 'b'), (2, 'c'), (3, 'd'), (4, 'e'), (5, 'f')]"
      ]
     },
     "execution_count": 52,
     "metadata": {},
     "output_type": "execute_result"
    }
   ],
   "source": [
    "enume = list(enumerate(letters))\n",
    "enume"
   ]
  },
  {
   "cell_type": "code",
   "execution_count": 53,
   "metadata": {},
   "outputs": [
    {
     "name": "stdout",
     "output_type": "stream",
     "text": [
      "{0: 'a', 1: 'b', 2: 'c', 3: 'd', 4: 'e', 5: 'f'}\n"
     ]
    }
   ],
   "source": [
    "letter_dict = dict(enumerate(letters))\n",
    "print(letter_dict)  # {0: 'a', 1: 'b', 2: 'c'}\n"
   ]
  },
  {
   "cell_type": "markdown",
   "metadata": {},
   "source": [
    "# zip\n",
    "The zip function returns an iterator of tuples, where the first item in each passed iterable is paired together, then the second item in each passed iterable is paired together, and so on.\n",
    "\n"
   ]
  },
  {
   "cell_type": "code",
   "execution_count": 56,
   "metadata": {},
   "outputs": [
    {
     "name": "stdout",
     "output_type": "stream",
     "text": [
      "[('Alice', 85), ('Bob', 90)]\n"
     ]
    }
   ],
   "source": [
    "names = ['Alice', 'Bob']\n",
    "scores = [85, 90]\n",
    "paired = list(zip(names, scores))\n",
    "print(paired)  # [('Alice', 85), ('Bob', 90)]\n"
   ]
  },
  {
   "cell_type": "code",
   "execution_count": 57,
   "metadata": {},
   "outputs": [
    {
     "name": "stdout",
     "output_type": "stream",
     "text": [
      "[('Alice', 85), ('Bob', 90)]\n"
     ]
    }
   ],
   "source": [
    "# Pairing lists of different lengths:\n",
    "names = ['Alice', 'Bob', 'Charlie']\n",
    "scores = [85, 90]\n",
    "paired = list(zip(names, scores))\n",
    "print(paired)  # [('Alice', 85), ('Bob', 90)]\n"
   ]
  },
  {
   "cell_type": "code",
   "execution_count": 58,
   "metadata": {},
   "outputs": [
    {
     "name": "stdout",
     "output_type": "stream",
     "text": [
      "('Alice', 'Bob')\n",
      "(85, 90)\n"
     ]
    }
   ],
   "source": [
    "# Unzipping\n",
    "paired = [('Alice', 85), ('Bob', 90)]\n",
    "names, scores = zip(*paired)\n",
    "print(names)  # ('Alice', 'Bob')\n",
    "print(scores)  # (85, 90)\n"
   ]
  },
  {
   "cell_type": "markdown",
   "metadata": {},
   "source": [
    "## Alternative unzips:"
   ]
  },
  {
   "cell_type": "code",
   "execution_count": 62,
   "metadata": {},
   "outputs": [
    {
     "name": "stdout",
     "output_type": "stream",
     "text": [
      "['Alice', 'Bob']\n",
      "[85, 90]\n"
     ]
    }
   ],
   "source": [
    "names = []\n",
    "scores = []\n",
    "for name, score in paired:\n",
    "  names.append(name)\n",
    "  scores.append(score)\n",
    "print(names)\n",
    "print(scores)"
   ]
  },
  {
   "cell_type": "code",
   "execution_count": 64,
   "metadata": {},
   "outputs": [
    {
     "name": "stdout",
     "output_type": "stream",
     "text": [
      "['Alice', 'Bob']\n",
      "[85, 90]\n"
     ]
    }
   ],
   "source": [
    "from operator import itemgetter\n",
    "\n",
    "paired = [('Alice', 85), ('Bob', 90)]\n",
    "names = list(map(itemgetter(0), paired))\n",
    "scores = list(map(itemgetter(1), paired))\n",
    "print(names)\n",
    "print(scores)\n"
   ]
  },
  {
   "cell_type": "code",
   "execution_count": 68,
   "metadata": {},
   "outputs": [
    {
     "name": "stdout",
     "output_type": "stream",
     "text": [
      "['Alice', 'Bob']\n",
      "[85, 90]\n"
     ]
    }
   ],
   "source": [
    "paired = [('Alice', 85), ('Bob', 90)]\n",
    "names = [name for name, _ in paired]\n",
    "scores = [score for _, score in paired]\n",
    "print(names)\n",
    "print(scores)"
   ]
  },
  {
   "cell_type": "markdown",
   "metadata": {},
   "source": [
    "# map:\n",
    "The map function applies a given function to all items in the input list."
   ]
  },
  {
   "cell_type": "code",
   "execution_count": 71,
   "metadata": {},
   "outputs": [
    {
     "name": "stdout",
     "output_type": "stream",
     "text": [
      "[1, 4, 9, 16]\n"
     ]
    }
   ],
   "source": [
    "numbers = [1, 2, 3, 4]\n",
    "squared = list(map(lambda x: x**2, numbers))\n",
    "print(squared)  # [1, 4, 9, 16]"
   ]
  },
  {
   "cell_type": "code",
   "execution_count": 73,
   "metadata": {},
   "outputs": [
    {
     "name": "stdout",
     "output_type": "stream",
     "text": [
      "[1, 2, 3]\n"
     ]
    }
   ],
   "source": [
    "str_numbers = [\"1\", \"2\", \"3\"]\n",
    "numbers = list(map(int, str_numbers))\n",
    "print(numbers)  # [1, 2, 3]"
   ]
  },
  {
   "cell_type": "code",
   "execution_count": 75,
   "metadata": {},
   "outputs": [
    {
     "name": "stdout",
     "output_type": "stream",
     "text": [
      "[5, 6, 6]\n",
      "3\n"
     ]
    }
   ],
   "source": [
    "words = [\"apple\", \"banana\", \"cherry\"]\n",
    "lengths = list(map(len, words))\n",
    "print(lengths)  # [5, 6, 6]\n",
    "print(len(words))\n"
   ]
  },
  {
   "cell_type": "markdown",
   "metadata": {},
   "source": [
    "# Using zip with map:\n",
    "Suppose you want to add two lists element-wise:"
   ]
  },
  {
   "cell_type": "code",
   "execution_count": 78,
   "metadata": {},
   "outputs": [
    {
     "name": "stdout",
     "output_type": "stream",
     "text": [
      "[5, 7, 9]\n",
      "[(1, 4), (2, 5), (3, 6)]\n"
     ]
    }
   ],
   "source": [
    "list1 = [1, 2, 3]\n",
    "list2 = [4, 5, 6]\n",
    "result = list(map(lambda pair: pair[0] + pair[1], zip(list1, list2)))\n",
    "print(result)  # [5, 7, 9]\n",
    "result2 = list(zip(list1, list2))\n",
    "print(result2)"
   ]
  },
  {
   "cell_type": "markdown",
   "metadata": {},
   "source": [
    "# Using list with map:\n",
    "This simply converts the map object to a list:"
   ]
  },
  {
   "cell_type": "code",
   "execution_count": 80,
   "metadata": {},
   "outputs": [
    {
     "name": "stdout",
     "output_type": "stream",
     "text": [
      "[1, 4, 9, 16]\n"
     ]
    }
   ],
   "source": [
    "numbers = [1, 2, 3, 4]\n",
    "squared = list(map(lambda x: x**2, numbers))\n",
    "print(squared)  # [1, 4, 9, 16]\n"
   ]
  },
  {
   "cell_type": "markdown",
   "metadata": {},
   "source": [
    "# Basic Type Conversion:\n"
   ]
  },
  {
   "cell_type": "code",
   "execution_count": 81,
   "metadata": {},
   "outputs": [
    {
     "name": "stdout",
     "output_type": "stream",
     "text": [
      "5.0\n"
     ]
    }
   ],
   "source": [
    "num_int = 5\n",
    "num_float = float(num_int)\n",
    "print(num_float)  # 5.0\n"
   ]
  },
  {
   "cell_type": "code",
   "execution_count": 83,
   "metadata": {},
   "outputs": [
    {
     "name": "stdout",
     "output_type": "stream",
     "text": [
      "   int_column  float_column str_column\n",
      "0           1           1.1        one\n",
      "1           2           2.2        two\n",
      "2           3           3.3      three\n",
      "   int_column  float_column str_column\n",
      "0         1.0             1        one\n",
      "1         2.0             2        two\n",
      "2         3.0             3      three\n",
      "int_column       float64\n",
      "float_column       int64\n",
      "str_column      category\n",
      "dtype: object\n"
     ]
    }
   ],
   "source": [
    "import pandas as pd\n",
    "\n",
    "df = pd.DataFrame({\n",
    "    'int_column': [1, 2, 3],\n",
    "    'float_column': [1.1, 2.2, 3.3],\n",
    "    'str_column': ['one', 'two', 'three']\n",
    "})\n",
    "\n",
    "print(df)\n",
    "\n",
    "df['int_column'] = df['int_column'].astype(float)\n",
    "df['float_column'] = df['float_column'].astype(int)\n",
    "df['str_column'] = df['str_column'].astype('category')\n",
    "\n",
    "print(df)\n",
    "print(df.dtypes)"
   ]
  },
  {
   "cell_type": "code",
   "execution_count": 88,
   "metadata": {},
   "outputs": [
    {
     "name": "stdout",
     "output_type": "stream",
     "text": [
      "   int_column  float_column str_column\n",
      "0         1.0             1        one\n",
      "1         2.0             2        two\n",
      "2         3.0             3      three\n",
      "int_column      float64\n",
      "float_column      int64\n",
      "str_column       object\n",
      "dtype: object\n"
     ]
    }
   ],
   "source": [
    "df = pd.DataFrame({\n",
    "    'int_column': [1, 2, 3],\n",
    "    'float_column': [1.1, 2.2, 3.3],\n",
    "    'str_column': ['one', 'two', 'three']\n",
    "})\n",
    "\n",
    "convert_dict = {\n",
    "    'int_column': float,\n",
    "    'float_column': int,\n",
    "    'str_column': str\n",
    "    # 'str_column': 'category'\n",
    "}\n",
    "\n",
    "df = df.astype(convert_dict)\n",
    "\n",
    "print(df)\n",
    "print(df.dtypes)\n"
   ]
  },
  {
   "cell_type": "markdown",
   "metadata": {},
   "source": [
    "# Difference between for and while loops:\n",
    "for loop:  \n",
    "Iterates over a sequence (like a list, tuple, string, or range) or other iterable objects.  \n",
    "Runs for a predetermined number of times, which is defined by the length of the sequence.  \n",
    "while loop:  \n",
    "Executes as long as a given condition remains True.  \n",
    "Can potentially run indefinitely if the condition never becomes False.  \n"
   ]
  },
  {
   "cell_type": "code",
   "execution_count": 89,
   "metadata": {},
   "outputs": [
    {
     "name": "stdout",
     "output_type": "stream",
     "text": [
      "0\n",
      "1\n",
      "2\n"
     ]
    }
   ],
   "source": [
    "# For loop:\n",
    "for i in range(3):\n",
    "    print(i)\n",
    "# Output:\n",
    "# 0\n",
    "# 1\n",
    "# 2\n"
   ]
  },
  {
   "cell_type": "code",
   "execution_count": 90,
   "metadata": {},
   "outputs": [
    {
     "name": "stdout",
     "output_type": "stream",
     "text": [
      "0\n",
      "1\n",
      "2\n"
     ]
    }
   ],
   "source": [
    "# while loop:\n",
    "count = 0\n",
    "while count < 3:\n",
    "    print(count)\n",
    "    count += 1\n",
    "# Output:\n",
    "# 0\n",
    "# 1\n",
    "# 2\n"
   ]
  },
  {
   "cell_type": "markdown",
   "metadata": {},
   "source": [
    "# Dictionaries:"
   ]
  },
  {
   "cell_type": "code",
   "execution_count": 92,
   "metadata": {},
   "outputs": [
    {
     "name": "stdout",
     "output_type": "stream",
     "text": [
      "dict_keys(['a', 'b', 'c'])\n"
     ]
    }
   ],
   "source": [
    "# keys(): Returns a view object displaying a list of all the keys in the dictionary.\n",
    "dict_example = {'a': 1, 'b': 2, 'c': 3}\n",
    "print(dict_example.keys())  # dict_keys(['a', 'b', 'c'])"
   ]
  },
  {
   "cell_type": "code",
   "execution_count": 93,
   "metadata": {},
   "outputs": [
    {
     "name": "stdout",
     "output_type": "stream",
     "text": [
      "dict_values([1, 2, 3])\n"
     ]
    }
   ],
   "source": [
    "# values():\n",
    "# Returns a view object displaying a list of all the values in the dictionary.\n",
    "dict_example = {'a': 1, 'b': 2, 'c': 3}\n",
    "print(dict_example.values())  # dict_values([1, 2, 3])\n"
   ]
  },
  {
   "cell_type": "code",
   "execution_count": 94,
   "metadata": {},
   "outputs": [
    {
     "name": "stdout",
     "output_type": "stream",
     "text": [
      "dict_items([('a', 1), ('b', 2), ('c', 3)])\n"
     ]
    }
   ],
   "source": [
    "# items():\n",
    "# Returns a view object displaying a list of the dictionary's key-value tuple pairs.\n",
    "dict_example = {'a': 1, 'b': 2, 'c': 3}\n",
    "print(dict_example.items())  # dict_items([('a', 1), ('b', 2), ('c', 3)])\n"
   ]
  },
  {
   "cell_type": "code",
   "execution_count": 95,
   "metadata": {},
   "outputs": [
    {
     "name": "stdout",
     "output_type": "stream",
     "text": [
      "{1: 1, 2: 4, 3: 9, 4: 16, 5: 25}\n"
     ]
    }
   ],
   "source": [
    "# Dictionary comprehensions\n",
    "squared_dict = {x: x**2 for x in range(1, 6)}\n",
    "print(squared_dict)  # {1: 1, 2: 4, 3: 9, 4: 16, 5: 25}\n"
   ]
  },
  {
   "cell_type": "code",
   "execution_count": 96,
   "metadata": {},
   "outputs": [
    {
     "name": "stdout",
     "output_type": "stream",
     "text": [
      "{'a': 1, 'b': 2, 'c': 3}\n"
     ]
    }
   ],
   "source": [
    "# create a dictionary from two lists:\n",
    "keys = ['a', 'b', 'c']\n",
    "values = [1, 2, 3]\n",
    "dict_from_lists = {k: v for k, v in zip(keys, values)}\n",
    "print(dict_from_lists)  # {'a': 1, 'b': 2, 'c': 3}\n"
   ]
  },
  {
   "cell_type": "markdown",
   "metadata": {},
   "source": [
    "# Loop Control: break, continue, pass\n",
    "break:  \n",
    "* Terminates the current loop and resumes execution at the next statement after the loop.  \n",
    "\n",
    "continue:  \n",
    "* Causes the loop to skip the remainder of its body and immediately retest its condition prior to reiterating.  \n",
    "\n",
    "pass:  \n",
    "* A null operation; nothing happens when it executes. It's often used as a placeholder."
   ]
  },
  {
   "cell_type": "code",
   "execution_count": 97,
   "metadata": {},
   "outputs": [
    {
     "name": "stdout",
     "output_type": "stream",
     "text": [
      "0\n",
      "1\n",
      "2\n"
     ]
    }
   ],
   "source": [
    "# Break\n",
    "for i in range(5):\n",
    "    if i == 3:\n",
    "        break\n",
    "    print(i)\n",
    "# Output:\n",
    "# 0\n",
    "# 1\n",
    "# 2\n"
   ]
  },
  {
   "cell_type": "code",
   "execution_count": 98,
   "metadata": {},
   "outputs": [
    {
     "name": "stdout",
     "output_type": "stream",
     "text": [
      "0\n",
      "1\n",
      "2\n",
      "4\n"
     ]
    }
   ],
   "source": [
    "# continue\n",
    "for i in range(5):\n",
    "    if i == 3:\n",
    "        continue\n",
    "    print(i)\n",
    "# Output:\n",
    "# 0\n",
    "# 1\n",
    "# 2\n",
    "# 4\n"
   ]
  },
  {
   "cell_type": "code",
   "execution_count": 99,
   "metadata": {},
   "outputs": [
    {
     "name": "stdout",
     "output_type": "stream",
     "text": [
      "0\n",
      "1\n",
      "2\n",
      "3\n",
      "4\n"
     ]
    }
   ],
   "source": [
    "# pass\n",
    "for i in range(5):\n",
    "    if i == 3:\n",
    "        pass\n",
    "    print(i)\n",
    "# Output:\n",
    "# 0\n",
    "# 1\n",
    "# 2\n",
    "# 3\n",
    "# 4\n"
   ]
  },
  {
   "cell_type": "markdown",
   "metadata": {},
   "source": [
    "# itertools:\n",
    "permutations():\n",
    "* Returns all possible permutations of the elements of an iterable.  \n",
    "\n",
    "combinations():\n",
    "* Returns all possible combinations of the elements of an iterable, taking r elements at a time.  \n",
    "\n",
    "groupby():\n",
    "* Groups consecutive elements of an iterable that have the same value.  \n",
    "\n",
    "cycle():\n",
    "* Returns elements from an iterable and saves a copy of each. When the iterable is exhausted, returns elements from the saved copy."
   ]
  },
  {
   "cell_type": "code",
   "execution_count": 100,
   "metadata": {},
   "outputs": [
    {
     "name": "stdout",
     "output_type": "stream",
     "text": [
      "[(1, 2), (1, 3), (2, 1), (2, 3), (3, 1), (3, 2)]\n"
     ]
    }
   ],
   "source": [
    "from itertools import permutations\n",
    "\n",
    "perms = list(permutations([1, 2, 3], 2))\n",
    "print(perms)  # [(1, 2), (1, 3), (2, 1), (2, 3), (3, 1), (3, 2)]"
   ]
  },
  {
   "cell_type": "code",
   "execution_count": 101,
   "metadata": {},
   "outputs": [
    {
     "name": "stdout",
     "output_type": "stream",
     "text": [
      "[(1, 2), (1, 3), (2, 3)]\n"
     ]
    }
   ],
   "source": [
    "from itertools import combinations\n",
    "\n",
    "combs = list(combinations([1, 2, 3], 2))\n",
    "print(combs)  # [(1, 2), (1, 3), (2, 3)]\n"
   ]
  },
  {
   "cell_type": "code",
   "execution_count": 104,
   "metadata": {},
   "outputs": [
    {
     "name": "stdout",
     "output_type": "stream",
     "text": [
      "1 [1, 1]\n",
      "2 [2]\n",
      "3 [3, 3, 3]\n",
      "[(1, <itertools._grouper object at 0x147fac760>), (2, <itertools._grouper object at 0x147fac820>), (3, <itertools._grouper object at 0x147fadb10>)]\n"
     ]
    }
   ],
   "source": [
    "from itertools import groupby\n",
    "\n",
    "data = [1, 1, 2, 3, 3, 3]\n",
    "for key, group in groupby(data):\n",
    "    print(key, list(group))\n",
    "# Output:\n",
    "# 1 [1, 1]\n",
    "# 2 [2]\n",
    "# 3 [3, 3, 3]"
   ]
  },
  {
   "cell_type": "code",
   "execution_count": 105,
   "metadata": {},
   "outputs": [
    {
     "name": "stdout",
     "output_type": "stream",
     "text": [
      "A\n",
      "B\n",
      "A\n"
     ]
    }
   ],
   "source": [
    "from itertools import cycle\n",
    "\n",
    "c = cycle('AB')\n",
    "print(next(c))  # A\n",
    "print(next(c))  # B\n",
    "print(next(c))  # A\n"
   ]
  },
  {
   "cell_type": "markdown",
   "metadata": {},
   "source": [
    "# re - Regular Expressions:\n",
    "Regular expressions provide a way to match strings of text, such as particular characters, words, or patterns of characters."
   ]
  },
  {
   "cell_type": "code",
   "execution_count": 106,
   "metadata": {},
   "outputs": [
    {
     "name": "stdout",
     "output_type": "stream",
     "text": [
      "123\n"
     ]
    }
   ],
   "source": [
    "# Search for a pattern in a string:\n",
    "import re\n",
    "\n",
    "result = re.search(r'\\d+', 'Hello 123 world')\n",
    "print(result.group())  # 123\n"
   ]
  },
  {
   "cell_type": "code",
   "execution_count": 107,
   "metadata": {},
   "outputs": [
    {
     "name": "stdout",
     "output_type": "stream",
     "text": [
      "Hello 456 world\n"
     ]
    }
   ],
   "source": [
    "# Replace patterns in a string\n",
    "result = re.sub(r'\\d+', '456', 'Hello 123 world')\n",
    "print(result)  # Hello 456 world\n"
   ]
  },
  {
   "cell_type": "code",
   "execution_count": 108,
   "metadata": {},
   "outputs": [
    {
     "name": "stdout",
     "output_type": "stream",
     "text": [
      "['Hello', 'world']\n"
     ]
    }
   ],
   "source": [
    "# Split string by pattern:\n",
    "result = re.split(r'\\s+', 'Hello   world')\n",
    "print(result)  # ['Hello', 'world']\n"
   ]
  },
  {
   "cell_type": "markdown",
   "metadata": {},
   "source": [
    "# File I/O "
   ]
  },
  {
   "cell_type": "code",
   "execution_count": null,
   "metadata": {},
   "outputs": [],
   "source": [
    "# Open a file for reading (default mode is 'r')\n",
    "file = open(\"example.txt\")\n",
    "\n",
    "# Open a file for writing\n",
    "file = open(\"example.txt\", 'w')\n",
    "\n",
    "# Open a file for appending\n",
    "file = open(\"example.txt\", 'a')\n",
    "\n",
    "# Open a file for both reading and writing\n",
    "file = open(\"example.txt\", 'r+')\n"
   ]
  },
  {
   "cell_type": "code",
   "execution_count": null,
   "metadata": {},
   "outputs": [],
   "source": [
    "# This function reads the content of a file.\n",
    "file = open(\"example.txt\", 'r')\n",
    "content = file.read()\n",
    "print(content)\n",
    "file.close()\n"
   ]
  },
  {
   "cell_type": "code",
   "execution_count": null,
   "metadata": {},
   "outputs": [],
   "source": [
    "# You can also specify the number of bytes you want to read\n",
    "file = open(\"example.txt\", 'r')\n",
    "content = file.read(5)  # Reads the first 5 bytes\n",
    "print(content)\n",
    "file.close()\n"
   ]
  },
  {
   "cell_type": "code",
   "execution_count": null,
   "metadata": {},
   "outputs": [],
   "source": [
    "# write()\n",
    "# This function writes data to a file. If the file already contains data, the write function will overwrite it when used in 'w' mode.\n",
    "file = open(\"example.txt\", 'w')\n",
    "file.write(\"Hello, World!\")\n",
    "file.close()\n",
    "# Now, \"example.txt\" contains \"Hello, World!\""
   ]
  },
  {
   "cell_type": "code",
   "execution_count": null,
   "metadata": {},
   "outputs": [],
   "source": [
    "# close()\n",
    "# This function closes an open file. It's a good practice to always close the file when you're done with it.\n",
    "file = open(\"example.txt\", 'r')\n",
    "content = file.read()\n",
    "print(content)\n",
    "file.close()\n"
   ]
  },
  {
   "cell_type": "markdown",
   "metadata": {},
   "source": [
    "Using the with statement (recommended for file operations):  \n",
    "The with statement is used to wrap the execution of a block of code. It's especially useful for file operations as it ensures that the file is properly closed when the block of code inside with is exited."
   ]
  },
  {
   "cell_type": "code",
   "execution_count": null,
   "metadata": {},
   "outputs": [],
   "source": [
    "with open(\"example.txt\", 'r') as file:\n",
    "    content = file.read()\n",
    "    print(content)\n",
    "\n",
    "# No need to explicitly close the file. It's automatically closed.\n"
   ]
  },
  {
   "cell_type": "markdown",
   "metadata": {},
   "source": [
    "# Classes"
   ]
  },
  {
   "cell_type": "code",
   "execution_count": 109,
   "metadata": {},
   "outputs": [
    {
     "name": "stdout",
     "output_type": "stream",
     "text": [
      "2\n"
     ]
    }
   ],
   "source": [
    "import random\n",
    "\n",
    "class BasicDice:\n",
    "    def __init__(self, sides=6):\n",
    "        self.sides = sides\n",
    "\n",
    "    def roll(self):\n",
    "        return random.randint(1, self.sides)\n",
    "\n",
    "# Usage:\n",
    "dice = BasicDice()\n",
    "print(dice.roll())\n"
   ]
  },
  {
   "cell_type": "code",
   "execution_count": 110,
   "metadata": {},
   "outputs": [
    {
     "name": "stdout",
     "output_type": "stream",
     "text": [
      "[6, 4]\n"
     ]
    }
   ],
   "source": [
    "class IntermediateDice:\n",
    "    def __init__(self, sides=6):\n",
    "        self.sides = sides\n",
    "        self.history = []\n",
    "\n",
    "    def roll(self):\n",
    "        result = random.randint(1, self.sides)\n",
    "        self.history.append(result)\n",
    "        return result\n",
    "\n",
    "    def get_roll_history(self):\n",
    "        return self.history\n",
    "\n",
    "# Usage:\n",
    "dice = IntermediateDice()\n",
    "dice.roll()\n",
    "dice.roll()\n",
    "print(dice.get_roll_history())  # Might print [3, 5], for example\n"
   ]
  },
  {
   "cell_type": "code",
   "execution_count": 112,
   "metadata": {},
   "outputs": [
    {
     "name": "stdout",
     "output_type": "stream",
     "text": [
      "[2, 4, 5, 3, 2, 4, 4, 2]\n",
      "{'total_rolls': 8, 'average_roll': 3.25, 'max_roll': 5, 'min_roll': 2}\n"
     ]
    }
   ],
   "source": [
    "class AdvancedDice:\n",
    "    def __init__(self, num_dice=1, sides=6):\n",
    "        self.num_dice = num_dice\n",
    "        self.sides = sides\n",
    "        self.history = []\n",
    "\n",
    "    def roll(self):\n",
    "        results = [random.randint(1, self.sides) for _ in range(self.num_dice)]\n",
    "        self.history.extend(results)\n",
    "        return results\n",
    "\n",
    "    def get_roll_history(self):\n",
    "        return self.history\n",
    "\n",
    "    def get_summary(self):\n",
    "        return {\n",
    "            'total_rolls': len(self.history),\n",
    "            'average_roll': sum(self.history) / len(self.history),\n",
    "            'max_roll': max(self.history),\n",
    "            'min_roll': min(self.history)\n",
    "        }\n",
    "\n",
    "# Usage:\n",
    "dice = AdvancedDice(num_dice=2)\n",
    "dice.roll()\n",
    "dice.roll()\n",
    "dice.roll()\n",
    "dice.roll()\n",
    "print(dice.get_roll_history())  # Might print [3, 5, 2, 4], for example\n",
    "print(dice.get_summary())\n"
   ]
  },
  {
   "cell_type": "markdown",
   "metadata": {},
   "source": [
    "# Group By pandas"
   ]
  },
  {
   "cell_type": "code",
   "execution_count": 114,
   "metadata": {},
   "outputs": [
    {
     "name": "stdout",
     "output_type": "stream",
     "text": [
      "  Product  Sales\n",
      "0       A    100\n",
      "1       B    150\n",
      "2       A    200\n",
      "3       B     50\n",
      "4       A    300\n",
      "5       B    210\n",
      "6       A    400\n",
      "7       B     50\n",
      "         Sales\n",
      "Product       \n",
      "A         1000\n",
      "B          460\n"
     ]
    }
   ],
   "source": [
    "import pandas as pd\n",
    "\n",
    "data = {\n",
    "    'Product': ['A', 'B', 'A', 'B', 'A', 'B', 'A', 'B'],\n",
    "    'Sales': [100, 150, 200, 50, 300, 210, 400, 50]\n",
    "}\n",
    "\n",
    "df = pd.DataFrame(data)\n",
    "print(df)\n",
    "\n",
    "grouped = df.groupby('Product').sum()\n",
    "print(grouped)\n",
    "\n"
   ]
  },
  {
   "cell_type": "code",
   "execution_count": 115,
   "metadata": {},
   "outputs": [
    {
     "name": "stdout",
     "output_type": "stream",
     "text": [
      "        Sales                 \n",
      "          sum   mean  max  min\n",
      "Product                       \n",
      "A        1000  250.0  400  100\n",
      "B         460  115.0  210   50\n"
     ]
    }
   ],
   "source": [
    "grouped = df.groupby('Product').agg({'Sales': ['sum', 'mean', 'max', 'min']})\n",
    "print(grouped)\n"
   ]
  },
  {
   "cell_type": "markdown",
   "metadata": {},
   "source": [
    "# Numpy"
   ]
  },
  {
   "cell_type": "code",
   "execution_count": null,
   "metadata": {},
   "outputs": [
    {
     "data": {
      "text/plain": [
       "(array([1, 2, 3, 4, 5]),\n",
       " array([[0., 0.],\n",
       "        [0., 0.]]),\n",
       " array([[1., 1., 1.],\n",
       "        [1., 1., 1.],\n",
       "        [1., 1., 1.]]),\n",
       " array([0, 1, 2, 3, 4, 5, 6, 7, 8, 9]),\n",
       " array([0.  , 0.25, 0.5 , 0.75, 1.  ]),\n",
       " array([ 4, 10, 18]),\n",
       " 32,\n",
       " array([0.0000000e+00, 1.0000000e+00, 1.2246468e-16]),\n",
       " array([0.96380511, 0.96672175, 0.38667587, 0.96408699, 0.83195417]),\n",
       " array([1, 2, 7, 5, 3]))"
      ]
     },
     "metadata": {},
     "output_type": "display_data"
    }
   ],
   "source": [
    "import numpy as np\n",
    "# Showcase of some important NumPy functions\n",
    "\n",
    "# 1. Creating Arrays:\n",
    "arr_from_list = np.array([1, 2, 3, 4, 5])\n",
    "zeros_arr = np.zeros((2, 2))\n",
    "ones_arr = np.ones((3, 3))\n",
    "sequence_arr = np.arange(10)\n",
    "linspace_arr = np.linspace(0, 1, 5)\n",
    "\n",
    "# 2. Array Operations:\n",
    "a = np.array([1, 2, 3])\n",
    "b = np.array([4, 5, 6])\n",
    "elementwise_product = a * b\n",
    "matrix_product = a @ b\n",
    "\n",
    "# 3. Mathematical Functions:\n",
    "sin_values = np.sin(np.array([0, np.pi/2, np.pi]))\n",
    "\n",
    "# 4. Random Module:\n",
    "random_numbers = np.random.rand(5)\n",
    "random_integers = np.random.randint(1, 10, size=5)\n",
    "\n",
    "# Display the results\n",
    "arr_from_list, zeros_arr, ones_arr, sequence_arr, linspace_arr, elementwise_product, matrix_product, sin_values, random_numbers, random_integers\n",
    "\n"
   ]
  },
  {
   "cell_type": "code",
   "execution_count": null,
   "metadata": {},
   "outputs": [],
   "source": []
  },
  {
   "cell_type": "code",
   "execution_count": null,
   "metadata": {},
   "outputs": [],
   "source": []
  }
 ],
 "metadata": {
  "kernelspec": {
   "display_name": "Python 3",
   "language": "python",
   "name": "python3"
  },
  "language_info": {
   "codemirror_mode": {
    "name": "ipython",
    "version": 3
   },
   "file_extension": ".py",
   "mimetype": "text/x-python",
   "name": "python",
   "nbconvert_exporter": "python",
   "pygments_lexer": "ipython3",
   "version": "3.11.2"
  },
  "orig_nbformat": 4
 },
 "nbformat": 4,
 "nbformat_minor": 2
}
