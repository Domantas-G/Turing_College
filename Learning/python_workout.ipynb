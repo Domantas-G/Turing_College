{
 "cells": [
  {
   "cell_type": "code",
   "execution_count": 2,
   "metadata": {},
   "outputs": [
    {
     "data": {
      "text/plain": [
       "'x * 2 = 200, and y.capitalize() is Abcd'"
      ]
     },
     "execution_count": 2,
     "metadata": {},
     "output_type": "execute_result"
    }
   ],
   "source": [
    "name = 'world'\n",
    "x = 100\n",
    "y = 'abcd'\n",
    "f'x * 2 = {x*2}, and y.capitalize() is {y.capitalize()}'"
   ]
  },
  {
   "cell_type": "code",
   "execution_count": 7,
   "metadata": {},
   "outputs": [
    {
     "data": {
      "text/plain": [
       "45"
      ]
     },
     "execution_count": 7,
     "metadata": {},
     "output_type": "execute_result"
    }
   ],
   "source": [
    "# Exercise 2 ■ Summing numbers\n",
    "# sum([1,2,3]) would be equivalent to mysum(1,2,3)\n",
    "def mysum(*numbers):\n",
    "  output = 0\n",
    "  for number in numbers:\n",
    "    output += number\n",
    "  return output\n",
    "\n",
    "\"\"\"Python will iterate over our one-element tuple, trying to add 0 to [1,2,3]. This will result in a TypeError exception, with Python complaining that it can’t add an integer to a list.\n",
    "The solution in such a case is to preface the argument with * when we invoke the function. If we call mysum(*[1,2,3]), our list becomes three separate arguments, which will then allow the function to be called in the usual way.\n",
    "\"\"\"\n",
    "\n",
    "# print(mysum(10, 20, 30, 40)) # 100\n",
    "new_list = [1, 2, 3, 4, 5, 6, 7, 8, 9]\n",
    "# mysum(new_list) # Type error because it needs to unpack the list\n",
    "mysum(*new_list) # 45"
   ]
  },
  {
   "cell_type": "code",
   "execution_count": 9,
   "metadata": {},
   "outputs": [
    {
     "data": {
      "text/plain": [
       "50"
      ]
     },
     "execution_count": 9,
     "metadata": {},
     "output_type": "execute_result"
    }
   ],
   "source": [
    "# Bonus - starting point added\n",
    "def mysum(*numbers, starting_value=0):\n",
    "  output = starting_value\n",
    "  for number in numbers:\n",
    "    output += number\n",
    "  return output\n",
    "\n",
    "new_list = [1, 2, 3, 4, 5, 6, 7, 8, 9]\n",
    "mysum(*new_list, 5) # 45 + 5"
   ]
  },
  {
   "cell_type": "code",
   "execution_count": 13,
   "metadata": {},
   "outputs": [
    {
     "data": {
      "text/plain": [
       "5.0"
      ]
     },
     "execution_count": 13,
     "metadata": {},
     "output_type": "execute_result"
    }
   ],
   "source": [
    "# Bonus - returns average\n",
    "def average_calc(*numbers):\n",
    "  total = 0\n",
    "  for number in numbers:\n",
    "    total += number\n",
    "  average_val = total / len(numbers)\n",
    "  return average_val\n",
    "\n",
    "new_list = [1, 2, 3, 4, 5, 6, 7, 8, 9]\n",
    "average_calc(*new_list) # 5\n",
    "sum(new_list) / len(new_list) # 5\n"
   ]
  },
  {
   "cell_type": "code",
   "execution_count": 45,
   "metadata": {},
   "outputs": [
    {
     "data": {
      "text/plain": [
       "(5, 9, 6.2)"
      ]
     },
     "execution_count": 45,
     "metadata": {},
     "output_type": "execute_result"
    }
   ],
   "source": [
    "# Bonus - Write a function that takes a list of words (strings). It should return a tuple containing three integers, representing the length of the shortest word, the length of the longest word, and the average word length.\n",
    "def analyze_word_lengths(*words):\n",
    "    # if not words:\n",
    "        # return 0, 0, 0  # Return default values if no words are provided\n",
    "\n",
    "    # When you start comparing actual word lengths to float('inf'), any positive integer (i.e., word length) will be smaller, and the comparison will correctly identify the shortest word. Otherwise no value will be lower than 0 when comparing actual word lengths. \n",
    "    shortest_word_length = float('inf')\n",
    "    longest_word_length = 0\n",
    "    total_word_length = 0\n",
    "\n",
    "    for word in words:\n",
    "        word_length = len(word)\n",
    "        shortest_word_length = min(shortest_word_length, word_length)\n",
    "        longest_word_length = max(longest_word_length, word_length)\n",
    "        total_word_length += word_length\n",
    "\n",
    "    average_word_length = total_word_length / len(words)\n",
    "\n",
    "    return shortest_word_length, longest_word_length, average_word_length\n",
    "\n",
    "word_list = ['apple', 'banana', 'grape', 'orange', 'pineapple']\n",
    "analyze_word_lengths(*word_list)"
   ]
  },
  {
   "cell_type": "code",
   "execution_count": 52,
   "metadata": {},
   "outputs": [
    {
     "name": "stdout",
     "output_type": "stream",
     "text": [
      "Sum of integers: 50\n"
     ]
    }
   ],
   "source": [
    "# Bonus - Write a function that takes a list of Python objects. Sum the objects that either are integers or can be turned into integers, ignoring the others.\n",
    "\n",
    "def sum_integers(*objects):\n",
    "  total = 0\n",
    "  \n",
    "  for obj in objects:\n",
    "    try:\n",
    "      total += int(obj) # Try to convert the object to an integer\n",
    "    except ValueError:\n",
    "      pass # Fail silently and ignore objects that can't be converted to integers\n",
    "    # except ValueError as e:\n",
    "    #   print(\"Hey! That's not a valid number!\")\n",
    "  \n",
    "  return total\n",
    "\n",
    "object_list = [10, '15', 5.5, '20', 'hello']\n",
    "result = sum_integers(*object_list)\n",
    "print(\"Sum of integers:\", result)\n"
   ]
  },
  {
   "cell_type": "code",
   "execution_count": 4,
   "metadata": {},
   "outputs": [],
   "source": [
    "# Exercise 3 - Run timing\n",
    "def run_timing():\n",
    "  \n",
    "  number_of_runs = 0\n",
    "  total_time = 0\n",
    "\n",
    "  while True:\n",
    "    one_run = input('Enter 10 km run time: ').stip()\n",
    "    \n",
    "    if not one_run: # 'not' in this case implies False / Not True\n",
    "      break\n",
    "  \n",
    "    number_of_runs += 1\n",
    "    total_time += float(one_run)\n",
    "  \n",
    "  average_time = total_time / number_of_runs\n",
    "  \n",
    "  print(f'Average of {average_time}, over {number_of_runs} runs')\n",
    "  \n",
    "run_timing()"
   ]
  },
  {
   "cell_type": "code",
   "execution_count": 1,
   "metadata": {},
   "outputs": [],
   "source": [
    "def run_timing():\n",
    "    \"\"\"Asks the user repeatedly for numeric input. Prints the average time and number of runs.\"\"\"\n",
    " \n",
    "    number_of_runs = 0\n",
    "    total_time = 0\n",
    " \n",
    "    while True:\n",
    "         one_run = input('Enter 10 km run time: ')\n",
    " \n",
    "         if not one_run:\n",
    "             break\n",
    " \n",
    "         number_of_runs += 1\n",
    "         total_time += float(one_run)\n",
    " \n",
    "    average_time = total_time / number_of_runs\n",
    " \n",
    "    print(f'Average of {average_time}, over {number_of_runs} runs')\n"
   ]
  },
  {
   "cell_type": "code",
   "execution_count": 3,
   "metadata": {},
   "outputs": [
    {
     "ename": "ZeroDivisionError",
     "evalue": "division by zero",
     "output_type": "error",
     "traceback": [
      "\u001b[0;31m---------------------------------------------------------------------------\u001b[0m",
      "\u001b[0;31mZeroDivisionError\u001b[0m                         Traceback (most recent call last)",
      "Cell \u001b[0;32mIn[3], line 1\u001b[0m\n\u001b[0;32m----> 1\u001b[0m run_timing()\n",
      "Cell \u001b[0;32mIn[1], line 16\u001b[0m, in \u001b[0;36mrun_timing\u001b[0;34m()\u001b[0m\n\u001b[1;32m     13\u001b[0m      number_of_runs \u001b[39m+\u001b[39m\u001b[39m=\u001b[39m \u001b[39m1\u001b[39m\n\u001b[1;32m     14\u001b[0m      total_time \u001b[39m+\u001b[39m\u001b[39m=\u001b[39m \u001b[39mfloat\u001b[39m(one_run)\n\u001b[0;32m---> 16\u001b[0m average_time \u001b[39m=\u001b[39m total_time \u001b[39m/\u001b[39;49m number_of_runs\n\u001b[1;32m     18\u001b[0m \u001b[39mprint\u001b[39m(\u001b[39mf\u001b[39m\u001b[39m'\u001b[39m\u001b[39mAverage of \u001b[39m\u001b[39m{\u001b[39;00maverage_time\u001b[39m}\u001b[39;00m\u001b[39m, over \u001b[39m\u001b[39m{\u001b[39;00mnumber_of_runs\u001b[39m}\u001b[39;00m\u001b[39m runs\u001b[39m\u001b[39m'\u001b[39m)\n",
      "\u001b[0;31mZeroDivisionError\u001b[0m: division by zero"
     ]
    }
   ],
   "source": [
    "run_timing()"
   ]
  },
  {
   "cell_type": "code",
   "execution_count": null,
   "metadata": {},
   "outputs": [],
   "source": [
    "# Exercise 4 ■ Hexadecimal output\n",
    "# reversed and enumerate\n",
    "def hex_output():\n",
    "    decnum = 0\n",
    "    hexnum = input('Enter a hex number to convert: ')\n",
    "    for power, digit in enumerate(reversed(hexnum)):\n",
    "         decnum += int(digit, 16) * (16 ** power)\n",
    "    print(decnum)\n",
    " \n",
    "hex_output()\n"
   ]
  },
  {
   "cell_type": "code",
   "execution_count": 1,
   "metadata": {},
   "outputs": [
    {
     "name": "stdout",
     "output_type": "stream",
     "text": [
      "inner: nonlocal\n",
      "outer: nonlocal\n"
     ]
    }
   ],
   "source": [
    "def outer():\n",
    "    x = \"local\"\n",
    "    def inner():\n",
    "        nonlocal x  # this will change x in outer scope\n",
    "        x = \"nonlocal\"\n",
    "        print(\"inner:\", x)\n",
    "    inner()\n",
    "    print(\"outer:\", x)\n",
    "\n",
    "outer()\n"
   ]
  },
  {
   "cell_type": "code",
   "execution_count": 5,
   "metadata": {},
   "outputs": [
    {
     "name": "stdout",
     "output_type": "stream",
     "text": [
      "I ubam Wubeubasubel\n"
     ]
    }
   ],
   "source": [
    "def ubbi_dubbi(word):\n",
    "    output = []\n",
    "    for letter in word:\n",
    "        if letter in 'aeiou':\n",
    "            output.append(f'ub{letter}')\n",
    "        else:\n",
    "            output.append(letter)\n",
    " \n",
    "    return ''.join(output)\n",
    "    # return output\n",
    " \n",
    "print(ubbi_dubbi('I am Weasel'))"
   ]
  },
  {
   "cell_type": "code",
   "execution_count": 11,
   "metadata": {},
   "outputs": [
    {
     "name": "stdout",
     "output_type": "stream",
     "text": [
      "[' ', ' ', 'I', 'W', 'a', 'a', 'e', 'e', 'l', 'm', 's']\n",
      "  IWaaeelms\n"
     ]
    }
   ],
   "source": [
    "a_string = 'I am Weasel'\n",
    "\n",
    "print(sorted(a_string.strip()))\n",
    "print(''.join(sorted(a_string)))"
   ]
  },
  {
   "cell_type": "markdown",
   "metadata": {},
   "source": [
    "# Lists and Tuples"
   ]
  },
  {
   "cell_type": "markdown",
   "metadata": {},
   "source": []
  },
  {
   "cell_type": "code",
   "execution_count": 13,
   "metadata": {},
   "outputs": [
    {
     "ename": "AttributeError",
     "evalue": "'str' object has no attribute 'itemgetter'",
     "output_type": "error",
     "traceback": [
      "\u001b[0;31m---------------------------------------------------------------------------\u001b[0m",
      "\u001b[0;31mAttributeError\u001b[0m                            Traceback (most recent call last)",
      "Cell \u001b[0;32mIn[13], line 4\u001b[0m\n\u001b[1;32m      1\u001b[0m final \u001b[39m=\u001b[39m \u001b[39m'\u001b[39m\u001b[39mabcd\u001b[39m\u001b[39m'\u001b[39m\n\u001b[1;32m      2\u001b[0m \u001b[39m# final('abcd') == 'd'\u001b[39;00m\n\u001b[0;32m----> 4\u001b[0m final\u001b[39m.\u001b[39;49mitemgetter(\u001b[39m-\u001b[39m\u001b[39m1\u001b[39m)\n",
      "\u001b[0;31mAttributeError\u001b[0m: 'str' object has no attribute 'itemgetter'"
     ]
    }
   ],
   "source": [
    "final = 'abcd'\n",
    "# final('abcd') == 'd'\n",
    "\n",
    "final.itemgetter(-1)"
   ]
  },
  {
   "cell_type": "code",
   "execution_count": 26,
   "metadata": {},
   "outputs": [
    {
     "name": "stdout",
     "output_type": "stream",
     "text": [
      "Counter({'apple': 3, 'banana': 2, 'orange': 1})\n",
      "Counter({'a': 2, 'b': 2, 'c': 1, 'd': 1})\n"
     ]
    }
   ],
   "source": [
    "from collections import Counter\n",
    "fruits = ['apple', 'banana', 'apple', 'orange', 'banana', 'apple']\n",
    "fruit_counts = Counter(fruits)\n",
    "print(fruit_counts)\n",
    "print(Counter('abcdab'))"
   ]
  },
  {
   "cell_type": "code",
   "execution_count": 33,
   "metadata": {},
   "outputs": [
    {
     "name": "stdout",
     "output_type": "stream",
     "text": [
      "[('apple', 3), ('banana', 2), ('orange', 1)]\n",
      "('B', 'D', 'F')\n",
      "('o', 'm')\n"
     ]
    }
   ],
   "source": [
    "# itemgetter\n",
    "# itemgetter is a function in the operator module that fetches a specified index (like a list) or key (like a dictionary) from its operand.\n",
    "from operator import itemgetter\n",
    "\n",
    "data = [('apple', 3), ('banana', 2), ('orange', 1)]\n",
    "sorted_data = sorted(data, key=itemgetter(1), reverse=True)\n",
    "print(sorted_data)\n",
    "\n",
    "print(itemgetter(1, 3, 5)('ABCDEFG'))\n",
    "\n",
    "data2 = 'Some Random String'\n",
    "new_data = itemgetter(1, 2)(data2)\n",
    "print(new_data)\n"
   ]
  },
  {
   "cell_type": "code",
   "execution_count": 45,
   "metadata": {},
   "outputs": [
    {
     "name": "stdout",
     "output_type": "stream",
     "text": [
      "ac\n",
      "[1, 4]\n"
     ]
    }
   ],
   "source": [
    "# Exercise 9\n",
    "# when you retrieve a slice from an object x, you get back a new object of the same type as x\n",
    "def firstlast(input_str: str):\n",
    "  # length = len(input_str)\n",
    "  first = input_str[:1]\n",
    "  last = input_str[-1:]\n",
    "  \n",
    "  return first + last\n",
    "\n",
    "# More elegant:\n",
    "def firstlast(sequence: str):\n",
    "  return sequence[:1] + sequence[-1:]\n",
    "\n",
    "\n",
    "print(firstlast('abc'))\n",
    "print(firstlast([1,2,3,4]))\n",
    "\n",
    "# To iterate over just the final n elements of a list. When I remind them that they can do this with the slice mylist[-3:] and a for loop"
   ]
  },
  {
   "cell_type": "code",
   "execution_count": 49,
   "metadata": {},
   "outputs": [
    {
     "name": "stdout",
     "output_type": "stream",
     "text": [
      "[11, 12, 13]\n",
      "11\n",
      "12\n",
      "13\n"
     ]
    }
   ],
   "source": [
    "mylist = [1,2,3,4,5,6,7,8,9,10,11,12,13]\n",
    "print(mylist[-3:])\n",
    "for item in mylist[-3:]:\n",
    "  print(item)"
   ]
  },
  {
   "cell_type": "code",
   "execution_count": 51,
   "metadata": {},
   "outputs": [
    {
     "data": {
      "text/plain": [
       "[90, 120]"
      ]
     },
     "execution_count": 51,
     "metadata": {},
     "output_type": "execute_result"
    }
   ],
   "source": [
    "def even_odd_sums(data):\n",
    "  odds = sum(data[::2])\n",
    "  evens = sum(data[1::2])\n",
    "  # Alternative solution\n",
    "  # even_sum = sum(numbers[i] for i in range(0, len(numbers), 2))\n",
    "  # odd_sum = sum(numbers[i] for i in range(1, len(numbers), 2))\n",
    "  return [odds, evens]\n",
    "\n",
    "even_odd_sums([10, 20, 30, 40, 50, 60])\n",
    "\n"
   ]
  },
  {
   "cell_type": "code",
   "execution_count": 52,
   "metadata": {},
   "outputs": [
    {
     "data": {
      "text/plain": [
       "50"
      ]
     },
     "execution_count": 52,
     "metadata": {},
     "output_type": "execute_result"
    }
   ],
   "source": [
    "def plus_minus(numbers):\n",
    "    result = numbers[0]  # Start with the first number\n",
    "    for i in range(1, len(numbers)):\n",
    "        if i % 2 == 0:  # even index\n",
    "            result -= numbers[i]\n",
    "        else:  # odd index\n",
    "            result += numbers[i]\n",
    "    return result\n",
    "\n",
    "# Testing the corrected function\n",
    "result = plus_minus([10, 20, 30, 40, 50, 60])\n",
    "result\n"
   ]
  },
  {
   "cell_type": "code",
   "execution_count": 58,
   "metadata": {},
   "outputs": [
    {
     "name": "stdout",
     "output_type": "stream",
     "text": [
      "()\n",
      "100\n",
      "abcd\n",
      "[10, 20, 30, 40, 50, 60, 70, 80]\n"
     ]
    }
   ],
   "source": [
    "# Exercise 10 ■ Summing anything\n",
    "def mysum(*items):\n",
    "  if not items:\n",
    "    return items\n",
    "  \n",
    "  output = items[0]\n",
    "  \n",
    "  for item in items[1:]:\n",
    "    output += item\n",
    "  return output\n",
    "\n",
    "print(mysum())\n",
    "print(mysum(10, 20, 30, 40))\n",
    "print(mysum('a', 'b', 'c', 'd'))\n",
    "print(mysum([10, 20, 30], [40, 50, 60], [70, 80]))"
   ]
  },
  {
   "cell_type": "code",
   "execution_count": 60,
   "metadata": {},
   "outputs": [
    {
     "data": {
      "text/plain": [
       "50"
      ]
     },
     "execution_count": 60,
     "metadata": {},
     "output_type": "execute_result"
    }
   ],
   "source": [
    "# 1. mysum_bigger_than function\n",
    "def mysum_bigger_than(threshold, *args):\n",
    "    return sum(arg for arg in args if arg > threshold)\n",
    "\n",
    "# Testing the mysum_bigger_than function\n",
    "test_mysum_bigger_than = mysum_bigger_than(10, 5, 20, 30, 6)\n",
    "test_mysum_bigger_than"
   ]
  },
  {
   "cell_type": "code",
   "execution_count": 61,
   "metadata": {},
   "outputs": [
    {
     "data": {
      "text/plain": [
       "60"
      ]
     },
     "execution_count": 61,
     "metadata": {},
     "output_type": "execute_result"
    }
   ],
   "source": [
    "# 2. sum_numeric function\n",
    "def sum_numeric(*args):\n",
    "    total = 0\n",
    "    for arg in args:\n",
    "        try:\n",
    "            total += int(arg)\n",
    "        except ValueError:\n",
    "            pass  # Ignore the argument if it can't be converted to an integer\n",
    "    return total\n",
    "\n",
    "# Testing the sum_numeric function\n",
    "test_sum_numeric = sum_numeric(10, 20, 'a', '30', 'bcd')\n",
    "test_sum_numeric"
   ]
  },
  {
   "cell_type": "code",
   "execution_count": 62,
   "metadata": {},
   "outputs": [
    {
     "data": {
      "text/plain": [
       "{'a': [1, 5], 'b': [2, 3], 'c': 4}"
      ]
     },
     "execution_count": 62,
     "metadata": {},
     "output_type": "execute_result"
    }
   ],
   "source": [
    "# 3. Function to merge list of dicts\n",
    "def merge_dicts(dict_list):\n",
    "    merged_dict = {}\n",
    "    for d in dict_list:\n",
    "        for key, value in d.items():\n",
    "            if key in merged_dict:\n",
    "                if isinstance(merged_dict[key], list):\n",
    "                    merged_dict[key].append(value)\n",
    "                else:\n",
    "                    merged_dict[key] = [merged_dict[key], value]\n",
    "            else:\n",
    "                merged_dict[key] = value\n",
    "    return merged_dict\n",
    "\n",
    "# Testing the merge_dicts function\n",
    "test_dicts = [{'a': 1, 'b': 2}, {'b': 3, 'c': 4}, {'a': 5}]\n",
    "test_merge_dicts = merge_dicts(test_dicts)\n",
    "test_merge_dicts"
   ]
  },
  {
   "cell_type": "code",
   "execution_count": 77,
   "metadata": {},
   "outputs": [
    {
     "name": "stdout",
     "output_type": "stream",
     "text": [
      "Lerner, Reuven: reuven@lerner.co.il\n",
      "Trump, Donald: president@whitehouse.gov\n",
      "Putin, Vladimir: president@kremvax.ru\n",
      "['j', 'hi', 'efg', 'abcd']\n",
      "[{'first': 'Reuven', 'last': 'Lerner', 'email': 'reuven@lerner.co.il'}, {'first': 'Vladimir', 'last': 'Putin', 'email': 'president@kremvax.ru'}, {'first': 'Donald', 'last': 'Trump', 'email': 'president@whitehouse.gov'}]\n",
      "Lerner, Reuven: reuven@lerner.co.il\n",
      "Putin, Vladimir: president@kremvax.ru\n",
      "Trump, Donald: president@whitehouse.gov\n"
     ]
    }
   ],
   "source": [
    "# Exercise 11 ■ Alphabetizing names\n",
    "\n",
    "PEOPLE = [{'first':'Reuven', \n",
    "           'last':'Lerner',\n",
    "           'email':'reuven@lerner.co.il'},\n",
    "         {'first':'Donald', \n",
    "          'last':'Trump',\n",
    "          'email':'president@whitehouse.gov'},\n",
    "        {'first':'Vladimir', \n",
    "         'last':'Putin',\n",
    "         'email':'president@kremvax.ru'}\n",
    "      ]\n",
    "\n",
    "for person in PEOPLE:\n",
    "    print(f'{person[\"last\"]}, {person[\"first\"]}: {person[\"email\"]}')\n",
    "\n",
    "mylist = ['abcd', 'efg', 'hi', 'j']\n",
    "mylist = sorted(mylist, key=len)\n",
    "print(mylist)\n",
    "\n",
    "def person_dict_to_list(d):\n",
    "    return [d['last'], d['first']]\n",
    "\n",
    "# person_dict_to_list(PEOPLE) # Gives error\n",
    "\n",
    "print(sorted(PEOPLE, key=person_dict_to_list))\n",
    "\n",
    "for p in sorted(PEOPLE,\n",
    "                key=lambda x: [x['last'], x['first']]):\n",
    "    print(f'{p[\"last\"]}, {p[\"first\"]}: {p[\"email\"]}')\n",
    "\n",
    "\n",
    "\n",
    "# def alphabetize_names():\n",
    "#   global PEOPLE\n",
    "#   PEOPLE_sorted = sorted(PEOPLE, key=getattr([1, 0]))\n",
    "#   return print(PEOPLE_sorted)\n",
    "\n",
    "# alphabetize_names()"
   ]
  },
  {
   "cell_type": "code",
   "execution_count": 58,
   "metadata": {},
   "outputs": [
    {
     "name": "stdout",
     "output_type": "stream",
     "text": [
      "Lerner, Reuven: reuven@lerner.co.il\n",
      "Putin, Vladimir: president@kremvax.ru\n",
      "Trump, Donald: president@whitehouse.gov\n"
     ]
    }
   ],
   "source": [
    "PEOPLE = [{'first':'Reuven', \n",
    "           'last':'Lerner',\n",
    "           'email':'reuven@lerner.co.il'},\n",
    "         {'first':'Donald', \n",
    "          'last':'Trump',\n",
    "          'email':'president@whitehouse.gov'},\n",
    "        {'first':'Vladimir', \n",
    "         'last':'Putin',\n",
    "         'email':'president@kremvax.ru'}\n",
    "      ]\n",
    "\n",
    "# Works\n",
    "# for person in PEOPLE:\n",
    "    # print(f'{person[\"last\"]}, {person[\"first\"]}: {person[\"email\"]}')\n",
    "\n",
    "\n",
    "for p in sorted(PEOPLE,\n",
    "                key=lambda x: [x['last'], x['first']]):\n",
    "    print(f'{p[\"last\"]}, {p[\"first\"]}: {p[\"email\"]}')\n"
   ]
  },
  {
   "cell_type": "code",
   "execution_count": 60,
   "metadata": {},
   "outputs": [
    {
     "name": "stdout",
     "output_type": "stream",
     "text": [
      "[['Lerner', 'Reuven'], ['Trump', 'Donald'], ['Putin', 'Vladimir']]\n"
     ]
    }
   ],
   "source": [
    "def person_dict_to_list(d):\n",
    "    return [d['last'], d['first']]\n",
    "\n",
    "people_list = [person_dict_to_list(person) for person in PEOPLE]\n",
    "# people_list = person_dict_to_list(person)\n",
    "\n",
    "print(people_list)\n"
   ]
  },
  {
   "cell_type": "code",
   "execution_count": 80,
   "metadata": {},
   "outputs": [
    {
     "name": "stdout",
     "output_type": "stream",
     "text": [
      "('c', 'e')\n",
      "(30, 50)\n",
      "operator.itemgetter(2, 4)\n"
     ]
    }
   ],
   "source": [
    "import operator\n",
    "\n",
    "s = 'abcdef'\n",
    "t = (10, 20, 30, 40, 50, 60)\n",
    "get_2_and_4 = operator.itemgetter(2, 4)\n",
    "print(get_2_and_4) # get_2_and_4 item getter returns a function\n",
    "print(get_2_and_4(s))\n",
    "print(get_2_and_4(t))"
   ]
  },
  {
   "cell_type": "code",
   "execution_count": 81,
   "metadata": {},
   "outputs": [
    {
     "name": "stdout",
     "output_type": "stream",
     "text": [
      "Lerner, Reuven: reuven@lerner.co.il\n",
      "Putin, Vladimir: president@kremvax.ru\n",
      "Trump, Donald: president@whitehouse.gov\n"
     ]
    }
   ],
   "source": [
    "from operator import itemgetter\n",
    "for p in sorted(PEOPLE,\n",
    "                key=itemgetter('last', 'first')):\n",
    "    print(f'{p[\"last\"]}, {p[\"first\"]}: {p[\"email\"]}')\n"
   ]
  },
  {
   "cell_type": "code",
   "execution_count": 85,
   "metadata": {},
   "outputs": [
    {
     "name": "stdout",
     "output_type": "stream",
     "text": [
      "[{'first': 'Reuven', 'last': 'Lerner', 'email': 'reuven@lerner.co.il'}, {'first': 'Vladimir', 'last': 'Putin', 'email': 'president@kremvax.ru'}, {'first': 'Donald', 'last': 'Trump', 'email': 'president@whitehouse.gov'}]\n"
     ]
    }
   ],
   "source": [
    "# Solution:\n",
    "PEOPLE = [{'first':'Reuven', \n",
    "           'last':'Lerner',\n",
    "           'email':'reuven@lerner.co.il'},\n",
    "         {'first':'Donald', \n",
    "          'last':'Trump',\n",
    "          'email':'president@whitehouse.gov'},\n",
    "        {'first':'Vladimir', \n",
    "         'last':'Putin',\n",
    "         'email':'president@kremvax.ru'}\n",
    "]\n",
    "\n",
    "# def alphabetize_names(some_people):\n",
    "#   for p in sorted(some_people,\n",
    "#                 key=itemgetter('last', 'first')):\n",
    "#     print(f'{p[\"last\"]}, {p[\"first\"]}: {p[\"email\"]}')\n",
    "\n",
    "def alphabetize_names(list_of_dicts):\n",
    "    return sorted(list_of_dicts,\n",
    "        key=operator.itemgetter('last', 'first'))\n",
    "\n",
    "print(alphabetize_names(PEOPLE))"
   ]
  },
  {
   "cell_type": "code",
   "execution_count": 25,
   "metadata": {},
   "outputs": [
    {
     "name": "stdout",
     "output_type": "stream",
     "text": [
      "Hello, world\n"
     ]
    }
   ],
   "source": [
    "def run_func_with_world(f):\n",
    "    return f('world')\n",
    " \n",
    "print(run_func_with_world(lambda name: f'Hello, {name}'))\n"
   ]
  },
  {
   "cell_type": "code",
   "execution_count": 44,
   "metadata": {},
   "outputs": [
    {
     "name": "stdout",
     "output_type": "stream",
     "text": [
      "1\n",
      "elementary\n",
      "elementary\n"
     ]
    },
    {
     "data": {
      "text/plain": [
       "'elementary'"
      ]
     },
     "execution_count": 44,
     "metadata": {},
     "output_type": "execute_result"
    }
   ],
   "source": [
    "# Exercise 12 ■ Word with most repeated letters\n",
    "from collections import Counter\n",
    "\n",
    "words = ['this', 'is', 'an', 'elementary', 'test', 'example']\n",
    "  \n",
    "def most_repeating_letter_count(word):\n",
    "  # return 1st tuples 1st element's value\n",
    "    return Counter(word).most_common(1)[0][1]\n",
    "\n",
    "print(most_repeating_letter_count(words))\n",
    "\n",
    "sorting_words_by_letter_count = sorted(words, key=most_repeating_letter_count)\n",
    "print(sorting_words_by_letter_count[-1])\n",
    "\n",
    "\n",
    "def most_repeating_word(words):\n",
    "    # return max(words, key=most_repeating_letter_count)\n",
    "    return sorted(words, key=most_repeating_letter_count)[-1]\n",
    "\n",
    "print(most_repeating_word(words))\n",
    "\n",
    "def most_repeating_word_standalone(words):\n",
    "    return max(words, key=(lambda word: Counter(word).most_common(1)[0][1]))\n",
    "    \n",
    "most_repeating_word_standalone(words)\n",
    "\n"
   ]
  },
  {
   "cell_type": "code",
   "execution_count": 52,
   "metadata": {},
   "outputs": [
    {
     "name": "stdout",
     "output_type": "stream",
     "text": [
      "Counter()\n"
     ]
    }
   ],
   "source": [
    "# Extention:\n",
    "from collections import Counter\n",
    "\n",
    "words = ['this', 'is', 'an', 'elementary', 'test', 'example']\n",
    "vowels = 'aeiou'\n",
    "\n",
    "def most_repeating_vowel_count(word):\n",
    "    # Count only vowels in the word and return the maximum count\n",
    "    vowel_counts = Counter(letter for letter in word if letter in vowels)\n",
    "    return max(vowel_counts.values(), default=0)  # default=0 handles words with no vowels\n",
    "\n",
    "print(most_repeating_vowel_count(words))\n",
    "\n",
    "def most_repeating_word(words):\n",
    "    return max(words, key=most_repeating_vowel_count)\n",
    "\n",
    "# This will print the word with the highest count of any single repeating vowel\n",
    "print(most_repeating_word(words))\n"
   ]
  },
  {
   "cell_type": "code",
   "execution_count": 54,
   "metadata": {},
   "outputs": [
    {
     "data": {
      "text/plain": [
       "[1, 1, 1, 3, 1, 2]"
      ]
     },
     "execution_count": 54,
     "metadata": {},
     "output_type": "execute_result"
    }
   ],
   "source": [
    "from collections import Counter\n",
    "\n",
    "# Define the list of words and vowels\n",
    "words = ['this', 'is', 'an', 'elementary', 'test', 'example']\n",
    "vowels = 'aeiou'\n",
    "\n",
    "# Function to count the most repeated vowel in a word\n",
    "def most_repeating_vowel_count(word):\n",
    "    vowel_counts = Counter(letter for letter in word if letter in vowels)\n",
    "    return max(vowel_counts.values(), default=0)  # default=0 for words without vowels\n",
    "\n",
    "# Applying the function to each word\n",
    "repeating_vowel_counts = [most_repeating_vowel_count(word) for word in words]\n",
    "\n",
    "repeating_vowel_counts\n"
   ]
  },
  {
   "cell_type": "code",
   "execution_count": 45,
   "metadata": {},
   "outputs": [
    {
     "name": "stdout",
     "output_type": "stream",
     "text": [
      "['Putin      Vladimir    3.63', 'Trump      Donald      7.85', 'Xi         Jinping    10.60']\n",
      "Putin      Vladimir    3.63\n",
      "Trump      Donald      7.85\n",
      "Xi         Jinping    10.60\n"
     ]
    }
   ],
   "source": [
    "# Exercise 13\n",
    "import operator\n",
    "PEOPLE = [('Donald', 'Trump', 7.85),\n",
    "          ('Vladimir', 'Putin', 3.626),\n",
    "          ('Jinping', 'Xi', 10.603)]\n",
    " \n",
    "def format_sort_records(list_of_tuples):\n",
    "    output = []\n",
    "    \"\"\"person is a tuple, and that *person, when passed to a function, becomes not a tuple, but the elements of that tuple.\n",
    "    This means that we’re passing three separate arguments to str.format, which we can access via {0}, {1}, and {2}.\"\"\"\n",
    "    template = '{1:10} {0:10} {2:5.2f}'\n",
    "    for person in sorted(list_of_tuples,\n",
    "            key=operator.itemgetter(1, 0)):\n",
    " \n",
    "        output.append(template.format(*person))\n",
    "    return output\n",
    " \n",
    "print(format_sort_records(PEOPLE))\n",
    "print('\\n'.join(format_sort_records(PEOPLE)))\n"
   ]
  },
  {
   "cell_type": "code",
   "execution_count": 21,
   "metadata": {},
   "outputs": [
    {
     "name": "stdout",
     "output_type": "stream",
     "text": [
      "[0, 1, 2]\n",
      "[2, 3, 4]\n",
      "[4, 5, 6]\n",
      "[6, 7, 8]\n"
     ]
    }
   ],
   "source": [
    "import tensorflow as tf\n",
    "\n",
    "# tf.data.Dataset.window\n",
    "\n",
    "data = [1, 2, 3, 4, 5]\n",
    "dataset = tf.data.Dataset.from_tensor_slices(data)\n",
    "\n",
    "# for element in dataset:\n",
    "    # print(element.numpy())\n",
    "\n",
    "# batched_data = []\n",
    "# for element in dataset:\n",
    "#     batched_data.append(element.numpy().tolist())\n",
    "\n",
    "# print(batched_data)\n",
    "\n",
    "\n",
    "\n",
    "# dataset = tf.data.Dataset.range(7).window(3)\n",
    "# for window in dataset:\n",
    "#   print(window.numpy())\n",
    "    # print(window) \n",
    "\n",
    "\n",
    "dataset = tf.data.Dataset.range(10).window(size=3, shift=2, stride=1,\n",
    "                                          drop_remainder=True)\n",
    "\n",
    "for window in dataset:\n",
    "  print(list(window.as_numpy_iterator()))\n"
   ]
  },
  {
   "cell_type": "markdown",
   "metadata": {},
   "source": [
    "# 4 Dictionaries and sets"
   ]
  },
  {
   "cell_type": "code",
   "execution_count": null,
   "metadata": {},
   "outputs": [],
   "source": []
  },
  {
   "cell_type": "code",
   "execution_count": null,
   "metadata": {},
   "outputs": [],
   "source": []
  },
  {
   "cell_type": "code",
   "execution_count": null,
   "metadata": {},
   "outputs": [],
   "source": []
  },
  {
   "cell_type": "code",
   "execution_count": null,
   "metadata": {},
   "outputs": [],
   "source": []
  },
  {
   "cell_type": "code",
   "execution_count": null,
   "metadata": {},
   "outputs": [],
   "source": []
  },
  {
   "cell_type": "code",
   "execution_count": null,
   "metadata": {},
   "outputs": [],
   "source": []
  },
  {
   "cell_type": "markdown",
   "metadata": {},
   "source": [
    "# 10 Iterators and generators\n",
    "From this, we can see that while strings, lists, and dicts are iterable, integers aren’t. They aren’t because they don’t implement the iterator protocol, which consists of three parts:\n",
    "* The __iter__ method, which returns an iterator\n",
    "* The __next__ method, which must be defined on the iterator  \n",
    "The StopIteration exception, which the iterator raises to signal the end of the iterations\n",
    "\n",
    "Given those three parts, we can now understand what a for loop really does:\n",
    "* It asks an object whether it’s iterable using the iter built-in function (http:// mng.bz/jgja). This function invokes the __iter__ method on the target object. Whatever __iter__ returns is called the iterator.\n",
    "* If the object is iterable, then the for loop invokes the next built-in function on the iterator that was returned. That function invokes __next__ on the iterator.\n",
    "* If __next__ raises a Stopiteration exception, then the loop exits.\n",
    "\n",
    "If you’re defining a new class, you can make it iterable as follows:\n",
    "* Define an __iter__ method that takes only self as an argument and returns self. In other words, when Python asks your object, “Are you iterable?” the answer will be, “Yes, and I’m my own iterator.”\n",
    "* Define a __next__ method that takes only self as an argument. This method should either return a value or raise StopIteration. If it never returns StopIteration, then any for loop on this object will never exit\n",
    "\n"
   ]
  },
  {
   "cell_type": "code",
   "execution_count": 61,
   "metadata": {},
   "outputs": [
    {
     "name": "stdout",
     "output_type": "stream",
     "text": [
      "a\n",
      "b\n",
      "c\n",
      "d\n"
     ]
    }
   ],
   "source": [
    "for i in 'abcd':\n",
    "    print(i)"
   ]
  },
  {
   "cell_type": "code",
   "execution_count": 64,
   "metadata": {},
   "outputs": [
    {
     "name": "stdout",
     "output_type": "stream",
     "text": [
      "\tNow in __init__\n",
      "\tNow in __iter__\n",
      "\tNow in __next__\n",
      "\tGot value {value}, incremented index to {self.index}\n",
      "a\n",
      "\tNow in __next__\n",
      "\tGot value {value}, incremented index to {self.index}\n",
      "b\n",
      "\tNow in __next__\n",
      "\tGot value {value}, incremented index to {self.index}\n",
      "c\n",
      "\tNow in __next__\n",
      "\tself.index (3) is too big; exiting\n"
     ]
    }
   ],
   "source": [
    "# Here’s a simple class that implements the protocol, wrapping itself around an iterable object but indicating when it reaches each stage of iteration:\n",
    "class LoudIterator():\n",
    "  def __init__(self, data):\n",
    "      print('\\tNow in __init__')\n",
    "      self.data = data\n",
    "      self.index = 0\n",
    "\n",
    "  def __iter__(self):\n",
    "      print('\\tNow in __iter__')\n",
    "      return self\n",
    "\n",
    "  def __next__(self):\n",
    "      print('\\tNow in __next__')\n",
    "      if self.index >= len(self.data):\n",
    "          print(\n",
    "              f'\\tself.index ({self.index}) is too big; exiting')\n",
    "          raise StopIteration\n",
    "\n",
    "      value = self.data[self.index]\n",
    "      self.index += 1\n",
    "      print('\\tGot value {value}, incremented index to {self.index}')\n",
    "      return value\n",
    "\n",
    "\n",
    "for one_item in LoudIterator('abc'):\n",
    "    print(one_item)\n",
    "\n"
   ]
  },
  {
   "cell_type": "code",
   "execution_count": 68,
   "metadata": {},
   "outputs": [
    {
     "data": {
      "text/plain": [
       "<generator object _walk at 0x2941ee880>"
      ]
     },
     "execution_count": 68,
     "metadata": {},
     "output_type": "execute_result"
    }
   ],
   "source": [
    "import os\n",
    "os.walk(\"/Learning/\")"
   ]
  },
  {
   "cell_type": "code",
   "execution_count": 69,
   "metadata": {},
   "outputs": [
    {
     "name": "stdout",
     "output_type": "stream",
     "text": [
      "0: a\n",
      "1: b\n",
      "2: c\n"
     ]
    }
   ],
   "source": [
    "# Exercise 46 ■ MyEnumerate\n",
    "for index, letter in enumerate('abc'):\n",
    "    print(f'{index}: {letter}')\n"
   ]
  },
  {
   "cell_type": "code",
   "execution_count": 77,
   "metadata": {},
   "outputs": [
    {
     "name": "stdout",
     "output_type": "stream",
     "text": [
      "(0, 'a')\n",
      "(1, 'b')\n",
      "(2, 'c')\n",
      "0 : a\n",
      "1 : b\n",
      "2 : c\n"
     ]
    }
   ],
   "source": [
    "# return a tuple with each iteration\n",
    "# first element in the tuple being the index (starting with 0)\n",
    "# the second element being the current element from the underlying data structure.\n",
    "class MyEnumerate():\n",
    "  def __init__(self, data):\n",
    "    self.index = 0\n",
    "    self.data = data\n",
    "  \n",
    "  # Because our object will be its own iterator, returns self\n",
    "  def __iter__(self):\n",
    "      return self\n",
    "  # second class--a helper class, if you will--which will be the iterator for our class.\n",
    "  # implement __iter__ on the main class, but its job is to return a new instance of the helper class\n",
    "  # def __iter__(self):\n",
    "    # return MyEnumerateIterator(self.data)\n",
    "\n",
    "\n",
    "  def __next__(self):\n",
    "      if self.index >= len(self.data):\n",
    "          raise StopIteration\n",
    "\n",
    "      # value = self.data[self.index]\n",
    "      value = (self.index, self.data[self.index])\n",
    "      self.index += 1\n",
    "      # return self.index-1, value\n",
    "      return value\n",
    "\n",
    "class MyEnumerateIterator():\n",
    "  def __init__(self, index, data):\n",
    "    self.index = index\n",
    "    self.data = data\n",
    "    \n",
    "\n",
    "for enumerated in MyEnumerate('abc'):\n",
    "    print(enumerated)\n",
    "\n",
    "for index, letter in MyEnumerate('abc'):\n",
    "    print(f'{index} : {letter}')\n",
    "\n"
   ]
  },
  {
   "cell_type": "code",
   "execution_count": 94,
   "metadata": {},
   "outputs": [
    {
     "name": "stdout",
     "output_type": "stream",
     "text": [
      "(0, 'a')\n",
      "(1, 'b')\n",
      "(2, 'c')\n",
      "(0, 'a')\n",
      "(1, 'b')\n",
      "(2, 'c')\n"
     ]
    }
   ],
   "source": [
    "# will also produce results if we iterate over it twice in a row.\n",
    "class MyEnumerate:\n",
    "    def __init__(self, data):\n",
    "        self.data = data\n",
    "\n",
    "    def __iter__(self):\n",
    "        return MyEnumerateIterator(self.data)\n",
    "\n",
    "class MyEnumerateIterator:\n",
    "    def __init__(self, data):\n",
    "        self.index = 0\n",
    "        self.data = data\n",
    "\n",
    "    def __next__(self):\n",
    "        if self.index >= len(self.data):\n",
    "            raise StopIteration\n",
    "        value = (self.index, self.data[self.index])\n",
    "        self.index += 1\n",
    "        return value\n",
    "\n",
    "# If we iterate over it twice in a row, it should work because __iter__ returns a new iterator each time.\n",
    "enumerator = MyEnumerate('abc')\n",
    "for enumerated in enumerator:\n",
    "    print(enumerated)\n",
    "\n",
    "for enumerated in enumerator:\n",
    "    print(enumerated)"
   ]
  },
  {
   "cell_type": "code",
   "execution_count": 88,
   "metadata": {},
   "outputs": [
    {
     "name": "stdout",
     "output_type": "stream",
     "text": [
      "1 : a\n",
      "2 : b\n",
      "3 : c\n"
     ]
    }
   ],
   "source": [
    "# Optional Start Index Argument\n",
    "class MyEnumerate:\n",
    "    def __init__(self, data, start=0):\n",
    "        self.data = data\n",
    "        self.start = start\n",
    "\n",
    "    def __iter__(self):\n",
    "        return MyEnumerateIterator(self.data, self.start)\n",
    "\n",
    "class MyEnumerateIterator:\n",
    "    def __init__(self, data, start=0):\n",
    "        self.index = start\n",
    "        self.data = data\n",
    "        self.start = start\n",
    "\n",
    "    def __next__(self):\n",
    "        if self.index >= len(self.data) + self.start:\n",
    "            raise StopIteration\n",
    "        value = (self.index, self.data[self.index - self.start])\n",
    "        self.index += 1\n",
    "        return value\n",
    "\n",
    "# Example usage:\n",
    "for index, letter in MyEnumerate('abc', start=1):\n",
    "    print(f'{index} : {letter}')\n"
   ]
  },
  {
   "cell_type": "code",
   "execution_count": 93,
   "metadata": {},
   "outputs": [
    {
     "name": "stdout",
     "output_type": "stream",
     "text": [
      "1 : a\n",
      "2 : b\n",
      "3 : c\n",
      "1 : a\n",
      "2 : b\n",
      "3 : c\n"
     ]
    }
   ],
   "source": [
    "# Generator Function Implementation\n",
    "def my_enumerate(data, start=0):\n",
    "    index = start\n",
    "    for item in data:\n",
    "        yield (index, item)\n",
    "        index += 1\n",
    "\n",
    "# Example usage:\n",
    "for index, letter in my_enumerate('abc', start=1):\n",
    "    print(f'{index} : {letter}')\n",
    "\n",
    "new_obj = my_enumerate('abc', start=1)\n",
    "\n",
    "for index, letter in new_obj:\n",
    "    print(f'{index} : {letter}')"
   ]
  },
  {
   "cell_type": "code",
   "execution_count": 99,
   "metadata": {},
   "outputs": [
    {
     "name": "stdout",
     "output_type": "stream",
     "text": [
      "['a', 'b', 'c', 'a', 'b']\n"
     ]
    }
   ],
   "source": [
    "# Exercise 47 ■ Circle\n",
    "class Circle():\n",
    " \n",
    "    def __init__(self, data, max_times):\n",
    "        self.data = data\n",
    "        self.max_times = max_times\n",
    " \n",
    "    def __iter__(self):\n",
    "        n = len(self.data)\n",
    "        # the modulus operator (%) ensures that we can wrap around as many times as we need\n",
    "        # generator expression\n",
    "        return (self.data[x % n] for x in range(self.max_times))\n",
    "\n",
    "# class such that it uses a helper (which I call CircleIterator). Here’s an example:\n",
    "\n",
    "c = Circle('abc', 5)\n",
    "print(list(c))\n",
    "#  a, b, c, a, b"
   ]
  },
  {
   "cell_type": "code",
   "execution_count": null,
   "metadata": {},
   "outputs": [],
   "source": [
    "class CircleIterator():\n",
    "    def __init__(self, data, max_times):\n",
    "        self.data = data\n",
    "        self.max_times = max_times\n",
    "        self.index = 0\n",
    " \n",
    "    def __next__(self):\n",
    "        if self.index >= self.max_times:\n",
    "            raise StopIteration\n",
    "        value = self.data[self.index % len(self.data)]\n",
    "        self.index += 1\n",
    "        return value\n",
    " \n",
    " \n",
    "class Circle():\n",
    "    def __init__(self, data, max_times):\n",
    "        self.data = data\n",
    "        self.max_times = max_times\n",
    " \n",
    "    def __iter__(self):\n",
    "        return CircleIterator(self.data,\n",
    "                              self.max_times)\n",
    " \n",
    "c = Circle('abc', 5)\n",
    "print(list(c))\n"
   ]
  },
  {
   "cell_type": "code",
   "execution_count": 105,
   "metadata": {},
   "outputs": [
    {
     "name": "stdout",
     "output_type": "stream",
     "text": [
      "['a', 'b', 'c', 'a', 'b']\n"
     ]
    }
   ],
   "source": [
    "\"\"\"Improvement 1: Inheritance Based Approach\n",
    "In this approach, we'll redefine the Circle class to inherit from CircleIterator. The CircleIterator will remain largely unchanged, but we'll add an attribute to the Circle class to specify what attributes should be returned during iteration.\n",
    "\"\"\"\n",
    "class CircleIterator:\n",
    "    def __init__(self, data, max_times):\n",
    "        self.data = data\n",
    "        self.max_times = max_times\n",
    "        self.index = 0\n",
    "\n",
    "    def __next__(self):\n",
    "        if self.index >= self.max_times:\n",
    "            raise StopIteration\n",
    "        \"\"\"The % operator is the modulo operator in Python. It returns the remainder of the division of self.index by len(self.data). This is the key to cycling through the elements:\n",
    "        * When self.index is smaller than len(self.data), the modulo operation returns self.index itself, so we access the elements of self.data in order.\n",
    "        * Once self.index reaches len(self.data), the modulo operation resets it back to 0 (since len(self.data) divided by len(self.data) leaves a remainder of 0), and we start accessing the elements from the beginning again.\n",
    "        \"\"\"\n",
    "        value = self.data[self.index % len(self.data)]\n",
    "        self.index += 1\n",
    "        return value\n",
    "\n",
    "class Circle(CircleIterator):\n",
    "    def __init__(self, data, max_times):\n",
    "        super().__init__(data, max_times)\n",
    "\n",
    "    def __iter__(self):\n",
    "        return self\n",
    "\n",
    "c = Circle('abc', 5)\n",
    "print(list(c))"
   ]
  },
  {
   "cell_type": "code",
   "execution_count": 101,
   "metadata": {},
   "outputs": [
    {
     "name": "stdout",
     "output_type": "stream",
     "text": [
      "['a', 'b', 'c', 'a', 'b']\n"
     ]
    }
   ],
   "source": [
    "# Improvement 2: Generator Function Approach\n",
    "def circle(data, max_times):\n",
    "    index = 0\n",
    "    while index < max_times:\n",
    "        yield data[index % len(data)]\n",
    "        index += 1\n",
    "\n",
    "c = circle('abc', 5)\n",
    "print(list(c))\n"
   ]
  },
  {
   "cell_type": "code",
   "execution_count": 102,
   "metadata": {},
   "outputs": [
    {
     "name": "stdout",
     "output_type": "stream",
     "text": [
      "0\n",
      "1\n",
      "2\n",
      "3\n",
      "4\n"
     ]
    }
   ],
   "source": [
    "\"\"\"Improvement 3: MyRange Class\n",
    "For the MyRange class, we'll implement it to mimic the basic functionality of Python's built-in range function. It will accept one, two, or three arguments.\n",
    "\"\"\"\n",
    "class MyRange:\n",
    "    def __init__(self, start, stop=None, step=1):\n",
    "        if stop is None:  # Only one argument provided\n",
    "            start, stop = 0, start\n",
    "        self.start = start\n",
    "        self.stop = stop\n",
    "        self.step = step\n",
    "\n",
    "    def __iter__(self):\n",
    "        return MyRangeIterator(self.start, self.stop, self.step)\n",
    "\n",
    "class MyRangeIterator:\n",
    "    def __init__(self, start, stop, step):\n",
    "        self.current = start\n",
    "        self.stop = stop\n",
    "        self.step = step\n",
    "\n",
    "    def __next__(self):\n",
    "        if (self.step > 0 and self.current >= self.stop) or (self.step < 0 and self.current <= self.stop):\n",
    "            raise StopIteration\n",
    "        current = self.current\n",
    "        self.current += self.step\n",
    "        return current\n",
    "\n",
    "# Example usage\n",
    "for i in MyRange(5):\n",
    "    print(i)\n"
   ]
  },
  {
   "cell_type": "code",
   "execution_count": null,
   "metadata": {},
   "outputs": [],
   "source": [
    "# Exercise 48 ■ All lines, all files\n",
    "# take a directory name as an argument\n",
    "# With each iteration, the generator should return a single string, representing one line from one file in that directory\n",
    "import os\n",
    "\n",
    "def all_lines(path):\n",
    "    for filename in os.listdir(path):\n",
    "        full_filename = os.path.join(path,filename)\n",
    "        try:\n",
    "            for line in open(full_filename):\n",
    "                yield line\n",
    "        except OSError:\n",
    "            pass                                  "
   ]
  },
  {
   "cell_type": "code",
   "execution_count": 108,
   "metadata": {},
   "outputs": [
    {
     "data": {
      "text/plain": [
       "['.DS_Store',\n",
       " 'FastAPI_trial',\n",
       " 'Filter_tutorial.py',\n",
       " 'Fluent_python.ipynb',\n",
       " 'Learn_python_in_x_minutes.py',\n",
       " 'Playground.ipynb',\n",
       " 'Static and Class Methods.py',\n",
       " '__pycache__',\n",
       " 'collections_tutorial.py',\n",
       " 'exceptions_tutorial.py',\n",
       " 'install_path_changes.ipynb',\n",
       " 'lambda_tutorial.py',\n",
       " 'learning SQL.sql',\n",
       " 'loops_tutorial.py',\n",
       " 'map_tutorial.py',\n",
       " 'match_tutorial.py',\n",
       " 'namedtuple_tutorial.py',\n",
       " 'python_hackerrank.ipynb',\n",
       " 'python_workout.ipynb',\n",
       " 'python_workout.py',\n",
       " 'useful_snippets.py']"
      ]
     },
     "execution_count": 108,
     "metadata": {},
     "output_type": "execute_result"
    }
   ],
   "source": [
    "\"\"\"Solution 1: Returning a Tuple\n",
    "This solution modifies all_lines to yield a tuple with four elements: the file name, the current file number, the line number within the file, and the line itself.\n",
    "\"\"\"\n",
    "import os\n",
    "\n",
    "def all_lines(path):\n",
    "    file_number = 1\n",
    "    for filename in os.listdir(path):\n",
    "        full_filename = os.path.join(path, filename)\n",
    "        line_number = 1\n",
    "        try:\n",
    "            with open(full_filename) as file:\n",
    "                for line in file:\n",
    "                    yield (filename, file_number, line_number, line)\n",
    "                    line_number += 1\n",
    "        except OSError:\n",
    "            pass\n",
    "        file_number += 1\n"
   ]
  },
  {
   "cell_type": "code",
   "execution_count": null,
   "metadata": {},
   "outputs": [],
   "source": [
    "\"\"\"Solution 2: Round-Robin Line Yielding\n",
    "This modification changes the iteration so that it yields the first line from each file, then the second line from each file, and so on. It uses itertools.zip_longest for parallel iteration over multiple files.\n",
    "\"\"\"\n",
    "import os\n",
    "from itertools import zip_longest\n",
    "\n",
    "def all_lines(path):\n",
    "    files = [open(os.path.join(path, filename)) for filename in os.listdir(path)]\n",
    "    try:\n",
    "        for lines in zip_longest(*files):\n",
    "            for line in lines:\n",
    "                if line is not None:\n",
    "                    yield line\n",
    "    finally:\n",
    "        for file in files:\n",
    "            file.close()\n"
   ]
  },
  {
   "cell_type": "code",
   "execution_count": null,
   "metadata": {},
   "outputs": [],
   "source": [
    "\"\"\"Solution 3: Filtering Lines Based on a String or Regular Expression\n",
    "This solution modifies all_lines to take an additional argument, a string or regular expression, and only yield lines that contain this string or match the regular expression.\n",
    "\"\"\"\n",
    "import os\n",
    "import re\n",
    "\n",
    "def all_lines(path, search_pattern):\n",
    "    pattern = re.compile(search_pattern)\n",
    "    for filename in os.listdir(path):\n",
    "        full_filename = os.path.join(path, filename)\n",
    "        try:\n",
    "            with open(full_filename) as file:\n",
    "                for line in file:\n",
    "                    if pattern.search(line):\n",
    "                        yield line\n",
    "        except OSError:\n",
    "            pass\n"
   ]
  },
  {
   "cell_type": "code",
   "execution_count": null,
   "metadata": {},
   "outputs": [],
   "source": []
  }
 ],
 "metadata": {
  "kernelspec": {
   "display_name": "Python 3",
   "language": "python",
   "name": "python3"
  },
  "language_info": {
   "codemirror_mode": {
    "name": "ipython",
    "version": 3
   },
   "file_extension": ".py",
   "mimetype": "text/x-python",
   "name": "python",
   "nbconvert_exporter": "python",
   "pygments_lexer": "ipython3",
   "version": "3.11.2"
  },
  "orig_nbformat": 4
 },
 "nbformat": 4,
 "nbformat_minor": 2
}
