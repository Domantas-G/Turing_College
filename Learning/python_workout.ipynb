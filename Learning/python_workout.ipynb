{
 "cells": [
  {
   "cell_type": "code",
   "execution_count": 2,
   "metadata": {},
   "outputs": [
    {
     "data": {
      "text/plain": [
       "'x * 2 = 200, and y.capitalize() is Abcd'"
      ]
     },
     "execution_count": 2,
     "metadata": {},
     "output_type": "execute_result"
    }
   ],
   "source": [
    "name = 'world'\n",
    "x = 100\n",
    "y = 'abcd'\n",
    "f'x * 2 = {x*2}, and y.capitalize() is {y.capitalize()}'"
   ]
  },
  {
   "cell_type": "code",
   "execution_count": 7,
   "metadata": {},
   "outputs": [
    {
     "data": {
      "text/plain": [
       "45"
      ]
     },
     "execution_count": 7,
     "metadata": {},
     "output_type": "execute_result"
    }
   ],
   "source": [
    "# Exercise 2 ■ Summing numbers\n",
    "# sum([1,2,3]) would be equivalent to mysum(1,2,3)\n",
    "def mysum(*numbers):\n",
    "  output = 0\n",
    "  for number in numbers:\n",
    "    output += number\n",
    "  return output\n",
    "\n",
    "\"\"\"Python will iterate over our one-element tuple, trying to add 0 to [1,2,3]. This will result in a TypeError exception, with Python complaining that it can’t add an integer to a list.\n",
    "The solution in such a case is to preface the argument with * when we invoke the function. If we call mysum(*[1,2,3]), our list becomes three separate arguments, which will then allow the function to be called in the usual way.\n",
    "\"\"\"\n",
    "\n",
    "# print(mysum(10, 20, 30, 40)) # 100\n",
    "new_list = [1, 2, 3, 4, 5, 6, 7, 8, 9]\n",
    "# mysum(new_list) # Type error because it needs to unpack the list\n",
    "mysum(*new_list) # 45"
   ]
  },
  {
   "cell_type": "code",
   "execution_count": 9,
   "metadata": {},
   "outputs": [
    {
     "data": {
      "text/plain": [
       "50"
      ]
     },
     "execution_count": 9,
     "metadata": {},
     "output_type": "execute_result"
    }
   ],
   "source": [
    "# Bonus - starting point added\n",
    "def mysum(*numbers, starting_value=0):\n",
    "  output = starting_value\n",
    "  for number in numbers:\n",
    "    output += number\n",
    "  return output\n",
    "\n",
    "new_list = [1, 2, 3, 4, 5, 6, 7, 8, 9]\n",
    "mysum(*new_list, 5) # 45 + 5"
   ]
  },
  {
   "cell_type": "code",
   "execution_count": 13,
   "metadata": {},
   "outputs": [
    {
     "data": {
      "text/plain": [
       "5.0"
      ]
     },
     "execution_count": 13,
     "metadata": {},
     "output_type": "execute_result"
    }
   ],
   "source": [
    "# Bonus - returns average\n",
    "def average_calc(*numbers):\n",
    "  total = 0\n",
    "  for number in numbers:\n",
    "    total += number\n",
    "  average_val = total / len(numbers)\n",
    "  return average_val\n",
    "\n",
    "new_list = [1, 2, 3, 4, 5, 6, 7, 8, 9]\n",
    "average_calc(*new_list) # 5\n",
    "sum(new_list) / len(new_list) # 5\n"
   ]
  },
  {
   "cell_type": "code",
   "execution_count": 45,
   "metadata": {},
   "outputs": [
    {
     "data": {
      "text/plain": [
       "(5, 9, 6.2)"
      ]
     },
     "execution_count": 45,
     "metadata": {},
     "output_type": "execute_result"
    }
   ],
   "source": [
    "# Bonus - Write a function that takes a list of words (strings). It should return a tuple containing three integers, representing the length of the shortest word, the length of the longest word, and the average word length.\n",
    "def analyze_word_lengths(*words):\n",
    "    # if not words:\n",
    "        # return 0, 0, 0  # Return default values if no words are provided\n",
    "\n",
    "    # When you start comparing actual word lengths to float('inf'), any positive integer (i.e., word length) will be smaller, and the comparison will correctly identify the shortest word. Otherwise no value will be lower than 0 when comparing actual word lengths. \n",
    "    shortest_word_length = float('inf')\n",
    "    longest_word_length = 0\n",
    "    total_word_length = 0\n",
    "\n",
    "    for word in words:\n",
    "        word_length = len(word)\n",
    "        shortest_word_length = min(shortest_word_length, word_length)\n",
    "        longest_word_length = max(longest_word_length, word_length)\n",
    "        total_word_length += word_length\n",
    "\n",
    "    average_word_length = total_word_length / len(words)\n",
    "\n",
    "    return shortest_word_length, longest_word_length, average_word_length\n",
    "\n",
    "word_list = ['apple', 'banana', 'grape', 'orange', 'pineapple']\n",
    "analyze_word_lengths(*word_list)"
   ]
  },
  {
   "cell_type": "code",
   "execution_count": 52,
   "metadata": {},
   "outputs": [
    {
     "name": "stdout",
     "output_type": "stream",
     "text": [
      "Sum of integers: 50\n"
     ]
    }
   ],
   "source": [
    "# Bonus - Write a function that takes a list of Python objects. Sum the objects that either are integers or can be turned into integers, ignoring the others.\n",
    "\n",
    "def sum_integers(*objects):\n",
    "  total = 0\n",
    "  \n",
    "  for obj in objects:\n",
    "    try:\n",
    "      total += int(obj) # Try to convert the object to an integer\n",
    "    except ValueError:\n",
    "      pass # Fail silently and ignore objects that can't be converted to integers\n",
    "    # except ValueError as e:\n",
    "    #   print(\"Hey! That's not a valid number!\")\n",
    "  \n",
    "  return total\n",
    "\n",
    "object_list = [10, '15', 5.5, '20', 'hello']\n",
    "result = sum_integers(*object_list)\n",
    "print(\"Sum of integers:\", result)\n"
   ]
  },
  {
   "cell_type": "code",
   "execution_count": 4,
   "metadata": {},
   "outputs": [],
   "source": [
    "# Exercise 3 - Run timing\n",
    "def run_timing():\n",
    "  \n",
    "  number_of_runs = 0\n",
    "  total_time = 0\n",
    "\n",
    "  while True:\n",
    "    one_run = input('Enter 10 km run time: ').stip()\n",
    "    \n",
    "    if not one_run: # 'not' in this case implies False / Not True\n",
    "      break\n",
    "  \n",
    "    number_of_runs += 1\n",
    "    total_time += float(one_run)\n",
    "  \n",
    "  average_time = total_time / number_of_runs\n",
    "  \n",
    "  print(f'Average of {average_time}, over {number_of_runs} runs')\n",
    "  \n",
    "run_timing()"
   ]
  },
  {
   "cell_type": "code",
   "execution_count": 1,
   "metadata": {},
   "outputs": [],
   "source": [
    "def run_timing():\n",
    "    \"\"\"Asks the user repeatedly for numeric input. Prints the average time and number of runs.\"\"\"\n",
    " \n",
    "    number_of_runs = 0\n",
    "    total_time = 0\n",
    " \n",
    "    while True:\n",
    "         one_run = input('Enter 10 km run time: ')\n",
    " \n",
    "         if not one_run:\n",
    "             break\n",
    " \n",
    "         number_of_runs += 1\n",
    "         total_time += float(one_run)\n",
    " \n",
    "    average_time = total_time / number_of_runs\n",
    " \n",
    "    print(f'Average of {average_time}, over {number_of_runs} runs')\n"
   ]
  },
  {
   "cell_type": "code",
   "execution_count": 3,
   "metadata": {},
   "outputs": [
    {
     "ename": "ZeroDivisionError",
     "evalue": "division by zero",
     "output_type": "error",
     "traceback": [
      "\u001b[0;31m---------------------------------------------------------------------------\u001b[0m",
      "\u001b[0;31mZeroDivisionError\u001b[0m                         Traceback (most recent call last)",
      "Cell \u001b[0;32mIn[3], line 1\u001b[0m\n\u001b[0;32m----> 1\u001b[0m run_timing()\n",
      "Cell \u001b[0;32mIn[1], line 16\u001b[0m, in \u001b[0;36mrun_timing\u001b[0;34m()\u001b[0m\n\u001b[1;32m     13\u001b[0m      number_of_runs \u001b[39m+\u001b[39m\u001b[39m=\u001b[39m \u001b[39m1\u001b[39m\n\u001b[1;32m     14\u001b[0m      total_time \u001b[39m+\u001b[39m\u001b[39m=\u001b[39m \u001b[39mfloat\u001b[39m(one_run)\n\u001b[0;32m---> 16\u001b[0m average_time \u001b[39m=\u001b[39m total_time \u001b[39m/\u001b[39;49m number_of_runs\n\u001b[1;32m     18\u001b[0m \u001b[39mprint\u001b[39m(\u001b[39mf\u001b[39m\u001b[39m'\u001b[39m\u001b[39mAverage of \u001b[39m\u001b[39m{\u001b[39;00maverage_time\u001b[39m}\u001b[39;00m\u001b[39m, over \u001b[39m\u001b[39m{\u001b[39;00mnumber_of_runs\u001b[39m}\u001b[39;00m\u001b[39m runs\u001b[39m\u001b[39m'\u001b[39m)\n",
      "\u001b[0;31mZeroDivisionError\u001b[0m: division by zero"
     ]
    }
   ],
   "source": [
    "run_timing()"
   ]
  },
  {
   "cell_type": "code",
   "execution_count": null,
   "metadata": {},
   "outputs": [],
   "source": [
    "# Exercise 4 ■ Hexadecimal output\n",
    "# reversed and enumerate\n",
    "def hex_output():\n",
    "    decnum = 0\n",
    "    hexnum = input('Enter a hex number to convert: ')\n",
    "    for power, digit in enumerate(reversed(hexnum)):\n",
    "         decnum += int(digit, 16) * (16 ** power)\n",
    "    print(decnum)\n",
    " \n",
    "hex_output()\n"
   ]
  },
  {
   "cell_type": "code",
   "execution_count": 1,
   "metadata": {},
   "outputs": [
    {
     "name": "stdout",
     "output_type": "stream",
     "text": [
      "inner: nonlocal\n",
      "outer: nonlocal\n"
     ]
    }
   ],
   "source": [
    "def outer():\n",
    "    x = \"local\"\n",
    "    def inner():\n",
    "        nonlocal x  # this will change x in outer scope\n",
    "        x = \"nonlocal\"\n",
    "        print(\"inner:\", x)\n",
    "    inner()\n",
    "    print(\"outer:\", x)\n",
    "\n",
    "outer()\n"
   ]
  },
  {
   "cell_type": "code",
   "execution_count": 5,
   "metadata": {},
   "outputs": [
    {
     "name": "stdout",
     "output_type": "stream",
     "text": [
      "I ubam Wubeubasubel\n"
     ]
    }
   ],
   "source": [
    "def ubbi_dubbi(word):\n",
    "    output = []\n",
    "    for letter in word:\n",
    "        if letter in 'aeiou':\n",
    "            output.append(f'ub{letter}')\n",
    "        else:\n",
    "            output.append(letter)\n",
    " \n",
    "    return ''.join(output)\n",
    "    # return output\n",
    " \n",
    "print(ubbi_dubbi('I am Weasel'))"
   ]
  },
  {
   "cell_type": "code",
   "execution_count": 11,
   "metadata": {},
   "outputs": [
    {
     "name": "stdout",
     "output_type": "stream",
     "text": [
      "[' ', ' ', 'I', 'W', 'a', 'a', 'e', 'e', 'l', 'm', 's']\n",
      "  IWaaeelms\n"
     ]
    }
   ],
   "source": [
    "a_string = 'I am Weasel'\n",
    "\n",
    "print(sorted(a_string.strip()))\n",
    "print(''.join(sorted(a_string)))"
   ]
  },
  {
   "cell_type": "markdown",
   "metadata": {},
   "source": [
    "# Lists and Tuples"
   ]
  },
  {
   "cell_type": "markdown",
   "metadata": {},
   "source": []
  },
  {
   "cell_type": "code",
   "execution_count": 13,
   "metadata": {},
   "outputs": [
    {
     "ename": "AttributeError",
     "evalue": "'str' object has no attribute 'itemgetter'",
     "output_type": "error",
     "traceback": [
      "\u001b[0;31m---------------------------------------------------------------------------\u001b[0m",
      "\u001b[0;31mAttributeError\u001b[0m                            Traceback (most recent call last)",
      "Cell \u001b[0;32mIn[13], line 4\u001b[0m\n\u001b[1;32m      1\u001b[0m final \u001b[39m=\u001b[39m \u001b[39m'\u001b[39m\u001b[39mabcd\u001b[39m\u001b[39m'\u001b[39m\n\u001b[1;32m      2\u001b[0m \u001b[39m# final('abcd') == 'd'\u001b[39;00m\n\u001b[0;32m----> 4\u001b[0m final\u001b[39m.\u001b[39;49mitemgetter(\u001b[39m-\u001b[39m\u001b[39m1\u001b[39m)\n",
      "\u001b[0;31mAttributeError\u001b[0m: 'str' object has no attribute 'itemgetter'"
     ]
    }
   ],
   "source": [
    "final = 'abcd'\n",
    "# final('abcd') == 'd'\n",
    "\n",
    "final.itemgetter(-1)"
   ]
  },
  {
   "cell_type": "code",
   "execution_count": 26,
   "metadata": {},
   "outputs": [
    {
     "name": "stdout",
     "output_type": "stream",
     "text": [
      "Counter({'apple': 3, 'banana': 2, 'orange': 1})\n",
      "Counter({'a': 2, 'b': 2, 'c': 1, 'd': 1})\n"
     ]
    }
   ],
   "source": [
    "from collections import Counter\n",
    "fruits = ['apple', 'banana', 'apple', 'orange', 'banana', 'apple']\n",
    "fruit_counts = Counter(fruits)\n",
    "print(fruit_counts)\n",
    "print(Counter('abcdab'))"
   ]
  },
  {
   "cell_type": "code",
   "execution_count": 33,
   "metadata": {},
   "outputs": [
    {
     "name": "stdout",
     "output_type": "stream",
     "text": [
      "[('apple', 3), ('banana', 2), ('orange', 1)]\n",
      "('B', 'D', 'F')\n",
      "('o', 'm')\n"
     ]
    }
   ],
   "source": [
    "# itemgetter\n",
    "# itemgetter is a function in the operator module that fetches a specified index (like a list) or key (like a dictionary) from its operand.\n",
    "from operator import itemgetter\n",
    "\n",
    "data = [('apple', 3), ('banana', 2), ('orange', 1)]\n",
    "sorted_data = sorted(data, key=itemgetter(1), reverse=True)\n",
    "print(sorted_data)\n",
    "\n",
    "print(itemgetter(1, 3, 5)('ABCDEFG'))\n",
    "\n",
    "data2 = 'Some Random String'\n",
    "new_data = itemgetter(1, 2)(data2)\n",
    "print(new_data)\n"
   ]
  },
  {
   "cell_type": "code",
   "execution_count": 45,
   "metadata": {},
   "outputs": [
    {
     "name": "stdout",
     "output_type": "stream",
     "text": [
      "ac\n",
      "[1, 4]\n"
     ]
    }
   ],
   "source": [
    "# Exercise 9\n",
    "# when you retrieve a slice from an object x, you get back a new object of the same type as x\n",
    "def firstlast(input_str: str):\n",
    "  # length = len(input_str)\n",
    "  first = input_str[:1]\n",
    "  last = input_str[-1:]\n",
    "  \n",
    "  return first + last\n",
    "\n",
    "# More elegant:\n",
    "def firstlast(sequence: str):\n",
    "  return sequence[:1] + sequence[-1:]\n",
    "\n",
    "\n",
    "print(firstlast('abc'))\n",
    "print(firstlast([1,2,3,4]))\n",
    "\n",
    "# To iterate over just the final n elements of a list. When I remind them that they can do this with the slice mylist[-3:] and a for loop"
   ]
  },
  {
   "cell_type": "code",
   "execution_count": 49,
   "metadata": {},
   "outputs": [
    {
     "name": "stdout",
     "output_type": "stream",
     "text": [
      "[11, 12, 13]\n",
      "11\n",
      "12\n",
      "13\n"
     ]
    }
   ],
   "source": [
    "mylist = [1,2,3,4,5,6,7,8,9,10,11,12,13]\n",
    "print(mylist[-3:])\n",
    "for item in mylist[-3:]:\n",
    "  print(item)"
   ]
  },
  {
   "cell_type": "code",
   "execution_count": 51,
   "metadata": {},
   "outputs": [
    {
     "data": {
      "text/plain": [
       "[90, 120]"
      ]
     },
     "execution_count": 51,
     "metadata": {},
     "output_type": "execute_result"
    }
   ],
   "source": [
    "def even_odd_sums(data):\n",
    "  odds = sum(data[::2])\n",
    "  evens = sum(data[1::2])\n",
    "  # Alternative solution\n",
    "  # even_sum = sum(numbers[i] for i in range(0, len(numbers), 2))\n",
    "  # odd_sum = sum(numbers[i] for i in range(1, len(numbers), 2))\n",
    "  return [odds, evens]\n",
    "\n",
    "even_odd_sums([10, 20, 30, 40, 50, 60])\n",
    "\n"
   ]
  },
  {
   "cell_type": "code",
   "execution_count": 52,
   "metadata": {},
   "outputs": [
    {
     "data": {
      "text/plain": [
       "50"
      ]
     },
     "execution_count": 52,
     "metadata": {},
     "output_type": "execute_result"
    }
   ],
   "source": [
    "def plus_minus(numbers):\n",
    "    result = numbers[0]  # Start with the first number\n",
    "    for i in range(1, len(numbers)):\n",
    "        if i % 2 == 0:  # even index\n",
    "            result -= numbers[i]\n",
    "        else:  # odd index\n",
    "            result += numbers[i]\n",
    "    return result\n",
    "\n",
    "# Testing the corrected function\n",
    "result = plus_minus([10, 20, 30, 40, 50, 60])\n",
    "result\n"
   ]
  },
  {
   "cell_type": "code",
   "execution_count": 58,
   "metadata": {},
   "outputs": [
    {
     "name": "stdout",
     "output_type": "stream",
     "text": [
      "()\n",
      "100\n",
      "abcd\n",
      "[10, 20, 30, 40, 50, 60, 70, 80]\n"
     ]
    }
   ],
   "source": [
    "# Exercise 10 ■ Summing anything\n",
    "def mysum(*items):\n",
    "  if not items:\n",
    "    return items\n",
    "  \n",
    "  output = items[0]\n",
    "  \n",
    "  for item in items[1:]:\n",
    "    output += item\n",
    "  return output\n",
    "\n",
    "print(mysum())\n",
    "print(mysum(10, 20, 30, 40))\n",
    "print(mysum('a', 'b', 'c', 'd'))\n",
    "print(mysum([10, 20, 30], [40, 50, 60], [70, 80]))"
   ]
  },
  {
   "cell_type": "code",
   "execution_count": 60,
   "metadata": {},
   "outputs": [
    {
     "data": {
      "text/plain": [
       "50"
      ]
     },
     "execution_count": 60,
     "metadata": {},
     "output_type": "execute_result"
    }
   ],
   "source": [
    "# 1. mysum_bigger_than function\n",
    "def mysum_bigger_than(threshold, *args):\n",
    "    return sum(arg for arg in args if arg > threshold)\n",
    "\n",
    "# Testing the mysum_bigger_than function\n",
    "test_mysum_bigger_than = mysum_bigger_than(10, 5, 20, 30, 6)\n",
    "test_mysum_bigger_than"
   ]
  },
  {
   "cell_type": "code",
   "execution_count": 61,
   "metadata": {},
   "outputs": [
    {
     "data": {
      "text/plain": [
       "60"
      ]
     },
     "execution_count": 61,
     "metadata": {},
     "output_type": "execute_result"
    }
   ],
   "source": [
    "# 2. sum_numeric function\n",
    "def sum_numeric(*args):\n",
    "    total = 0\n",
    "    for arg in args:\n",
    "        try:\n",
    "            total += int(arg)\n",
    "        except ValueError:\n",
    "            pass  # Ignore the argument if it can't be converted to an integer\n",
    "    return total\n",
    "\n",
    "# Testing the sum_numeric function\n",
    "test_sum_numeric = sum_numeric(10, 20, 'a', '30', 'bcd')\n",
    "test_sum_numeric"
   ]
  },
  {
   "cell_type": "code",
   "execution_count": 62,
   "metadata": {},
   "outputs": [
    {
     "data": {
      "text/plain": [
       "{'a': [1, 5], 'b': [2, 3], 'c': 4}"
      ]
     },
     "execution_count": 62,
     "metadata": {},
     "output_type": "execute_result"
    }
   ],
   "source": [
    "# 3. Function to merge list of dicts\n",
    "def merge_dicts(dict_list):\n",
    "    merged_dict = {}\n",
    "    for d in dict_list:\n",
    "        for key, value in d.items():\n",
    "            if key in merged_dict:\n",
    "                if isinstance(merged_dict[key], list):\n",
    "                    merged_dict[key].append(value)\n",
    "                else:\n",
    "                    merged_dict[key] = [merged_dict[key], value]\n",
    "            else:\n",
    "                merged_dict[key] = value\n",
    "    return merged_dict\n",
    "\n",
    "# Testing the merge_dicts function\n",
    "test_dicts = [{'a': 1, 'b': 2}, {'b': 3, 'c': 4}, {'a': 5}]\n",
    "test_merge_dicts = merge_dicts(test_dicts)\n",
    "test_merge_dicts"
   ]
  },
  {
   "cell_type": "code",
   "execution_count": 77,
   "metadata": {},
   "outputs": [
    {
     "name": "stdout",
     "output_type": "stream",
     "text": [
      "Lerner, Reuven: reuven@lerner.co.il\n",
      "Trump, Donald: president@whitehouse.gov\n",
      "Putin, Vladimir: president@kremvax.ru\n",
      "['j', 'hi', 'efg', 'abcd']\n",
      "[{'first': 'Reuven', 'last': 'Lerner', 'email': 'reuven@lerner.co.il'}, {'first': 'Vladimir', 'last': 'Putin', 'email': 'president@kremvax.ru'}, {'first': 'Donald', 'last': 'Trump', 'email': 'president@whitehouse.gov'}]\n",
      "Lerner, Reuven: reuven@lerner.co.il\n",
      "Putin, Vladimir: president@kremvax.ru\n",
      "Trump, Donald: president@whitehouse.gov\n"
     ]
    }
   ],
   "source": [
    "# Exercise 11 ■ Alphabetizing names\n",
    "\n",
    "PEOPLE = [{'first':'Reuven', \n",
    "           'last':'Lerner',\n",
    "           'email':'reuven@lerner.co.il'},\n",
    "         {'first':'Donald', \n",
    "          'last':'Trump',\n",
    "          'email':'president@whitehouse.gov'},\n",
    "        {'first':'Vladimir', \n",
    "         'last':'Putin',\n",
    "         'email':'president@kremvax.ru'}\n",
    "      ]\n",
    "\n",
    "for person in PEOPLE:\n",
    "    print(f'{person[\"last\"]}, {person[\"first\"]}: {person[\"email\"]}')\n",
    "\n",
    "mylist = ['abcd', 'efg', 'hi', 'j']\n",
    "mylist = sorted(mylist, key=len)\n",
    "print(mylist)\n",
    "\n",
    "def person_dict_to_list(d):\n",
    "    return [d['last'], d['first']]\n",
    "\n",
    "# person_dict_to_list(PEOPLE) # Gives error\n",
    "\n",
    "print(sorted(PEOPLE, key=person_dict_to_list))\n",
    "\n",
    "for p in sorted(PEOPLE,\n",
    "                key=lambda x: [x['last'], x['first']]):\n",
    "    print(f'{p[\"last\"]}, {p[\"first\"]}: {p[\"email\"]}')\n",
    "\n",
    "\n",
    "\n",
    "# def alphabetize_names():\n",
    "#   global PEOPLE\n",
    "#   PEOPLE_sorted = sorted(PEOPLE, key=getattr([1, 0]))\n",
    "#   return print(PEOPLE_sorted)\n",
    "\n",
    "# alphabetize_names()"
   ]
  },
  {
   "cell_type": "code",
   "execution_count": 80,
   "metadata": {},
   "outputs": [
    {
     "name": "stdout",
     "output_type": "stream",
     "text": [
      "('c', 'e')\n",
      "(30, 50)\n",
      "operator.itemgetter(2, 4)\n"
     ]
    }
   ],
   "source": [
    "import operator\n",
    "\n",
    "s = 'abcdef'\n",
    "t = (10, 20, 30, 40, 50, 60)\n",
    "get_2_and_4 = operator.itemgetter(2, 4)\n",
    "print(get_2_and_4) # get_2_and_4 item getter returns a function\n",
    "print(get_2_and_4(s))\n",
    "print(get_2_and_4(t))"
   ]
  },
  {
   "cell_type": "code",
   "execution_count": 81,
   "metadata": {},
   "outputs": [
    {
     "name": "stdout",
     "output_type": "stream",
     "text": [
      "Lerner, Reuven: reuven@lerner.co.il\n",
      "Putin, Vladimir: president@kremvax.ru\n",
      "Trump, Donald: president@whitehouse.gov\n"
     ]
    }
   ],
   "source": [
    "from operator import itemgetter\n",
    "for p in sorted(PEOPLE,\n",
    "                key=itemgetter('last', 'first')):\n",
    "    print(f'{p[\"last\"]}, {p[\"first\"]}: {p[\"email\"]}')\n"
   ]
  },
  {
   "cell_type": "code",
   "execution_count": 85,
   "metadata": {},
   "outputs": [
    {
     "name": "stdout",
     "output_type": "stream",
     "text": [
      "[{'first': 'Reuven', 'last': 'Lerner', 'email': 'reuven@lerner.co.il'}, {'first': 'Vladimir', 'last': 'Putin', 'email': 'president@kremvax.ru'}, {'first': 'Donald', 'last': 'Trump', 'email': 'president@whitehouse.gov'}]\n"
     ]
    }
   ],
   "source": [
    "# Solution:\n",
    "PEOPLE = [{'first':'Reuven', \n",
    "           'last':'Lerner',\n",
    "           'email':'reuven@lerner.co.il'},\n",
    "         {'first':'Donald', \n",
    "          'last':'Trump',\n",
    "          'email':'president@whitehouse.gov'},\n",
    "        {'first':'Vladimir', \n",
    "         'last':'Putin',\n",
    "         'email':'president@kremvax.ru'}\n",
    "]\n",
    "\n",
    "# def alphabetize_names(some_people):\n",
    "#   for p in sorted(some_people,\n",
    "#                 key=itemgetter('last', 'first')):\n",
    "#     print(f'{p[\"last\"]}, {p[\"first\"]}: {p[\"email\"]}')\n",
    "\n",
    "def alphabetize_names(list_of_dicts):\n",
    "    return sorted(list_of_dicts,\n",
    "        key=operator.itemgetter('last', 'first'))\n",
    "\n",
    "print(alphabetize_names(PEOPLE))"
   ]
  },
  {
   "cell_type": "code",
   "execution_count": 111,
   "metadata": {},
   "outputs": [
    {
     "name": "stdout",
     "output_type": "stream",
     "text": [
      "3\n",
      "elementary\n",
      "elementary\n"
     ]
    },
    {
     "data": {
      "text/plain": [
       "['this', 'is', 'an', 'test', 'example', 'elementary']"
      ]
     },
     "execution_count": 111,
     "metadata": {},
     "output_type": "execute_result"
    }
   ],
   "source": [
    "# Exercise 12 ■ Word with most repeated letters\n",
    "from collections import Counter\n",
    "\n",
    "words = ['this', 'is', 'an', 'elementary', 'test', 'example']\n",
    "  \n",
    "def most_repeating_letter_count(word):\n",
    "  # return 1st tuples 1st element's value\n",
    "    return Counter(word).most_common(1)[0][1]\n",
    "\n",
    "print(most_repeating_letter_count('some word is here'))\n",
    "\n",
    "sorting_words_by_letter_count = sorted(words, key=most_repeating_letter_count)\n",
    "print(sorting_words_by_letter_count[-1])\n",
    "\n",
    "def most_repeating_words_sorted(words):\n",
    "    return sorted(words, key=most_repeating_letter_count)\n",
    "  \n",
    "most_repeating_words_sorted(words)\n",
    "\n",
    "def most_repeating_word(words):\n",
    "    return max(words, key=most_repeating_letter_count)\n",
    "\n",
    "print(most_repeating_word(words))\n",
    "\n",
    "def most_repeating_word_standalone(words):\n",
    "    return max(words, key=(lambda word: Counter(word).most_common(1)[0][1]))\n",
    "    \n",
    "most_repeating_word_standalone(words)\n",
    "\n"
   ]
  },
  {
   "cell_type": "code",
   "execution_count": 112,
   "metadata": {},
   "outputs": [
    {
     "name": "stdout",
     "output_type": "stream",
     "text": [
      "Putin      Vladimir    3.63\n",
      "Trump      Donald      7.85\n",
      "Xi         Jinping    10.60\n"
     ]
    }
   ],
   "source": [
    "# Exercise 13\n",
    "import operator\n",
    "PEOPLE = [('Donald', 'Trump', 7.85),\n",
    "          ('Vladimir', 'Putin', 3.626),\n",
    "          ('Jinping', 'Xi', 10.603)]\n",
    " \n",
    "def format_sort_records(list_of_tuples):\n",
    "    output = []\n",
    "    \"\"\"person is a tuple, and that *person, when passed to a function, becomes not a tuple, but the elements of that tuple.\n",
    "    This means that we’re passing three separate arguments to str.format, which we can access via {0}, {1}, and {2}.\"\"\"\n",
    "    template = '{1:10} {0:10} {2:5.2f}'\n",
    "    for person in sorted(list_of_tuples,\n",
    "            key=operator.itemgetter(1, 0)):\n",
    " \n",
    "        output.append(template.format(*person))\n",
    "    return output\n",
    " \n",
    "print('\\n'.join(format_sort_records(PEOPLE)))\n"
   ]
  },
  {
   "cell_type": "code",
   "execution_count": null,
   "metadata": {},
   "outputs": [],
   "source": []
  }
 ],
 "metadata": {
  "kernelspec": {
   "display_name": "Python 3",
   "language": "python",
   "name": "python3"
  },
  "language_info": {
   "codemirror_mode": {
    "name": "ipython",
    "version": 3
   },
   "file_extension": ".py",
   "mimetype": "text/x-python",
   "name": "python",
   "nbconvert_exporter": "python",
   "pygments_lexer": "ipython3",
   "version": "3.11.2"
  },
  "orig_nbformat": 4
 },
 "nbformat": 4,
 "nbformat_minor": 2
}
