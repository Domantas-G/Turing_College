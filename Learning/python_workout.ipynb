{
 "cells": [
  {
   "cell_type": "code",
   "execution_count": 2,
   "metadata": {},
   "outputs": [
    {
     "data": {
      "text/plain": [
       "'x * 2 = 200, and y.capitalize() is Abcd'"
      ]
     },
     "execution_count": 2,
     "metadata": {},
     "output_type": "execute_result"
    }
   ],
   "source": [
    "name = 'world'\n",
    "x = 100\n",
    "y = 'abcd'\n",
    "f'x * 2 = {x*2}, and y.capitalize() is {y.capitalize()}'"
   ]
  },
  {
   "cell_type": "code",
   "execution_count": 7,
   "metadata": {},
   "outputs": [
    {
     "data": {
      "text/plain": [
       "45"
      ]
     },
     "execution_count": 7,
     "metadata": {},
     "output_type": "execute_result"
    }
   ],
   "source": [
    "# Exercise 2 ■ Summing numbers\n",
    "# sum([1,2,3]) would be equivalent to mysum(1,2,3)\n",
    "def mysum(*numbers):\n",
    "  output = 0\n",
    "  for number in numbers:\n",
    "    output += number\n",
    "  return output\n",
    "\n",
    "\"\"\"Python will iterate over our one-element tuple, trying to add 0 to [1,2,3]. This will result in a TypeError exception, with Python complaining that it can’t add an integer to a list.\n",
    "The solution in such a case is to preface the argument with * when we invoke the function. If we call mysum(*[1,2,3]), our list becomes three separate arguments, which will then allow the function to be called in the usual way.\n",
    "\"\"\"\n",
    "\n",
    "# print(mysum(10, 20, 30, 40)) # 100\n",
    "new_list = [1, 2, 3, 4, 5, 6, 7, 8, 9]\n",
    "# mysum(new_list) # Type error because it needs to unpack the list\n",
    "mysum(*new_list) # 45"
   ]
  },
  {
   "cell_type": "code",
   "execution_count": 9,
   "metadata": {},
   "outputs": [
    {
     "data": {
      "text/plain": [
       "50"
      ]
     },
     "execution_count": 9,
     "metadata": {},
     "output_type": "execute_result"
    }
   ],
   "source": [
    "# Bonus - starting point added\n",
    "def mysum(*numbers, starting_value=0):\n",
    "  output = starting_value\n",
    "  for number in numbers:\n",
    "    output += number\n",
    "  return output\n",
    "\n",
    "new_list = [1, 2, 3, 4, 5, 6, 7, 8, 9]\n",
    "mysum(*new_list, 5) # 45 + 5"
   ]
  },
  {
   "cell_type": "code",
   "execution_count": 13,
   "metadata": {},
   "outputs": [
    {
     "data": {
      "text/plain": [
       "5.0"
      ]
     },
     "execution_count": 13,
     "metadata": {},
     "output_type": "execute_result"
    }
   ],
   "source": [
    "# Bonus - returns average\n",
    "def average_calc(*numbers):\n",
    "  total = 0\n",
    "  for number in numbers:\n",
    "    total += number\n",
    "  average_val = total / len(numbers)\n",
    "  return average_val\n",
    "\n",
    "new_list = [1, 2, 3, 4, 5, 6, 7, 8, 9]\n",
    "average_calc(*new_list) # 5\n",
    "sum(new_list) / len(new_list) # 5\n"
   ]
  },
  {
   "cell_type": "code",
   "execution_count": 45,
   "metadata": {},
   "outputs": [
    {
     "data": {
      "text/plain": [
       "(5, 9, 6.2)"
      ]
     },
     "execution_count": 45,
     "metadata": {},
     "output_type": "execute_result"
    }
   ],
   "source": [
    "# Bonus - Write a function that takes a list of words (strings). It should return a tuple containing three integers, representing the length of the shortest word, the length of the longest word, and the average word length.\n",
    "def analyze_word_lengths(*words):\n",
    "    # if not words:\n",
    "        # return 0, 0, 0  # Return default values if no words are provided\n",
    "\n",
    "    # When you start comparing actual word lengths to float('inf'), any positive integer (i.e., word length) will be smaller, and the comparison will correctly identify the shortest word. Otherwise no value will be lower than 0 when comparing actual word lengths. \n",
    "    shortest_word_length = float('inf')\n",
    "    longest_word_length = 0\n",
    "    total_word_length = 0\n",
    "\n",
    "    for word in words:\n",
    "        word_length = len(word)\n",
    "        shortest_word_length = min(shortest_word_length, word_length)\n",
    "        longest_word_length = max(longest_word_length, word_length)\n",
    "        total_word_length += word_length\n",
    "\n",
    "    average_word_length = total_word_length / len(words)\n",
    "\n",
    "    return shortest_word_length, longest_word_length, average_word_length\n",
    "\n",
    "word_list = ['apple', 'banana', 'grape', 'orange', 'pineapple']\n",
    "analyze_word_lengths(*word_list)"
   ]
  },
  {
   "cell_type": "code",
   "execution_count": 52,
   "metadata": {},
   "outputs": [
    {
     "name": "stdout",
     "output_type": "stream",
     "text": [
      "Sum of integers: 50\n"
     ]
    }
   ],
   "source": [
    "# Bonus - Write a function that takes a list of Python objects. Sum the objects that either are integers or can be turned into integers, ignoring the others.\n",
    "\n",
    "def sum_integers(*objects):\n",
    "  total = 0\n",
    "  \n",
    "  for obj in objects:\n",
    "    try:\n",
    "      total += int(obj) # Try to convert the object to an integer\n",
    "    except ValueError:\n",
    "      pass # Fail silently and ignore objects that can't be converted to integers\n",
    "  \n",
    "  return total\n",
    "\n",
    "object_list = [10, '15', 5.5, '20', 'hello']\n",
    "result = sum_integers(*object_list)\n",
    "print(\"Sum of integers:\", result)\n"
   ]
  },
  {
   "cell_type": "code",
   "execution_count": null,
   "metadata": {},
   "outputs": [],
   "source": []
  }
 ],
 "metadata": {
  "kernelspec": {
   "display_name": "Python 3",
   "language": "python",
   "name": "python3"
  },
  "language_info": {
   "codemirror_mode": {
    "name": "ipython",
    "version": 3
   },
   "file_extension": ".py",
   "mimetype": "text/x-python",
   "name": "python",
   "nbconvert_exporter": "python",
   "pygments_lexer": "ipython3",
   "version": "3.11.2"
  },
  "orig_nbformat": 4
 },
 "nbformat": 4,
 "nbformat_minor": 2
}
