{
 "cells": [
  {
   "cell_type": "code",
   "execution_count": 1,
   "metadata": {},
   "outputs": [],
   "source": [
    "import os\n",
    "import pandas as pd\n",
    "from database_loader import DatabaseLoader\n",
    "from dataframe_cleaner import DataframeCleaner\n",
    "import models\n",
    "from query_recommender_api import QueryRecommender_api\n",
    "from functions import compute_missing_values, lowercase_column_names, factorize_id"
   ]
  },
  {
   "cell_type": "markdown",
   "metadata": {},
   "source": [
    "# Imports"
   ]
  },
  {
   "cell_type": "code",
   "execution_count": 2,
   "metadata": {},
   "outputs": [],
   "source": [
    "directory = \"data/\"\n",
    "files = os.listdir(directory)\n",
    "\n",
    "raw_titles_df = pd.read_csv(os.path.join(directory, 'raw_titles.csv'), index_col = \"index\")\n",
    "raw_credits_df = pd.read_csv(os.path.join(directory, 'raw_credits.csv'), index_col = \"index\")"
   ]
  },
  {
   "cell_type": "code",
   "execution_count": 3,
   "metadata": {},
   "outputs": [
    {
     "data": {
      "text/html": [
       "<div>\n",
       "<style scoped>\n",
       "    .dataframe tbody tr th:only-of-type {\n",
       "        vertical-align: middle;\n",
       "    }\n",
       "\n",
       "    .dataframe tbody tr th {\n",
       "        vertical-align: top;\n",
       "    }\n",
       "\n",
       "    .dataframe thead th {\n",
       "        text-align: right;\n",
       "    }\n",
       "</style>\n",
       "<table border=\"1\" class=\"dataframe\">\n",
       "  <thead>\n",
       "    <tr style=\"text-align: right;\">\n",
       "      <th></th>\n",
       "      <th>Missing Values</th>\n",
       "      <th>Percentage (%)</th>\n",
       "    </tr>\n",
       "  </thead>\n",
       "  <tbody>\n",
       "    <tr>\n",
       "      <th>seasons</th>\n",
       "      <td>3759</td>\n",
       "      <td>64.74</td>\n",
       "    </tr>\n",
       "    <tr>\n",
       "      <th>age_certification</th>\n",
       "      <td>2610</td>\n",
       "      <td>44.95</td>\n",
       "    </tr>\n",
       "    <tr>\n",
       "      <th>imdb_votes</th>\n",
       "      <td>539</td>\n",
       "      <td>9.28</td>\n",
       "    </tr>\n",
       "    <tr>\n",
       "      <th>imdb_score</th>\n",
       "      <td>523</td>\n",
       "      <td>9.01</td>\n",
       "    </tr>\n",
       "    <tr>\n",
       "      <th>imdb_id</th>\n",
       "      <td>444</td>\n",
       "      <td>7.65</td>\n",
       "    </tr>\n",
       "    <tr>\n",
       "      <th>title</th>\n",
       "      <td>1</td>\n",
       "      <td>0.02</td>\n",
       "    </tr>\n",
       "  </tbody>\n",
       "</table>\n",
       "</div>"
      ],
      "text/plain": [
       "                   Missing Values  Percentage (%)\n",
       "seasons                      3759           64.74\n",
       "age_certification            2610           44.95\n",
       "imdb_votes                    539            9.28\n",
       "imdb_score                    523            9.01\n",
       "imdb_id                       444            7.65\n",
       "title                           1            0.02"
      ]
     },
     "execution_count": 3,
     "metadata": {},
     "output_type": "execute_result"
    }
   ],
   "source": [
    "compute_missing_values(raw_titles_df)"
   ]
  },
  {
   "cell_type": "code",
   "execution_count": 4,
   "metadata": {},
   "outputs": [
    {
     "data": {
      "text/html": [
       "<div>\n",
       "<style scoped>\n",
       "    .dataframe tbody tr th:only-of-type {\n",
       "        vertical-align: middle;\n",
       "    }\n",
       "\n",
       "    .dataframe tbody tr th {\n",
       "        vertical-align: top;\n",
       "    }\n",
       "\n",
       "    .dataframe thead th {\n",
       "        text-align: right;\n",
       "    }\n",
       "</style>\n",
       "<table border=\"1\" class=\"dataframe\">\n",
       "  <thead>\n",
       "    <tr style=\"text-align: right;\">\n",
       "      <th></th>\n",
       "      <th>Missing Values</th>\n",
       "      <th>Percentage (%)</th>\n",
       "    </tr>\n",
       "  </thead>\n",
       "  <tbody>\n",
       "    <tr>\n",
       "      <th>character</th>\n",
       "      <td>9627</td>\n",
       "      <td>12.47</td>\n",
       "    </tr>\n",
       "  </tbody>\n",
       "</table>\n",
       "</div>"
      ],
      "text/plain": [
       "           Missing Values  Percentage (%)\n",
       "character            9627           12.47"
      ]
     },
     "execution_count": 4,
     "metadata": {},
     "output_type": "execute_result"
    }
   ],
   "source": [
    "compute_missing_values(raw_credits_df)"
   ]
  },
  {
   "cell_type": "code",
   "execution_count": 5,
   "metadata": {},
   "outputs": [],
   "source": [
    "\"\"\"Cleaning titles data.\"\"\"\n",
    "processing_titles = DataframeCleaner(raw_titles_df)\n",
    "\n",
    "processing_titles.remove_duplicates()\n",
    "processing_titles.remove_column_duplicates('id')\n",
    "processing_titles.remove_column_duplicates('imdb_id')\n",
    "\n",
    "raw_titles_df = processing_titles.data\n",
    "\n",
    "\"\"\"Cleaning credits data.\"\"\"\n",
    "processing_credits = DataframeCleaner(raw_credits_df)\n",
    "\n",
    "processing_credits.remove_duplicates()\n",
    "raw_credits_df = processing_credits.data"
   ]
  },
  {
   "cell_type": "code",
   "execution_count": 6,
   "metadata": {},
   "outputs": [],
   "source": [
    "\"\"\"Lists storing information needed for DataFrame cleaning.\"\"\"\n",
    "titles_columns_for_null = ['age_certification', 'seasons', 'imdb_id', 'genres', 'production_countries']\n",
    "\n",
    "titles_columns_for_median_or_mode = ['imdb_score', 'imdb_votes']\n",
    "\n",
    "titles_columns_for_brackets = ['genres', 'production_countries']\n",
    "\n",
    "credits_columns_for_null = ['name',\t'character',\t'role']"
   ]
  },
  {
   "cell_type": "code",
   "execution_count": 7,
   "metadata": {},
   "outputs": [],
   "source": [
    "for column in titles_columns_for_brackets:\n",
    "    raw_titles_df[column] = processing_titles.remove_brackets_and_quotes(column_name=column)\n",
    "\n",
    "for column in titles_columns_for_null:\n",
    "    raw_titles_df[column] = processing_titles.missing_to_zero(column_name=column)\n",
    "\n",
    "for column in titles_columns_for_median_or_mode:\n",
    "    raw_titles_df[column] = processing_titles.missing_to_median_or_mode(column_name=column)\n",
    "\n",
    "raw_titles_df = raw_titles_df.dropna()\n",
    "\n",
    "raw_titles_df = raw_titles_df.copy()"
   ]
  },
  {
   "cell_type": "code",
   "execution_count": 8,
   "metadata": {},
   "outputs": [],
   "source": [
    "for column in credits_columns_for_null:\n",
    "    raw_credits_df[column] = processing_credits.missing_to_zero(column_name=column)\n",
    "    \n",
    "raw_credits_df = raw_credits_df.copy()"
   ]
  },
  {
   "cell_type": "markdown",
   "metadata": {},
   "source": [
    "# Save data for EDA"
   ]
  },
  {
   "cell_type": "code",
   "execution_count": 9,
   "metadata": {},
   "outputs": [],
   "source": [
    "file_path = \"raw_titles_df.csv\"\n",
    "raw_titles_df.to_csv(file_path, index=False)\n",
    "\n",
    "file_path = \"raw_credits_df.csv\"\n",
    "raw_credits_df.to_csv(file_path, index=False)"
   ]
  },
  {
   "cell_type": "code",
   "execution_count": 10,
   "metadata": {},
   "outputs": [],
   "source": [
    "data = pd.read_csv(\"raw_credits_df.csv\")\n",
    "raw_credits_df = pd.DataFrame(data)\n",
    "\n",
    "data = pd.read_csv(\"raw_titles_df.csv\")\n",
    "raw_titles_df = pd.DataFrame(data)"
   ]
  },
  {
   "cell_type": "code",
   "execution_count": 11,
   "metadata": {},
   "outputs": [],
   "source": [
    "\"\"\"Mapping for column names and types.\"\"\"\n",
    "columns_dict = {\n",
    "                'id': 'string',\n",
    "                'title': 'string',\n",
    "                'type': 'string',\n",
    "                'release_year': 'int',\n",
    "                'age_certification': 'string',\n",
    "                'runtime': 'int', \n",
    "                'genres': 'string',\n",
    "                'production_countries': 'string',\n",
    "                'seasons': 'int',\n",
    "                'imdb_id': 'string',\n",
    "                'imdb_score': 'float64',\n",
    "                'imdb_votes': 'int'\n",
    "                }\n",
    "\n",
    "errors = []\n",
    "\n",
    "for column, dtype in columns_dict.items():\n",
    "    try:\n",
    "        raw_titles_df[column] = raw_titles_df[column].astype(dtype)\n",
    "    except ValueError:\n",
    "        errors.append(f'Column {column} dtype change failed!')"
   ]
  },
  {
   "cell_type": "markdown",
   "metadata": {},
   "source": [
    "# Normalization"
   ]
  },
  {
   "cell_type": "code",
   "execution_count": 12,
   "metadata": {},
   "outputs": [],
   "source": [
    "\"\"\"Normalizing Titles tables.\"\"\"\n",
    "titles_df = raw_titles_df[['id', 'title', 'release_year', 'age_certification', 'runtime', 'imdb_id', 'imdb_score', 'imdb_votes']]\n",
    "\n",
    "title_type_df = raw_titles_df[['id', 'type']].copy()\n",
    "title_type_df = factorize_id(title_type_df, 'type', id_field='type_id')\n",
    "\n",
    "title_genres_df = raw_titles_df[['id', 'genres']].copy()\n",
    "title_genres_df['genres'] = title_genres_df['genres'].str.split(\", \")\n",
    "title_genres_df = title_genres_df.explode('genres')\n",
    "title_genres_df = factorize_id(title_genres_df, 'genres', id_field='genre_id')\n",
    "title_genres_df = title_genres_df.rename(columns={'genres': 'genre'})\n",
    "\n",
    "title_production_countries_df = raw_titles_df[['id', 'production_countries']].copy()\n",
    "title_production_countries_df['production_countries'] = title_production_countries_df['production_countries'].str.split(\", \")\n",
    "title_production_countries_df = title_production_countries_df.explode('production_countries')\n",
    "title_production_countries_df = factorize_id(title_production_countries_df, 'production_countries', id_field='production_id')\n",
    "title_production_countries_df = title_production_countries_df.rename(columns={'production_countries': 'country'})"
   ]
  },
  {
   "cell_type": "code",
   "execution_count": 13,
   "metadata": {},
   "outputs": [],
   "source": [
    "\"\"\"Normalizing Credits tables.\"\"\"\n",
    "raw_credits_df = factorize_id(raw_credits_df, 'name', id_field='person_id')\n",
    "\n",
    "credits_persons_df = raw_credits_df[['person_id', 'name']].drop_duplicates().reset_index(drop=True)\n",
    "\n",
    "credits_df = raw_credits_df.copy()\n",
    "credits_df.drop(columns=['name'], inplace=True)\n",
    "\n",
    "credits_df['credit_id'] = credits_df.index + 1\n",
    "credits_df = credits_df[['credit_id', 'id', 'person_id', 'character', 'role']]"
   ]
  },
  {
   "cell_type": "markdown",
   "metadata": {},
   "source": [
    "# Data Enrichment"
   ]
  },
  {
   "cell_type": "code",
   "execution_count": 14,
   "metadata": {},
   "outputs": [
    {
     "name": "stdout",
     "output_type": "stream",
     "text": [
      "True\n",
      "True\n",
      "True\n",
      "False \n",
      "Difference between:  1\n"
     ]
    }
   ],
   "source": [
    "\"\"\"Importing related tables with lowercase column names.\"\"\"\n",
    "best_movie_by_year_df = lowercase_column_names(pd.read_csv(os.path.join(directory, 'Best Movie by Year Netflix.csv'), index_col = \"index\"))\n",
    "best_movies_df = lowercase_column_names(pd.read_csv(os.path.join(directory, 'Best Movies Netflix.csv'), index_col = \"index\"))\n",
    "best_shows_df = lowercase_column_names(pd.read_csv(os.path.join(directory, 'Best Shows Netflix.csv'), index_col = \"index\"))\n",
    "best_show_by_year_df = lowercase_column_names(pd.read_csv(os.path.join(directory, 'Best Show by Year Netflix.csv'), index_col = \"index\"))\n",
    "\n",
    "\"\"\"Merge datasets with the titles_df based on title and release year\"\"\"\n",
    "best_movie_by_year_merged = pd.merge(titles_df, best_movie_by_year_df, how='inner', on=['title', 'release_year'])\n",
    "best_movies_merged = pd.merge(titles_df, best_movies_df, how='inner', on=['title', 'release_year'])\n",
    "best_show_by_year_merged = pd.merge(titles_df, best_show_by_year_df, how='inner', on=['title', 'release_year'])\n",
    "best_shows_merged = pd.merge(titles_df, best_shows_df, how='inner', on=['title', 'release_year'])\n",
    "\n",
    "print(best_movie_by_year_merged['title'].count() == best_movie_by_year_df['title'].count())\n",
    "print(best_movies_merged['title'].count() == best_movies_df['title'].count())\n",
    "print(best_show_by_year_merged['title'].count() == best_show_by_year_df['title'].count())\n",
    "print(best_shows_merged['title'].count() == best_shows_df['title'].count(), \n",
    "      \"\\nDifference between: \", best_shows_merged['title'].count() - best_shows_df['title'].count())"
   ]
  },
  {
   "cell_type": "code",
   "execution_count": 15,
   "metadata": {},
   "outputs": [
    {
     "name": "stdout",
     "output_type": "stream",
     "text": [
      "Missing ids: {'tm1063792'}\n"
     ]
    }
   ],
   "source": [
    "# Check if all ids in credits_df are present in titles_df\n",
    "missing_ids = set(credits_df['id']) - set(titles_df['id'])\n",
    "if missing_ids:\n",
    "    print(f\"Missing ids: {missing_ids}\")\n"
   ]
  },
  {
   "cell_type": "code",
   "execution_count": 16,
   "metadata": {},
   "outputs": [],
   "source": [
    "credits_df = credits_df[credits_df['id'] != missing_ids]"
   ]
  },
  {
   "cell_type": "code",
   "execution_count": 17,
   "metadata": {},
   "outputs": [
    {
     "name": "stdout",
     "output_type": "stream",
     "text": [
      "Empty DataFrame\n",
      "Columns: [title, release_year]\n",
      "Index: []\n"
     ]
    }
   ],
   "source": [
    "# Merging with indicator=True to identify the source of each row\n",
    "comparison_df = pd.merge(best_shows_df, best_shows_merged, on=['title', 'release_year'], how='outer', indicator=True)\n",
    "\n",
    "# Filtering to get titles that are only in 'best_shows_df'\n",
    "missing_title = comparison_df[comparison_df['_merge'] == 'left_only'][['title', 'release_year']]\n",
    "print(missing_title)\n"
   ]
  },
  {
   "cell_type": "code",
   "execution_count": 18,
   "metadata": {},
   "outputs": [
    {
     "data": {
      "text/plain": [
       "{'best_movie_by_year': [],\n",
       " 'best_movies': [],\n",
       " 'best_show_by_year': [],\n",
       " 'best_shows': []}"
      ]
     },
     "execution_count": 18,
     "metadata": {},
     "output_type": "execute_result"
    }
   ],
   "source": [
    "\"\"\"Check if there are any unmatched titles. Find titles that don't have a match in titles_df.\"\"\"\n",
    "unmatched_titles = {\n",
    "    'best_movie_by_year': [],\n",
    "    'best_movies': [],\n",
    "    'best_show_by_year': [],\n",
    "    'best_shows': []\n",
    "}\n",
    "\n",
    "unmatched_titles['best_movie_by_year'] = best_movie_by_year_df.loc[~best_movie_by_year_df['title'].isin(best_movie_by_year_merged['title']), 'title'].tolist()\n",
    "unmatched_titles['best_movies'] = best_movies_df.loc[~best_movies_df['title'].isin(best_movies_merged['title']), 'title'].tolist()\n",
    "unmatched_titles['best_show_by_year'] = best_show_by_year_df.loc[~best_show_by_year_df['title'].isin(best_show_by_year_merged['title']), 'title'].tolist()\n",
    "unmatched_titles['best_shows'] = best_shows_df.loc[~best_shows_df['title'].isin(best_shows_merged['title']), 'title'].tolist()\n",
    "\n",
    "unmatched_titles\n"
   ]
  },
  {
   "cell_type": "markdown",
   "metadata": {},
   "source": [
    "# Creating Flags for most popular Shows & Movies"
   ]
  },
  {
   "cell_type": "code",
   "execution_count": 19,
   "metadata": {},
   "outputs": [
    {
     "data": {
      "text/html": [
       "<div>\n",
       "<style scoped>\n",
       "    .dataframe tbody tr th:only-of-type {\n",
       "        vertical-align: middle;\n",
       "    }\n",
       "\n",
       "    .dataframe tbody tr th {\n",
       "        vertical-align: top;\n",
       "    }\n",
       "\n",
       "    .dataframe thead th {\n",
       "        text-align: right;\n",
       "    }\n",
       "</style>\n",
       "<table border=\"1\" class=\"dataframe\">\n",
       "  <thead>\n",
       "    <tr style=\"text-align: right;\">\n",
       "      <th></th>\n",
       "      <th>id</th>\n",
       "      <th>title</th>\n",
       "      <th>release_year</th>\n",
       "      <th>age_certification</th>\n",
       "      <th>runtime</th>\n",
       "      <th>imdb_id</th>\n",
       "      <th>imdb_score</th>\n",
       "      <th>imdb_votes</th>\n",
       "      <th>is_best_movie_by_year</th>\n",
       "      <th>is_best_movie</th>\n",
       "      <th>is_best_show_by_year</th>\n",
       "      <th>is_best_show</th>\n",
       "    </tr>\n",
       "  </thead>\n",
       "  <tbody>\n",
       "    <tr>\n",
       "      <th>0</th>\n",
       "      <td>tm19608</td>\n",
       "      <td>The Blazing Sun</td>\n",
       "      <td>1954</td>\n",
       "      <td>&lt;NA&gt;</td>\n",
       "      <td>100</td>\n",
       "      <td>tt0044429</td>\n",
       "      <td>7.4</td>\n",
       "      <td>1219</td>\n",
       "      <td>0</td>\n",
       "      <td>0</td>\n",
       "      <td>0</td>\n",
       "      <td>0</td>\n",
       "    </tr>\n",
       "    <tr>\n",
       "      <th>1</th>\n",
       "      <td>tm16479</td>\n",
       "      <td>White Christmas</td>\n",
       "      <td>1954</td>\n",
       "      <td>&lt;NA&gt;</td>\n",
       "      <td>115</td>\n",
       "      <td>tt0047673</td>\n",
       "      <td>7.5</td>\n",
       "      <td>42373</td>\n",
       "      <td>1</td>\n",
       "      <td>1</td>\n",
       "      <td>0</td>\n",
       "      <td>0</td>\n",
       "    </tr>\n",
       "    <tr>\n",
       "      <th>2</th>\n",
       "      <td>tm204541</td>\n",
       "      <td>Dark Waters</td>\n",
       "      <td>1956</td>\n",
       "      <td>&lt;NA&gt;</td>\n",
       "      <td>120</td>\n",
       "      <td>tt0049761</td>\n",
       "      <td>6.7</td>\n",
       "      <td>590</td>\n",
       "      <td>0</td>\n",
       "      <td>0</td>\n",
       "      <td>0</td>\n",
       "      <td>0</td>\n",
       "    </tr>\n",
       "    <tr>\n",
       "      <th>3</th>\n",
       "      <td>tm135083</td>\n",
       "      <td>Cairo Station</td>\n",
       "      <td>1958</td>\n",
       "      <td>&lt;NA&gt;</td>\n",
       "      <td>77</td>\n",
       "      <td>tt0051390</td>\n",
       "      <td>7.5</td>\n",
       "      <td>4385</td>\n",
       "      <td>0</td>\n",
       "      <td>0</td>\n",
       "      <td>0</td>\n",
       "      <td>0</td>\n",
       "    </tr>\n",
       "    <tr>\n",
       "      <th>4</th>\n",
       "      <td>tm44204</td>\n",
       "      <td>The Guns of Navarone</td>\n",
       "      <td>1961</td>\n",
       "      <td>&lt;NA&gt;</td>\n",
       "      <td>158</td>\n",
       "      <td>tt0054953</td>\n",
       "      <td>7.5</td>\n",
       "      <td>50150</td>\n",
       "      <td>1</td>\n",
       "      <td>1</td>\n",
       "      <td>0</td>\n",
       "      <td>0</td>\n",
       "    </tr>\n",
       "  </tbody>\n",
       "</table>\n",
       "</div>"
      ],
      "text/plain": [
       "         id                 title  release_year age_certification  runtime  \\\n",
       "0   tm19608       The Blazing Sun          1954              <NA>      100   \n",
       "1   tm16479       White Christmas          1954              <NA>      115   \n",
       "2  tm204541           Dark Waters          1956              <NA>      120   \n",
       "3  tm135083         Cairo Station          1958              <NA>       77   \n",
       "4   tm44204  The Guns of Navarone          1961              <NA>      158   \n",
       "\n",
       "     imdb_id  imdb_score  imdb_votes  is_best_movie_by_year  is_best_movie  \\\n",
       "0  tt0044429         7.4        1219                      0              0   \n",
       "1  tt0047673         7.5       42373                      1              1   \n",
       "2  tt0049761         6.7         590                      0              0   \n",
       "3  tt0051390         7.5        4385                      0              0   \n",
       "4  tt0054953         7.5       50150                      1              1   \n",
       "\n",
       "   is_best_show_by_year  is_best_show  \n",
       "0                     0             0  \n",
       "1                     0             0  \n",
       "2                     0             0  \n",
       "3                     0             0  \n",
       "4                     0             0  "
      ]
     },
     "execution_count": 19,
     "metadata": {},
     "output_type": "execute_result"
    }
   ],
   "source": [
    "\"\"\"Create a Flag in the original Titles dataset for each of the merged datasets, when a title is present in one of those datasets.\n",
    "Instantiate Flags, set them to 1 if the movies/shows are present in 'most popular' dataframe.\"\"\"\n",
    "titles_df = titles_df.copy()\n",
    "credits_df = credits_df.copy()\n",
    "titles_df['is_best_movie_by_year'] = 0\n",
    "titles_df['is_best_movie'] = 0\n",
    "titles_df['is_best_show_by_year'] = 0\n",
    "titles_df['is_best_show'] = 0\n",
    "\n",
    "titles_df.loc[titles_df['id'].isin(best_movie_by_year_merged['id']), 'is_best_movie_by_year'] = 1\n",
    "titles_df.loc[titles_df['id'].isin(best_movies_merged['id']), 'is_best_movie'] = 1\n",
    "titles_df.loc[titles_df['id'].isin(best_show_by_year_merged['id']), 'is_best_show_by_year'] = 1\n",
    "titles_df.loc[titles_df['id'].isin(best_shows_merged['id']), 'is_best_show'] = 1\n",
    "\n",
    "titles_df.head()\n"
   ]
  },
  {
   "cell_type": "markdown",
   "metadata": {},
   "source": [
    "# Save Normalized and Enriched data"
   ]
  },
  {
   "cell_type": "code",
   "execution_count": 20,
   "metadata": {},
   "outputs": [],
   "source": [
    "output_dir = \"normalized_tables/\"\n",
    "os.makedirs(output_dir, exist_ok=True)\n",
    "\n",
    "titles_df.to_csv(os.path.join(output_dir, 'titles.csv'), index=False)\n",
    "title_type_df.to_csv(os.path.join(output_dir, 'title_type.csv'), index=False)\n",
    "title_genres_df.to_csv(os.path.join(output_dir, 'title_genres.csv'), index=False)\n",
    "title_production_countries_df.to_csv(os.path.join(output_dir, 'title_production_countries.csv'), index=False)\n",
    "\n",
    "credits_df.to_csv(os.path.join(output_dir, 'credits.csv'), index=False)\n",
    "credits_persons_df.to_csv(os.path.join(output_dir, 'credits_persons.csv'), index=False)"
   ]
  },
  {
   "cell_type": "code",
   "execution_count": 21,
   "metadata": {},
   "outputs": [],
   "source": [
    "# Reading data\n",
    "output_dir = \"normalized_tables/\"\n",
    "os.makedirs(output_dir, exist_ok=True)\n",
    "\n",
    "titles_df = pd.read_csv(os.path.join(output_dir, 'titles.csv'))\n",
    "title_type_df = pd.read_csv(os.path.join(output_dir, 'title_type.csv'))\n",
    "title_genres_df = pd.read_csv(os.path.join(output_dir, 'title_genres.csv')) \n",
    "title_production_countries_df = pd.read_csv(os.path.join(output_dir, 'title_production_countries.csv'))\n",
    "credits_df = pd.read_csv(os.path.join(output_dir, 'credits.csv'))\n",
    "credits_persons_df = pd.read_csv(os.path.join(output_dir, 'credits_persons.csv'))"
   ]
  },
  {
   "cell_type": "markdown",
   "metadata": {},
   "source": [
    "# Database Setup"
   ]
  },
  {
   "cell_type": "code",
   "execution_count": 22,
   "metadata": {},
   "outputs": [
    {
     "name": "stdout",
     "output_type": "stream",
     "text": [
      "Engine updated.\n"
     ]
    }
   ],
   "source": [
    "# From Imported Class\n",
    "\"\"\"Create database connection and database.\"\"\"\n",
    "db_loader = DatabaseLoader()\n",
    "db_loader.create_engine()\n",
    "\n",
    "\"\"\"Create database and update engine.\"\"\"\n",
    "db_loader.create_database()"
   ]
  },
  {
   "cell_type": "code",
   "execution_count": 23,
   "metadata": {},
   "outputs": [],
   "source": [
    "\"\"\"Create all tables in MySQL database.\"\"\"\n",
    "db_loader.create_all()"
   ]
  },
  {
   "cell_type": "code",
   "execution_count": 24,
   "metadata": {},
   "outputs": [],
   "source": [
    "db_tables = [\n",
    " 'titles', 'title_type',\n",
    " 'title_genres', 'title_production_countries',\n",
    " 'persons', 'credits'\n",
    " ]\n",
    "\n",
    "dfs_list = [\n",
    "    titles_df, title_type_df, \n",
    "    title_genres_df, title_production_countries_df,\n",
    "    credits_persons_df, credits_df\n",
    "]"
   ]
  },
  {
   "cell_type": "code",
   "execution_count": 25,
   "metadata": {},
   "outputs": [
    {
     "name": "stdout",
     "output_type": "stream",
     "text": [
      "Foreign key checks turned off.\n",
      "Inserting into table: titles\n",
      "Inserting into table: title_type\n",
      "Inserting into table: title_genres\n",
      "Inserting into table: title_production_countries\n",
      "Inserting into table: persons\n",
      "Inserting into table: credits\n",
      "Upload complete.\n",
      "Foreign key checks turned on.\n"
     ]
    }
   ],
   "source": [
    "\"\"\"Turn off foregin key constaint checks.\"\"\"\n",
    "db_loader.turn_off_fk_check()\n",
    "\n",
    "\"\"\"Upload all the data from the dataframes to MySQL database tables.\"\"\"\n",
    "for df, db_table in zip(dfs_list, db_tables):\n",
    "    print(f\"Inserting into table: {db_table}\")\n",
    "    db_loader.send_data(df, db_table)\n",
    "print(\"Upload complete.\")    \n",
    "\n",
    "\"\"\"Turn on foreign key checks.\"\"\"\n",
    "db_loader.turn_on_fk_check()"
   ]
  },
  {
   "cell_type": "markdown",
   "metadata": {},
   "source": [
    "# SQL Read/Write through API"
   ]
  },
  {
   "cell_type": "code",
   "execution_count": 27,
   "metadata": {},
   "outputs": [
    {
     "data": {
      "text/html": [
       "<div>\n",
       "<style scoped>\n",
       "    .dataframe tbody tr th:only-of-type {\n",
       "        vertical-align: middle;\n",
       "    }\n",
       "\n",
       "    .dataframe tbody tr th {\n",
       "        vertical-align: top;\n",
       "    }\n",
       "\n",
       "    .dataframe thead th {\n",
       "        text-align: right;\n",
       "    }\n",
       "</style>\n",
       "<table border=\"1\" class=\"dataframe\">\n",
       "  <thead>\n",
       "    <tr style=\"text-align: right;\">\n",
       "      <th></th>\n",
       "      <th>id</th>\n",
       "      <th>title</th>\n",
       "      <th>release_year</th>\n",
       "      <th>age_certification</th>\n",
       "      <th>runtime</th>\n",
       "      <th>imdb_id</th>\n",
       "      <th>imdb_score</th>\n",
       "      <th>imdb_votes</th>\n",
       "      <th>is_best_movie_by_year</th>\n",
       "      <th>is_best_movie</th>\n",
       "      <th>is_best_show_by_year</th>\n",
       "      <th>is_best_show</th>\n",
       "    </tr>\n",
       "  </thead>\n",
       "  <tbody>\n",
       "    <tr>\n",
       "      <th>0</th>\n",
       "      <td>tm1000037</td>\n",
       "      <td>Je suis Karl</td>\n",
       "      <td>2021</td>\n",
       "      <td>R</td>\n",
       "      <td>126</td>\n",
       "      <td>tt9205538</td>\n",
       "      <td>5.4</td>\n",
       "      <td>889</td>\n",
       "      <td>0</td>\n",
       "      <td>0</td>\n",
       "      <td>0</td>\n",
       "      <td>0</td>\n",
       "    </tr>\n",
       "    <tr>\n",
       "      <th>1</th>\n",
       "      <td>tm1000147</td>\n",
       "      <td>Zone 414</td>\n",
       "      <td>2021</td>\n",
       "      <td>R</td>\n",
       "      <td>98</td>\n",
       "      <td>tt8545482</td>\n",
       "      <td>4.9</td>\n",
       "      <td>3878</td>\n",
       "      <td>0</td>\n",
       "      <td>0</td>\n",
       "      <td>0</td>\n",
       "      <td>0</td>\n",
       "    </tr>\n",
       "    <tr>\n",
       "      <th>2</th>\n",
       "      <td>tm1000166</td>\n",
       "      <td>Wave of Cinema: Surat Dari Timur</td>\n",
       "      <td>2020</td>\n",
       "      <td>None</td>\n",
       "      <td>57</td>\n",
       "      <td>None</td>\n",
       "      <td>6.6</td>\n",
       "      <td>2279</td>\n",
       "      <td>0</td>\n",
       "      <td>0</td>\n",
       "      <td>0</td>\n",
       "      <td>0</td>\n",
       "    </tr>\n",
       "    <tr>\n",
       "      <th>3</th>\n",
       "      <td>tm1000185</td>\n",
       "      <td>Squared Love</td>\n",
       "      <td>2021</td>\n",
       "      <td>None</td>\n",
       "      <td>102</td>\n",
       "      <td>tt13846542</td>\n",
       "      <td>5.0</td>\n",
       "      <td>3059</td>\n",
       "      <td>0</td>\n",
       "      <td>0</td>\n",
       "      <td>0</td>\n",
       "      <td>0</td>\n",
       "    </tr>\n",
       "    <tr>\n",
       "      <th>4</th>\n",
       "      <td>tm100027</td>\n",
       "      <td>Alibaba Aur 40 Chor</td>\n",
       "      <td>1979</td>\n",
       "      <td>None</td>\n",
       "      <td>138</td>\n",
       "      <td>tt0079749</td>\n",
       "      <td>6.2</td>\n",
       "      <td>555</td>\n",
       "      <td>0</td>\n",
       "      <td>0</td>\n",
       "      <td>0</td>\n",
       "      <td>0</td>\n",
       "    </tr>\n",
       "    <tr>\n",
       "      <th>...</th>\n",
       "      <td>...</td>\n",
       "      <td>...</td>\n",
       "      <td>...</td>\n",
       "      <td>...</td>\n",
       "      <td>...</td>\n",
       "      <td>...</td>\n",
       "      <td>...</td>\n",
       "      <td>...</td>\n",
       "      <td>...</td>\n",
       "      <td>...</td>\n",
       "      <td>...</td>\n",
       "      <td>...</td>\n",
       "    </tr>\n",
       "    <tr>\n",
       "      <th>5800</th>\n",
       "      <td>ts98316</td>\n",
       "      <td>Edge of the Universe</td>\n",
       "      <td>2002</td>\n",
       "      <td>TV-G</td>\n",
       "      <td>49</td>\n",
       "      <td>tt6951568</td>\n",
       "      <td>7.2</td>\n",
       "      <td>206</td>\n",
       "      <td>0</td>\n",
       "      <td>0</td>\n",
       "      <td>0</td>\n",
       "      <td>0</td>\n",
       "    </tr>\n",
       "    <tr>\n",
       "      <th>5801</th>\n",
       "      <td>ts98340</td>\n",
       "      <td>Metallica: Some Kind of Monster</td>\n",
       "      <td>2004</td>\n",
       "      <td>TV-MA</td>\n",
       "      <td>84</td>\n",
       "      <td>tt6954486</td>\n",
       "      <td>6.6</td>\n",
       "      <td>2279</td>\n",
       "      <td>0</td>\n",
       "      <td>0</td>\n",
       "      <td>0</td>\n",
       "      <td>0</td>\n",
       "    </tr>\n",
       "    <tr>\n",
       "      <th>5802</th>\n",
       "      <td>ts98353</td>\n",
       "      <td>DreamWorks Spooky Stories</td>\n",
       "      <td>2009</td>\n",
       "      <td>TV-PG</td>\n",
       "      <td>26</td>\n",
       "      <td>tt6958564</td>\n",
       "      <td>6.2</td>\n",
       "      <td>19</td>\n",
       "      <td>0</td>\n",
       "      <td>0</td>\n",
       "      <td>0</td>\n",
       "      <td>0</td>\n",
       "    </tr>\n",
       "    <tr>\n",
       "      <th>5803</th>\n",
       "      <td>ts987</td>\n",
       "      <td>Danger Mouse</td>\n",
       "      <td>1981</td>\n",
       "      <td>TV-Y</td>\n",
       "      <td>15</td>\n",
       "      <td>tt0081848</td>\n",
       "      <td>7.4</td>\n",
       "      <td>3514</td>\n",
       "      <td>0</td>\n",
       "      <td>0</td>\n",
       "      <td>0</td>\n",
       "      <td>0</td>\n",
       "    </tr>\n",
       "    <tr>\n",
       "      <th>5804</th>\n",
       "      <td>ts99814</td>\n",
       "      <td>Masameer</td>\n",
       "      <td>2011</td>\n",
       "      <td>TV-MA</td>\n",
       "      <td>0</td>\n",
       "      <td>tt6298258</td>\n",
       "      <td>8.2</td>\n",
       "      <td>677</td>\n",
       "      <td>0</td>\n",
       "      <td>0</td>\n",
       "      <td>0</td>\n",
       "      <td>0</td>\n",
       "    </tr>\n",
       "  </tbody>\n",
       "</table>\n",
       "<p>5805 rows × 12 columns</p>\n",
       "</div>"
      ],
      "text/plain": [
       "             id                             title  release_year  \\\n",
       "0     tm1000037                      Je suis Karl          2021   \n",
       "1     tm1000147                          Zone 414          2021   \n",
       "2     tm1000166  Wave of Cinema: Surat Dari Timur          2020   \n",
       "3     tm1000185                      Squared Love          2021   \n",
       "4      tm100027               Alibaba Aur 40 Chor          1979   \n",
       "...         ...                               ...           ...   \n",
       "5800    ts98316              Edge of the Universe          2002   \n",
       "5801    ts98340   Metallica: Some Kind of Monster          2004   \n",
       "5802    ts98353         DreamWorks Spooky Stories          2009   \n",
       "5803      ts987                      Danger Mouse          1981   \n",
       "5804    ts99814                          Masameer          2011   \n",
       "\n",
       "     age_certification  runtime     imdb_id  imdb_score  imdb_votes  \\\n",
       "0                    R      126   tt9205538         5.4         889   \n",
       "1                    R       98   tt8545482         4.9        3878   \n",
       "2                 None       57        None         6.6        2279   \n",
       "3                 None      102  tt13846542         5.0        3059   \n",
       "4                 None      138   tt0079749         6.2         555   \n",
       "...                ...      ...         ...         ...         ...   \n",
       "5800              TV-G       49   tt6951568         7.2         206   \n",
       "5801             TV-MA       84   tt6954486         6.6        2279   \n",
       "5802             TV-PG       26   tt6958564         6.2          19   \n",
       "5803              TV-Y       15   tt0081848         7.4        3514   \n",
       "5804             TV-MA        0   tt6298258         8.2         677   \n",
       "\n",
       "      is_best_movie_by_year  is_best_movie  is_best_show_by_year  is_best_show  \n",
       "0                         0              0                     0             0  \n",
       "1                         0              0                     0             0  \n",
       "2                         0              0                     0             0  \n",
       "3                         0              0                     0             0  \n",
       "4                         0              0                     0             0  \n",
       "...                     ...            ...                   ...           ...  \n",
       "5800                      0              0                     0             0  \n",
       "5801                      0              0                     0             0  \n",
       "5802                      0              0                     0             0  \n",
       "5803                      0              0                     0             0  \n",
       "5804                      0              0                     0             0  \n",
       "\n",
       "[5805 rows x 12 columns]"
      ]
     },
     "execution_count": 27,
     "metadata": {},
     "output_type": "execute_result"
    }
   ],
   "source": [
    "recommender_api = QueryRecommender_api()\n",
    "recommender_api.recommender_retrieve()\n",
    "\n",
    "query = \"SELECT * FROM titles\"\n",
    "recommender_api.read(query)"
   ]
  },
  {
   "cell_type": "code",
   "execution_count": 28,
   "metadata": {},
   "outputs": [
    {
     "data": {
      "text/html": [
       "<div>\n",
       "<style scoped>\n",
       "    .dataframe tbody tr th:only-of-type {\n",
       "        vertical-align: middle;\n",
       "    }\n",
       "\n",
       "    .dataframe tbody tr th {\n",
       "        vertical-align: top;\n",
       "    }\n",
       "\n",
       "    .dataframe thead th {\n",
       "        text-align: right;\n",
       "    }\n",
       "</style>\n",
       "<table border=\"1\" class=\"dataframe\">\n",
       "  <thead>\n",
       "    <tr style=\"text-align: right;\">\n",
       "      <th></th>\n",
       "      <th>id</th>\n",
       "      <th>title</th>\n",
       "      <th>imdb_score</th>\n",
       "      <th>genre</th>\n",
       "    </tr>\n",
       "  </thead>\n",
       "  <tbody>\n",
       "    <tr>\n",
       "      <th>0</th>\n",
       "      <td>tm1000037</td>\n",
       "      <td>Je suis Karl</td>\n",
       "      <td>5.4</td>\n",
       "      <td>romance</td>\n",
       "    </tr>\n",
       "    <tr>\n",
       "      <th>1</th>\n",
       "      <td>tm1000037</td>\n",
       "      <td>Je suis Karl</td>\n",
       "      <td>5.4</td>\n",
       "      <td>drama</td>\n",
       "    </tr>\n",
       "    <tr>\n",
       "      <th>2</th>\n",
       "      <td>tm1000037</td>\n",
       "      <td>Je suis Karl</td>\n",
       "      <td>5.4</td>\n",
       "      <td>thriller</td>\n",
       "    </tr>\n",
       "    <tr>\n",
       "      <th>3</th>\n",
       "      <td>tm1000037</td>\n",
       "      <td>Je suis Karl</td>\n",
       "      <td>5.4</td>\n",
       "      <td>european</td>\n",
       "    </tr>\n",
       "    <tr>\n",
       "      <th>4</th>\n",
       "      <td>tm1000147</td>\n",
       "      <td>Zone 414</td>\n",
       "      <td>4.9</td>\n",
       "      <td>thriller</td>\n",
       "    </tr>\n",
       "  </tbody>\n",
       "</table>\n",
       "</div>"
      ],
      "text/plain": [
       "          id         title  imdb_score     genre\n",
       "0  tm1000037  Je suis Karl         5.4   romance\n",
       "1  tm1000037  Je suis Karl         5.4     drama\n",
       "2  tm1000037  Je suis Karl         5.4  thriller\n",
       "3  tm1000037  Je suis Karl         5.4  european\n",
       "4  tm1000147      Zone 414         4.9  thriller"
      ]
     },
     "execution_count": 28,
     "metadata": {},
     "output_type": "execute_result"
    }
   ],
   "source": [
    "query = \"\"\"SELECT \n",
    "            t1.id,\n",
    "            t1.title,\n",
    "            t1.imdb_score,\n",
    "            t2.genre\n",
    "            FROM titles AS t1\n",
    "            LEFT JOIN title_genres AS t2\n",
    "            ON t1.id=t2.id\"\"\"\n",
    "recommender_api.read(query).head(5)"
   ]
  },
  {
   "cell_type": "code",
   "execution_count": 29,
   "metadata": {},
   "outputs": [
    {
     "ename": "ValueError",
     "evalue": "Not a SELECT statement",
     "output_type": "error",
     "traceback": [
      "\u001b[0;31m---------------------------------------------------------------------------\u001b[0m",
      "\u001b[0;31mValueError\u001b[0m                                Traceback (most recent call last)",
      "Cell \u001b[0;32mIn[29], line 11\u001b[0m\n\u001b[1;32m      1\u001b[0m \u001b[39m\"\"\"Showcasing validation on SELECT. \"\"\"\u001b[39;00m\n\u001b[1;32m      2\u001b[0m query \u001b[39m=\u001b[39m \u001b[39m\"\"\"\u001b[39m\u001b[39mCREATE OR REPLACE VIEW titles_and_genres AS\u001b[39m\n\u001b[1;32m      3\u001b[0m \u001b[39m            SELECT\u001b[39m\n\u001b[1;32m      4\u001b[0m \u001b[39m            t1.id,\u001b[39m\n\u001b[0;32m   (...)\u001b[0m\n\u001b[1;32m      9\u001b[0m \u001b[39m            LEFT JOIN title_genres AS t2\u001b[39m\n\u001b[1;32m     10\u001b[0m \u001b[39m            ON t1.id=t2.id\u001b[39m\u001b[39m\"\"\"\u001b[39m\n\u001b[0;32m---> 11\u001b[0m recommender_api\u001b[39m.\u001b[39;49mread(query)\u001b[39m.\u001b[39mhead(\u001b[39m5\u001b[39m)\n",
      "File \u001b[0;32m/Volumes/Workspace/Turing_College/1.4_project_clean/query_recommender_api.py:75\u001b[0m, in \u001b[0;36mQueryRecommender_api.read\u001b[0;34m(self, query)\u001b[0m\n\u001b[1;32m     73\u001b[0m query \u001b[39m=\u001b[39m query\u001b[39m.\u001b[39mstrip()\n\u001b[1;32m     74\u001b[0m \u001b[39mif\u001b[39;00m \u001b[39mnot\u001b[39;00m query\u001b[39m.\u001b[39mupper()\u001b[39m.\u001b[39mstartswith(\u001b[39m\"\u001b[39m\u001b[39mSELECT\u001b[39m\u001b[39m\"\u001b[39m):\n\u001b[0;32m---> 75\u001b[0m     \u001b[39mraise\u001b[39;00m \u001b[39mValueError\u001b[39;00m(\u001b[39m\"\u001b[39m\u001b[39mNot a SELECT statement\u001b[39m\u001b[39m\"\u001b[39m)\n\u001b[1;32m     77\u001b[0m session \u001b[39m=\u001b[39m \u001b[39mself\u001b[39m\u001b[39m.\u001b[39msession_factory()\n\u001b[1;32m     78\u001b[0m \u001b[39mtry\u001b[39;00m:\n",
      "\u001b[0;31mValueError\u001b[0m: Not a SELECT statement"
     ]
    }
   ],
   "source": [
    "\"\"\"Showcasing validation on SELECT. \"\"\"\n",
    "query = \"\"\"CREATE OR REPLACE VIEW titles_and_genres AS\n",
    "            SELECT\n",
    "            t1.id,\n",
    "            t1.title,\n",
    "            t1.imdb_score,\n",
    "            t2.genre\n",
    "            FROM titles AS t1\n",
    "            LEFT JOIN title_genres AS t2\n",
    "            ON t1.id=t2.id\"\"\"\n",
    "recommender_api.read(query).head(5)"
   ]
  },
  {
   "cell_type": "code",
   "execution_count": 30,
   "metadata": {},
   "outputs": [
    {
     "name": "stdout",
     "output_type": "stream",
     "text": [
      "Successfully executed query: \n",
      "CREATE TABLE demo_table (demo_id INT AUTO_INCREMENT PRIMARY KEY, name VARCHAR(30) NOT NULL)\n",
      "Successfully executed query: \n",
      "INSERT INTO demo_table (name) VALUES ('Some name'), ('Another name'), ('Last name')\n"
     ]
    }
   ],
   "source": [
    "write_query = \"CREATE TABLE demo_table (demo_id INT AUTO_INCREMENT PRIMARY KEY, name VARCHAR(30) NOT NULL)\"\n",
    "recommender_api.write(write_query)\n",
    "\n",
    "insert_query = \"INSERT INTO demo_table (name) VALUES ('Some name'), ('Another name'), ('Last name')\"\n",
    "recommender_api.write(insert_query)"
   ]
  },
  {
   "cell_type": "markdown",
   "metadata": {},
   "source": [
    "## Recommender showcase"
   ]
  },
  {
   "cell_type": "code",
   "execution_count": 31,
   "metadata": {},
   "outputs": [
    {
     "data": {
      "text/html": [
       "<div>\n",
       "<style scoped>\n",
       "    .dataframe tbody tr th:only-of-type {\n",
       "        vertical-align: middle;\n",
       "    }\n",
       "\n",
       "    .dataframe tbody tr th {\n",
       "        vertical-align: top;\n",
       "    }\n",
       "\n",
       "    .dataframe thead th {\n",
       "        text-align: right;\n",
       "    }\n",
       "</style>\n",
       "<table border=\"1\" class=\"dataframe\">\n",
       "  <thead>\n",
       "    <tr style=\"text-align: right;\">\n",
       "      <th></th>\n",
       "      <th>input_id</th>\n",
       "      <th>input_title</th>\n",
       "      <th>imdb_score</th>\n",
       "      <th>genre</th>\n",
       "      <th>rec_title_1</th>\n",
       "      <th>rec_title_2</th>\n",
       "      <th>rec_title_3</th>\n",
       "      <th>rec_title_4</th>\n",
       "      <th>rec_title_5</th>\n",
       "    </tr>\n",
       "  </thead>\n",
       "  <tbody>\n",
       "    <tr>\n",
       "      <th>0</th>\n",
       "      <td>tm1000185</td>\n",
       "      <td>Squared Love</td>\n",
       "      <td>5.0</td>\n",
       "      <td>romance</td>\n",
       "      <td>Who Rules The World</td>\n",
       "      <td>Reply 1988</td>\n",
       "      <td>Seinfeld</td>\n",
       "      <td>Still Game</td>\n",
       "      <td>Heartstopper</td>\n",
       "    </tr>\n",
       "  </tbody>\n",
       "</table>\n",
       "</div>"
      ],
      "text/plain": [
       "    input_id   input_title  imdb_score    genre          rec_title_1  \\\n",
       "0  tm1000185  Squared Love         5.0  romance  Who Rules The World   \n",
       "\n",
       "  rec_title_2 rec_title_3 rec_title_4   rec_title_5  \n",
       "0  Reply 1988    Seinfeld  Still Game  Heartstopper  "
      ]
     },
     "execution_count": 31,
     "metadata": {},
     "output_type": "execute_result"
    }
   ],
   "source": [
    "recommender_api.recommend_title(input_id=['tm1000185', 'ts99814'])"
   ]
  },
  {
   "cell_type": "code",
   "execution_count": 32,
   "metadata": {},
   "outputs": [
    {
     "name": "stdout",
     "output_type": "stream",
     "text": [
      "Foreign key checks turned off.\n",
      "Data sent to MySQL database successfully.\n",
      "Foreign key checks turned on.\n"
     ]
    }
   ],
   "source": [
    "recommender_api.recommender_send_data()"
   ]
  },
  {
   "cell_type": "code",
   "execution_count": 33,
   "metadata": {},
   "outputs": [
    {
     "data": {
      "text/html": [
       "<div>\n",
       "<style scoped>\n",
       "    .dataframe tbody tr th:only-of-type {\n",
       "        vertical-align: middle;\n",
       "    }\n",
       "\n",
       "    .dataframe tbody tr th {\n",
       "        vertical-align: top;\n",
       "    }\n",
       "\n",
       "    .dataframe thead th {\n",
       "        text-align: right;\n",
       "    }\n",
       "</style>\n",
       "<table border=\"1\" class=\"dataframe\">\n",
       "  <thead>\n",
       "    <tr style=\"text-align: right;\">\n",
       "      <th></th>\n",
       "      <th>input_id</th>\n",
       "      <th>input_title</th>\n",
       "      <th>imdb_score</th>\n",
       "      <th>genre</th>\n",
       "      <th>rec_title_1</th>\n",
       "      <th>rec_title_2</th>\n",
       "      <th>rec_title_3</th>\n",
       "      <th>rec_title_4</th>\n",
       "      <th>rec_title_5</th>\n",
       "    </tr>\n",
       "  </thead>\n",
       "  <tbody>\n",
       "    <tr>\n",
       "      <th>0</th>\n",
       "      <td>tm1000037</td>\n",
       "      <td>Je suis Karl</td>\n",
       "      <td>5.4</td>\n",
       "      <td>romance</td>\n",
       "      <td>Who Rules The World</td>\n",
       "      <td>Reply 1988</td>\n",
       "      <td>Heartstopper</td>\n",
       "      <td>Forrest Gump</td>\n",
       "      <td>The Untamed</td>\n",
       "    </tr>\n",
       "    <tr>\n",
       "      <th>1</th>\n",
       "      <td>tm1000147</td>\n",
       "      <td>Zone 414</td>\n",
       "      <td>4.9</td>\n",
       "      <td>thriller</td>\n",
       "      <td>Shot in the Dark</td>\n",
       "      <td>Icarus</td>\n",
       "      <td>Andhaghaaram</td>\n",
       "      <td>Human Nature</td>\n",
       "      <td>The Conjuring</td>\n",
       "    </tr>\n",
       "  </tbody>\n",
       "</table>\n",
       "</div>"
      ],
      "text/plain": [
       "    input_id   input_title  imdb_score     genre          rec_title_1  \\\n",
       "0  tm1000037  Je suis Karl         5.4   romance  Who Rules The World   \n",
       "1  tm1000147      Zone 414         4.9  thriller     Shot in the Dark   \n",
       "\n",
       "  rec_title_2   rec_title_3   rec_title_4    rec_title_5  \n",
       "0  Reply 1988  Heartstopper  Forrest Gump    The Untamed  \n",
       "1      Icarus  Andhaghaaram  Human Nature  The Conjuring  "
      ]
     },
     "execution_count": 33,
     "metadata": {},
     "output_type": "execute_result"
    }
   ],
   "source": [
    "recommender_api.recommend_titles(['tm1000037', 'tm1000147'])"
   ]
  },
  {
   "cell_type": "code",
   "execution_count": 34,
   "metadata": {},
   "outputs": [
    {
     "name": "stdout",
     "output_type": "stream",
     "text": [
      "Foreign key checks turned off.\n",
      "Data sent to MySQL database successfully.\n",
      "Foreign key checks turned on.\n"
     ]
    }
   ],
   "source": [
    "recommender_api.recommender_send_data()"
   ]
  },
  {
   "cell_type": "markdown",
   "metadata": {},
   "source": [
    "# Creating requirements.txt"
   ]
  },
  {
   "cell_type": "code",
   "execution_count": null,
   "metadata": {},
   "outputs": [],
   "source": [
    "python3 -m pip freeze"
   ]
  },
  {
   "cell_type": "code",
   "execution_count": null,
   "metadata": {},
   "outputs": [],
   "source": [
    "pip freeze > requirements.txt"
   ]
  }
 ],
 "metadata": {
  "kernelspec": {
   "display_name": "Python 3",
   "language": "python",
   "name": "python3"
  },
  "language_info": {
   "codemirror_mode": {
    "name": "ipython",
    "version": 3
   },
   "file_extension": ".py",
   "mimetype": "text/x-python",
   "name": "python",
   "nbconvert_exporter": "python",
   "pygments_lexer": "ipython3",
   "version": "3.10.9"
  },
  "orig_nbformat": 4
 },
 "nbformat": 4,
 "nbformat_minor": 2
}
