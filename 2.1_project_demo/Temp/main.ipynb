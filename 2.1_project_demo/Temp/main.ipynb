{
 "cells": [
  {
   "cell_type": "code",
   "execution_count": 1,
   "metadata": {},
   "outputs": [],
   "source": [
    "import numpy as np\n",
    "from src.main import convolution2d, window1d, transpose2d, create_random_matrix"
   ]
  },
  {
   "cell_type": "code",
   "execution_count": 2,
   "metadata": {},
   "outputs": [
    {
     "name": "stdout",
     "output_type": "stream",
     "text": [
      "[[7, 1, 8, 8], [4, 1, 7, 8], [7, 1, 7, 0]]\n",
      "[[7, 4, 7], [1, 1, 1], [8, 7, 7], [8, 8, 0]]\n",
      "[[1, 4, 2], [2, 5, 15]]\n"
     ]
    }
   ],
   "source": [
    "# Transposition\n",
    "random_matrix = create_random_matrix(3, 4)\n",
    "\n",
    "print(random_matrix)\n",
    "\n",
    "input_matrix = [\n",
    "    [1, 2],\n",
    "    [4, 5],\n",
    "    [2, 15]\n",
    "  ]\n",
    "\n",
    "print(transpose2d(input_matrix=random_matrix))\n",
    "print(transpose2d(input_matrix=input_matrix))"
   ]
  },
  {
   "cell_type": "code",
   "execution_count": 3,
   "metadata": {},
   "outputs": [
    {
     "data": {
      "text/plain": [
       "[[0, 2], [2, 4], [4, 6], [6, 8]]"
      ]
     },
     "execution_count": 3,
     "metadata": {},
     "output_type": "execute_result"
    }
   ],
   "source": [
    "# Windowing\n",
    "windowed = window1d(list(range(10)), size=2, shift=2, stride=2)\n",
    "windowed"
   ]
  },
  {
   "cell_type": "code",
   "execution_count": 4,
   "metadata": {},
   "outputs": [
    {
     "data": {
      "text/plain": [
       "[array([1, 3]), array([3, 5]), array([5, 7]), array([7, 9])]"
      ]
     },
     "execution_count": 4,
     "metadata": {},
     "output_type": "execute_result"
    }
   ],
   "source": [
    "# input_array = [1, 2, 3, 4, 5, 6, 7, 8, 9, 10]\n",
    "input_array = np.array([1, 2, 3, 4, 5, 6, 7, 8, 9, 10])\n",
    "\n",
    "windowed = window1d(input_array=input_array, size=2, shift=2, stride=2)\n",
    "windowed"
   ]
  },
  {
   "cell_type": "code",
   "execution_count": 5,
   "metadata": {},
   "outputs": [
    {
     "data": {
      "text/plain": [
       "[array([3, 1]),\n",
       " array([1, 0]),\n",
       " array([ 0, 18]),\n",
       " array([18,  4]),\n",
       " array([4, 9]),\n",
       " array([ 9, 18]),\n",
       " array([18, 10]),\n",
       " array([10,  4]),\n",
       " array([ 4, 13])]"
      ]
     },
     "execution_count": 5,
     "metadata": {},
     "output_type": "execute_result"
    }
   ],
   "source": [
    "# new_array = np.array([1, 2, 3, 4, 5, 6, 7, 8, 9, 10])\n",
    "# new_array = [1, 2, 3, 4, 5, 6, 7, 8, 9, 10]\n",
    "new_array = np.random.randint(0, 20, 20)\n",
    "\n",
    "windowed = window1d(new_array, size=2, shift=2, stride=2)\n",
    "windowed"
   ]
  },
  {
   "cell_type": "code",
   "execution_count": 6,
   "metadata": {},
   "outputs": [
    {
     "data": {
      "text/plain": [
       "array([[ 9.4, 15.8],\n",
       "       [35. , 41.4]])"
      ]
     },
     "execution_count": 6,
     "metadata": {},
     "output_type": "execute_result"
    }
   ],
   "source": [
    "# Convolution\n",
    "input_matrix = np.array([\n",
    "    [1, 2, 3, 4],\n",
    "    [5, 6, 7, 8],\n",
    "    [9, 10, 11, 12],\n",
    "    [13, 14, 15, 16]\n",
    "])\n",
    "kernel = np.array([\n",
    "    [1, 1.2],\n",
    "    [0, 1]\n",
    "])\n",
    "convolved = convolution2d(input_matrix=input_matrix, kernel=kernel, stride=2)\n",
    "convolved"
   ]
  },
  {
   "cell_type": "code",
   "execution_count": null,
   "metadata": {},
   "outputs": [],
   "source": []
  },
  {
   "cell_type": "code",
   "execution_count": null,
   "metadata": {},
   "outputs": [],
   "source": []
  },
  {
   "cell_type": "markdown",
   "metadata": {},
   "source": [
    "Given an array \"nums\" containing \"n\" distinct numbers in the range [0, n], return the only number in the range that is missing from the array."
   ]
  },
  {
   "cell_type": "code",
   "execution_count": null,
   "metadata": {},
   "outputs": [],
   "source": [
    "from collections import Counter\n",
    "\n",
    "nums = [3, 0, 1]\n",
    "# output = 2\n",
    "# nums_sorted = nums.sort()\n",
    "nums_sorted = sorted(nums)\n",
    "listed = list(range(len(nums)+1))\n",
    "print(listed)\n",
    "print(nums_sorted)\n",
    "output = nums_sorted not in listed\n",
    "print(output)\n",
    "\n",
    "a = Counter(listed)\n",
    "b = Counter(nums_sorted)\n",
    "c = a-b\n",
    "print(c)\n",
    "# print(c.keys())\n",
    "output = list(c.keys())[0]\n",
    "output"
   ]
  },
  {
   "cell_type": "code",
   "execution_count": null,
   "metadata": {},
   "outputs": [],
   "source": [
    "nums = [9,6,4,2,3,5,7,0,1] \n",
    "\n",
    "nums_sorted = sorted(nums)\n",
    "listed = list(range(len(nums)+1))\n",
    "\n",
    "\n",
    "a = Counter(listed)\n",
    "b = Counter(nums_sorted)\n",
    "c = a-b\n",
    "print(c)\n",
    "output = list(c.keys())[0]\n",
    "output\n",
    "\n",
    "solutions:\n",
    "  * Math to sum input array and compare to sum or full list new_array\n",
    "  * Coutner both lists and find frequency of 1\n",
    "  * for loop looping through lists and finding mismatches between lists\n",
    "\n",
    "calculate average on list of numbers\n",
    "use function\n",
    "use class\n",
    "\n",
    "create a class of books\n",
    "a class of library catalog\n",
    "and be able to add a book to library\n",
    "and add an ability to find a book in a library by author\n"
   ]
  },
  {
   "cell_type": "code",
   "execution_count": null,
   "metadata": {},
   "outputs": [],
   "source": [
    "Given an array \"nums\" containing \"n\" distinct numbers in the range [0, n], return the only number in the range that is missing from the array.\n",
    "\n",
    "nums = [3,0,1] output = 2\n",
    "\n",
    "nums = [9,6,4,2,3,5,7,0,1] output = 8\n",
    "\n",
    "nums = [0,1] Output = 2\n",
    "\n",
    "\n",
    "\n",
    "\n",
    "\n"
   ]
  },
  {
   "cell_type": "code",
   "execution_count": 8,
   "metadata": {},
   "outputs": [
    {
     "data": {
      "text/plain": [
       "array([[ 6., 10.],\n",
       "       [22., 26.]])"
      ]
     },
     "execution_count": 8,
     "metadata": {},
     "output_type": "execute_result"
    }
   ],
   "source": [
    "# Test the function with the provided example\n",
    "test_input_matrix = np.array([[1, 2, 3, 4], [5, 6, 7, 8], [9, 10, 11, 12], [13, 14, 15, 16]])\n",
    "test_kernel = np.array([[1, 0], [1, 0]])\n",
    "\n",
    "# test_kernel= np.array([[1, 2, 3, 4], [5, 6, 7, 8], [9, 10, 11, 12], [13, 14, 15, 16]])\n",
    "# test_input_matrix = np.array([[1, 0], [1, 0]])\n",
    "\n",
    "test_stride = 2\n",
    "convolved_output = convolution2d(test_input_matrix, test_kernel, test_stride)\n",
    "convolved_output\n"
   ]
  },
  {
   "cell_type": "code",
   "execution_count": null,
   "metadata": {},
   "outputs": [],
   "source": []
  },
  {
   "cell_type": "code",
   "execution_count": null,
   "metadata": {},
   "outputs": [],
   "source": []
  },
  {
   "cell_type": "code",
   "execution_count": null,
   "metadata": {},
   "outputs": [],
   "source": []
  },
  {
   "cell_type": "code",
   "execution_count": null,
   "metadata": {},
   "outputs": [],
   "source": []
  },
  {
   "cell_type": "code",
   "execution_count": null,
   "metadata": {},
   "outputs": [],
   "source": []
  },
  {
   "cell_type": "code",
   "execution_count": null,
   "metadata": {},
   "outputs": [],
   "source": []
  },
  {
   "cell_type": "markdown",
   "metadata": {},
   "source": [
    "# Matrix Transpose"
   ]
  },
  {
   "cell_type": "code",
   "execution_count": null,
   "metadata": {},
   "outputs": [],
   "source": [
    "input_matrix = np.array([\n",
    "    [1, 2, 3, 4],\n",
    "    [5, 6, 7, 8],\n",
    "    [9, 10, 11, 12],\n",
    "    [13, 14, 15, 16]\n",
    "])\n",
    "\n",
    "for row in input_matrix:\n",
    "  print(row)"
   ]
  },
  {
   "cell_type": "code",
   "execution_count": null,
   "metadata": {},
   "outputs": [],
   "source": [
    "for i in range(len(input_matrix[0])):\n",
    "  print([row[i] for row in input_matrix])"
   ]
  },
  {
   "cell_type": "code",
   "execution_count": null,
   "metadata": {},
   "outputs": [],
   "source": [
    "transposed = [[row[i] for row in input_matrix] for i in range(len(input_matrix[0]))]\n",
    "transposed"
   ]
  },
  {
   "cell_type": "code",
   "execution_count": null,
   "metadata": {},
   "outputs": [],
   "source": [
    "input_matrix = [\n",
    "    [1.0, 2.0, 3.0],\n",
    "    [4.0, 5.0, 6.0],\n",
    "    [7.0, 8.0, 9.0]\n",
    "]\n",
    "\n",
    "# ZIP creates tuples\n",
    "# transposed_matrix = list(zip(*input_matrix))\n",
    "transposed_matrix = [list(row) for row in zip(*input_matrix)]\n",
    "\n",
    "transposed_matrix\n"
   ]
  },
  {
   "cell_type": "markdown",
   "metadata": {},
   "source": [
    "# Windowing"
   ]
  },
  {
   "cell_type": "code",
   "execution_count": null,
   "metadata": {},
   "outputs": [],
   "source": [
    "# Trial\n",
    "def window1d(*, input_array: Union[List[float], np.ndarray], size: int, shift: int = 1, stride: int = 1) -> Union[List[List[float]], List[np.ndarray]]:\n",
    "    windows = []\n",
    "    i = 0\n",
    "    \n",
    "    # Continue until the end of the array is reached\n",
    "    while i + size * stride <= len(input_array):\n",
    "        window = []\n",
    "        j = 0\n",
    "        \n",
    "        while len(window) < size and (i + j) < len(input_array):\n",
    "            window.append(input_array[i + j])\n",
    "            j += stride\n",
    "        \n",
    "        # If the window size is as expected, append it to the windows list\n",
    "        if len(window) == size:\n",
    "            if isinstance(input_array, np.ndarray):\n",
    "                windows.append(np.array(window))\n",
    "            else:\n",
    "                windows.append(window)\n",
    "        \n",
    "        # Shift to the next window using the shift provided\n",
    "        i += shift\n",
    "        \n",
    "    return windows\n",
    "\n",
    "new_array = np.array([1, 2, 3, 4, 5, 6, 7, 8, 9, 10])\n",
    "type(new_array)\n",
    "\n",
    "windowed_data = window1d(input_array=new_array, size=3, shift=2, stride=2)\n",
    "windowed_data\n"
   ]
  },
  {
   "cell_type": "code",
   "execution_count": null,
   "metadata": {},
   "outputs": [],
   "source": [
    "input_array = np.array([1, 2, 3, 4, 5, 6, 7, 8, 9, 10])\n",
    "size = 3\n",
    "stride = 2\n",
    "shift = 2\n",
    "\n",
    "num_windows = (len(input_array) - size * stride) // shift + 1\n",
    "#                           10 - 3 * 2 // 2 + 1\n",
    "print(len(input_array))\n",
    "print(num_windows)\n",
    "\n",
    "print(input_array[0:10:2])"
   ]
  },
  {
   "cell_type": "markdown",
   "metadata": {},
   "source": [
    "# Convolution and Cross correlation"
   ]
  },
  {
   "cell_type": "code",
   "execution_count": null,
   "metadata": {},
   "outputs": [],
   "source": [
    "import numpy as np\n",
    "\n",
    "def convolution2d(input_matrix: np.ndarray, kernel: np.ndarray, stride: int = 1) -> np.ndarray:\n",
    "    \n",
    "    # Ensure inputs size, shift, and stride are positive\n",
    "    if stride <= 0 or not isinstance(stride, int):\n",
    "        raise ValueError(\"Stride must be a positive integer.\")\n",
    "    \n",
    "    # Ensure inputs are 2D arrays\n",
    "    if not isinstance(input_matrix, np.ndarray) or input_matrix.ndim != 2 or not isinstance(kernel, np.ndarray) or kernel.ndim != 2:\n",
    "        raise TypeError(\"input_matrix and kernel must 2D np.ndarray.\")\n",
    "    \n",
    "    input_rows, input_cols = input_matrix.shape\n",
    "    kernel_rows, kernel_cols = kernel.shape\n",
    "\n",
    "    # Ensure matrix and kernel shapes are compatible\n",
    "    if input_rows <= kernel_rows or input_cols <= kernel_cols:\n",
    "        raise ValueError(\"Input matrix dimensions must be greater or equal to kernel dimensions.\")\n",
    "    \n",
    "    output_rows = (input_rows - kernel_rows) // stride + 1\n",
    "    output_cols = (input_cols - kernel_cols) // stride + 1\n",
    "    \n",
    "    # Create an empty output matrix with zeros\n",
    "    output = np.zeros((output_rows, output_cols))\n",
    "    \n",
    "    # Slide the kernel over the input matrix and compute the cross-correlation\n",
    "    for i in range(output_rows):\n",
    "        for j in range(output_cols):\n",
    "            sum_val = 0\n",
    "            for x in range(kernel_rows):\n",
    "                for y in range(kernel_cols):\n",
    "                    # sum_val += input_matrix[i*stride + x][j*stride + y] * kernel[x][y]\n",
    "                    matrix = input_matrix[i*stride + x][j*stride + y]\n",
    "                    sum_val += matrix * kernel[x][y]\n",
    "            output[i][j] = sum_val\n",
    "            \n",
    "            \n",
    "    # for i in range(0, output_rows):\n",
    "    #     for j in range(0, output_cols):\n",
    "    #         output_matrix[i, j] = np.sum(input_matrix[i*stride:i*stride+kernel_rows, j*stride:j*stride+kernel_cols] * kernel)\n",
    "            \n",
    "    \n",
    "    # return np.array(output)\n",
    "    return output\n",
    "\n",
    "# Test the function\n",
    "input_mat = np.array([\n",
    "    [1, 2, 3, 4],\n",
    "    [5, 6, 7, 8],\n",
    "    [9, 10, 11, 12],\n",
    "    [13, 14, 15, 16]\n",
    "    # [17, 18, 19, 20]\n",
    "])\n",
    "kern = np.array([\n",
    "    [1, 0],\n",
    "    [0, -1]\n",
    "    # [1, 1]\n",
    "])\n",
    "result = convolution2d(input_mat, kern, stride=1)\n",
    "result\n",
    "\n",
    "# Test the function\n",
    "# result_simple = convolution2d(input_mat, kern, stride=2)\n",
    "# result_simple\n"
   ]
  },
  {
   "cell_type": "code",
   "execution_count": null,
   "metadata": {},
   "outputs": [],
   "source": [
    "Let's break down how the convolution2d function works:\n",
    "\n",
    "We start by determining the dimensions of both the input matrix and the kernel.\n",
    "The dimensions of the output matrix are computed based on the size of the input matrix, the size of the kernel, and the stride.\n",
    "We initialize an output matrix filled with zeros of the computed dimensions.\n",
    "We slide the kernel over the input matrix, using the specified stride. For each position of the kernel, we calculate the element-wise product between the sub-matrix of the input (covered by the kernel) and the kernel itself. The sum of these products gives the value at the corresponding position in the output matrix.\n",
    "Once we've iterated over the entire input matrix, we return the populated output matrix."
   ]
  },
  {
   "cell_type": "code",
   "execution_count": null,
   "metadata": {},
   "outputs": [],
   "source": [
    "import numpy as np\n",
    "\n",
    "def convolution2d(input_matrix: np.ndarray, kernel: np.ndarray, stride: int = 1) -> np.ndarray:\n",
    "    if stride <= 0 or not isinstance(stride, int):\n",
    "        raise ValueError(\"Stride must be a positive integer.\")\n",
    "\n",
    "    if not isinstance(input_matrix, np.ndarray) or input_matrix.ndim != 2 or not isinstance(kernel, np.ndarray) or kernel.ndim != 2:\n",
    "        raise TypeError(\"input_matrix and kernel must 2D np.ndarray.\")\n",
    "    \n",
    "    # Get the dimensions of the input matrix and kernel\n",
    "    input_rows = len(input_matrix)\n",
    "    input_cols = len(input_matrix[0])\n",
    "    kernel_rows = len(kernel)\n",
    "    kernel_cols = len(kernel[0])\n",
    "    \n",
    "    # input_rows, input_cols = input_matrix.shape\n",
    "    # kernel_rows, kernel_cols = kernel.shape\n",
    "    \n",
    "    # Compute the dimensions of the output matrix\n",
    "    output_rows = (input_rows - kernel_rows) // stride + 1\n",
    "    output_cols = (input_cols - kernel_cols) // stride + 1\n",
    "    \n",
    "    # Create an empty output matrix with zeros\n",
    "    output_matrix = np.zeros((output_rows, output_cols))\n",
    "        \n",
    "    # Slide the kernel over the input matrix and compute the cross-correlation\n",
    "    for i in range(output_rows):\n",
    "        for j in range(output_cols):\n",
    "            sum_val = 0\n",
    "            for x in range(kernel_rows):\n",
    "                for y in range(kernel_cols):\n",
    "                    # Print the current element of input_matrix and kernel being multiplied\n",
    "                    print(f\"input_matrix[{i*stride + x}][{j*stride + y}] ({input_matrix[i*stride + x][j*stride + y]}) * kernel[{x}][{y}] ({kernel[x][y]})\")\n",
    "                    \n",
    "                    sum_val += input_matrix[i*stride + x][j*stride + y] * kernel[x][y]\n",
    "            \n",
    "            # Print the calculated sum for the current position in the output matrix\n",
    "            print(f\"\\nSum for output_matrix[{i}][{j}] = {sum_val}\\n{'='*30}\\n\")\n",
    "            output_matrix[i][j] = sum_val\n",
    "    \n",
    "    return np.array(output_matrix)\n",
    "\n",
    "# Test the function\n",
    "input_mat = np.array([\n",
    "    [1, 2, 3, 4],\n",
    "    [5, 6, 7, 8],\n",
    "    [9, 10, 11, 12],\n",
    "    [13, 14, 15, 16]\n",
    "])\n",
    "kern = np.array([\n",
    "    [1, 0],\n",
    "    [0, -1]\n",
    "])\n",
    "result = convolution2d(input_mat, kern, stride=2)\n",
    "print(result)\n"
   ]
  },
  {
   "cell_type": "code",
   "execution_count": null,
   "metadata": {},
   "outputs": [],
   "source": []
  }
 ],
 "metadata": {
  "kernelspec": {
   "display_name": "base",
   "language": "python",
   "name": "python3"
  },
  "language_info": {
   "codemirror_mode": {
    "name": "ipython",
    "version": 3
   },
   "file_extension": ".py",
   "mimetype": "text/x-python",
   "name": "python",
   "nbconvert_exporter": "python",
   "pygments_lexer": "ipython3",
   "version": "3.10.9"
  },
  "orig_nbformat": 4
 },
 "nbformat": 4,
 "nbformat_minor": 2
}
