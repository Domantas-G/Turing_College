{
 "cells": [
  {
   "cell_type": "markdown",
   "metadata": {},
   "source": [
    "# Examples"
   ]
  },
  {
   "cell_type": "code",
   "execution_count": 1,
   "metadata": {},
   "outputs": [
    {
     "name": "stdout",
     "output_type": "stream",
     "text": [
      "[[1, 9, 1, 10], [2, 4, 9, 0], [9, 4, 0, 6]]\n",
      "[[1, 2, 9], [9, 4, 4], [1, 9, 0], [10, 0, 6]]\n",
      "[[1, 4, 2], [2, 5, 15]]\n"
     ]
    }
   ],
   "source": [
    "from src.main import convolution2d, window1d, transpose2d, create_random_matrix\n",
    "import numpy as np\n",
    "# from src import main\n",
    "\n",
    "random_matrix = create_random_matrix(3, 4)\n",
    "\n",
    "print(random_matrix)\n",
    "\n",
    "input_matrix = [\n",
    "    [1, 2],\n",
    "    [4, 5],\n",
    "    [2, 15]\n",
    "  ]\n",
    "\n",
    "print(transpose2d(input_matrix=random_matrix))\n",
    "print(transpose2d(input_matrix=input_matrix))\n",
    "\n"
   ]
  },
  {
   "cell_type": "code",
   "execution_count": 2,
   "metadata": {},
   "outputs": [
    {
     "data": {
      "text/plain": [
       "[[1, 3], [3, 5], [5, 7], [7, 9]]"
      ]
     },
     "execution_count": 2,
     "metadata": {},
     "output_type": "execute_result"
    }
   ],
   "source": [
    "input_array = [1, 2, 3, 4, 5, 6, 7, 8, 9, 10]\n",
    "# input_array = np.array([1, 2, 3, 4, 5, 6, 7, 8, 9, 10])\n",
    "\n",
    "windowed = window1d(input_array=input_array, size=2, shift=2, stride=2)\n",
    "windowed\n",
    "\n"
   ]
  },
  {
   "cell_type": "code",
   "execution_count": 3,
   "metadata": {},
   "outputs": [
    {
     "data": {
      "text/plain": [
       "[[0, 2], [2, 4], [4, 6], [6, 8]]"
      ]
     },
     "execution_count": 3,
     "metadata": {},
     "output_type": "execute_result"
    }
   ],
   "source": [
    "windowed = window1d(list(range(10)), size=2, shift=2, stride=2)\n",
    "# windowed = window1d(range(10), size=2, shift=2, stride=2)\n",
    "windowed"
   ]
  },
  {
   "cell_type": "code",
   "execution_count": 4,
   "metadata": {},
   "outputs": [
    {
     "data": {
      "text/plain": [
       "array([[ 7., 11.],\n",
       "       [23., 27.]])"
      ]
     },
     "execution_count": 4,
     "metadata": {},
     "output_type": "execute_result"
    }
   ],
   "source": [
    "input_matrix = np.array([\n",
    "    [1, 2, 3, 4],\n",
    "    [5, 6, 7, 8],\n",
    "    [9, 10, 11, 12],\n",
    "    [13, 14, 15, 16]\n",
    "])\n",
    "kernel = np.array([\n",
    "    [1, 0],\n",
    "    [0, 1]\n",
    "])\n",
    "convolved = convolution2d(input_matrix=input_matrix, kernel=kernel, stride=2)\n",
    "convolved"
   ]
  },
  {
   "cell_type": "code",
   "execution_count": 5,
   "metadata": {},
   "outputs": [
    {
     "data": {
      "text/plain": [
       "array([[ 6., 10.],\n",
       "       [22., 26.]])"
      ]
     },
     "execution_count": 5,
     "metadata": {},
     "output_type": "execute_result"
    }
   ],
   "source": [
    "test_input_matrix = np.array([[1, 2, 3, 4], [5, 6, 7, 8], [9, 10, 11, 12], [13, 14, 15, 16]])\n",
    "test_kernel = np.array([[1, 0], [1, 0]])\n",
    "test_stride = 2\n",
    "convolved_output = convolution2d(test_input_matrix, test_kernel, test_stride)\n",
    "convolved_output\n"
   ]
  },
  {
   "cell_type": "code",
   "execution_count": null,
   "metadata": {},
   "outputs": [],
   "source": []
  },
  {
   "cell_type": "markdown",
   "metadata": {},
   "source": [
    "# Matrix Transpose"
   ]
  },
  {
   "cell_type": "code",
   "execution_count": 7,
   "metadata": {},
   "outputs": [
    {
     "data": {
      "text/plain": [
       "[[1, 4, 2], [2, 5, 15]]"
      ]
     },
     "execution_count": 7,
     "metadata": {},
     "output_type": "execute_result"
    }
   ],
   "source": [
    "def create_empty_matrix(shape = (4, 4)):\n",
    "  rows = shape[0]\n",
    "  cols = shape[1]\n",
    "  matrix = []\n",
    "  for i in range(rows):\n",
    "    matrix.append([0 for i in range(cols)])\n",
    "  return matrix\n",
    "\n",
    "def transpose_without_numpy(matrix):\n",
    "  '''it returns transpose of a matrix without any use of numpy'''\n",
    "  #get shape of matrix\n",
    "  rows = len(matrix)\n",
    "  cols = len(matrix[0])\n",
    "  \n",
    "  #create empty matrix with shape = (cols, rows)\n",
    "  transpose = []\n",
    "  for _ in range(cols):\n",
    "    transpose.append([0 for _ in range(rows)])\n",
    "  \n",
    "  # use basic formula for transpose which is B_i_j = A_i_j\n",
    "  for n in range(len(matrix[0])):\n",
    "    for n2 in range(len(matrix)):\n",
    "      transpose[n][n2] = matrix[n2][n]\n",
    "  \n",
    "  return transpose\n",
    "\n",
    "input_matrix = [\n",
    "    [1, 2],\n",
    "    [4, 5],\n",
    "    [2, 15]\n",
    "  ]\n",
    "\n",
    "# input_matrix = [\n",
    "#     [1.0, 2.0, 3.0],\n",
    "#     [4.0, 5.0, 6.0],\n",
    "#     [7.0, 8.0, 9.0]\n",
    "# ]\n",
    "\n",
    "# Transpose the matrix and display the result\n",
    "transposed_matrix = transpose_without_numpy(input_matrix)\n",
    "transposed_matrix"
   ]
  },
  {
   "cell_type": "code",
   "execution_count": 11,
   "metadata": {},
   "outputs": [
    {
     "data": {
      "text/plain": [
       "[[1, 4, 2], [2, 5, 15]]"
      ]
     },
     "execution_count": 11,
     "metadata": {},
     "output_type": "execute_result"
    }
   ],
   "source": [
    "from typing import List\n",
    "\n",
    "def transpose2d(input_matrix: List[List[float]]) -> List[List[float]]:\n",
    "    # Transpose the matrix\n",
    "    return [[row[i] for row in input_matrix] for i in range(len(input_matrix[0]))]\n",
    "  \n",
    "# Example matrix\n",
    "# input_matrix = [\n",
    "#     [1.0, 2.0, 3.0],\n",
    "#     [4.0, 5.0, 6.0],\n",
    "#     [7.0, 8.0, 9.0]\n",
    "# ]\n",
    "\n",
    "# input_matrix = [\n",
    "#     [1, 2, 3],\n",
    "#     [4, 5, 6]\n",
    "#   ]\n",
    "\n",
    "input_matrix = [\n",
    "    [1, 2],\n",
    "    [4, 5],\n",
    "    [2, 15]\n",
    "  ]\n",
    "\n",
    "# Transpose the matrix and display the result\n",
    "transposed_matrix = transpose2d(input_matrix)\n",
    "transposed_matrix\n"
   ]
  },
  {
   "cell_type": "code",
   "execution_count": 1,
   "metadata": {},
   "outputs": [
    {
     "name": "stdout",
     "output_type": "stream",
     "text": [
      "[1, 2, 3]\n",
      "2\n",
      "3\n",
      "[1, 4]\n",
      "[2, 5]\n",
      "[3, 6]\n"
     ]
    }
   ],
   "source": [
    "# Outer List Comprehension, loop iterates over each column index in the original matrix. If the original matrix has 3 columns, it will loop 3 times. \n",
    "# Each iteration produces one row for the transposed matrix.\n",
    "input_matrix = [\n",
    "    [1, 2, 3],\n",
    "    [4, 5, 6]\n",
    "  ]\n",
    "\n",
    "print(input_matrix[0])\n",
    "print(len(input_matrix))\n",
    "print(len(input_matrix[0]))\n",
    "\n",
    "# for i in range(len(input_matrix[0])):\n",
    "  # print(input_matrix[i])\n",
    "\n",
    "# Inner List Comprehension: For every column index i from the outer loop, this loop iterates over each row of the original matrix and extracts the i-th element (column). This essentially takes all elements from the same column of the original matrix and puts them into a new row for the transposed matrix.\n",
    "# print([row[i] for row in input_matrix])\n",
    "for i in range(len(input_matrix[0])):\n",
    "  print([row[i] for row in input_matrix])"
   ]
  },
  {
   "cell_type": "code",
   "execution_count": 31,
   "metadata": {},
   "outputs": [
    {
     "data": {
      "text/plain": [
       "[[1.0, 4.0, 7.0], [2.0, 5.0, 8.0], [3.0, 6.0, 9.0]]"
      ]
     },
     "execution_count": 31,
     "metadata": {},
     "output_type": "execute_result"
    }
   ],
   "source": [
    "from typing import List\n",
    "\n",
    "def transpose2d_with_args(input_matrix: List[float]) -> List[List[float]]:\n",
    "    return [list(row) for row in zip(*input_matrix)]\n",
    "    # return [row for row in zip(*input_matrix)]\n",
    "\n",
    "# Example usage\n",
    "input_matrix = [\n",
    "    [1.0, 2.0, 3.0],\n",
    "    [4.0, 5.0, 6.0],\n",
    "    [7.0, 8.0, 9.0]\n",
    "]\n",
    "\n",
    "transposed_matrix_args = transpose2d_with_args(input_matrix)\n",
    "transposed_matrix_args\n"
   ]
  },
  {
   "cell_type": "code",
   "execution_count": 25,
   "metadata": {},
   "outputs": [
    {
     "data": {
      "text/plain": [
       "[[4, 2, 4, 2], [10, 3, 9, 2], [0, 2, 2, 0]]"
      ]
     },
     "execution_count": 25,
     "metadata": {},
     "output_type": "execute_result"
    }
   ],
   "source": [
    "import random\n",
    "\n",
    "def create_random_matrix(rows: int, columns: int) -> List[List[float]]:\n",
    "    \"\"\"Create a matrix filled with random numbers between 0 to 10 with a defined shape.\"\"\"\n",
    "    return [[random.randint(0, 10) for column in range(columns)] \n",
    "              for row in range(rows)]\n",
    "\n",
    "# Example usage: Create a 3x4 matrix filled with random numbers between 0 to 10\n",
    "random_matrix = create_random_matrix(3, 4)\n",
    "random_matrix\n"
   ]
  },
  {
   "cell_type": "code",
   "execution_count": 33,
   "metadata": {},
   "outputs": [
    {
     "data": {
      "text/plain": [
       "[[2, 6, 3], [6, 0, 3], [6, 8, 9], [5, 5, 9]]"
      ]
     },
     "execution_count": 33,
     "metadata": {},
     "output_type": "execute_result"
    }
   ],
   "source": [
    "def transpose2d(input_matrix: List[List[float]]) -> List[List[float]]:\n",
    "    \"\"\"\n",
    "    Transpose a 2D matrix using Python standard library.\n",
    "\n",
    "    This function takes a 2D list (matrix) as input and returns its transpose.\n",
    "    The transpose of a matrix is obtained by swapping rows with columns.\n",
    "\n",
    "    Args:\n",
    "    - input_matrix (List[List[float]]): The input 2D list (matrix) to be transposed.\n",
    "\n",
    "    Returns:\n",
    "    - List[List[float]]: The transposed matrix.\n",
    "\n",
    "    Example:\n",
    "    >>> transpose2d_simple([[1, 2], [3, 4], [5, 6]])\n",
    "    [[1, 3, 5], [2, 4, 6]]\n",
    "    \"\"\"\n",
    "    rows = len(input_matrix)\n",
    "    columns = len(input_matrix[0])\n",
    "\n",
    "    # Instantiate an empty matrix\n",
    "    transpose = []\n",
    "    for _ in range(columns):\n",
    "        transpose.append([0] * rows)\n",
    "\n",
    "    # Fill empty matrix with transposed elements using nested loops\n",
    "    try:\n",
    "        for row in range(rows):\n",
    "            for col in range(columns):\n",
    "                transpose[col][row] = input_matrix[row][col]\n",
    "        return transpose\n",
    "    except Exception as e:\n",
    "        print(\"Error in transposition operation:\", str(e))\n",
    "        return None\n",
    "      \n",
    "# random_matrix = create_random_matrix(3, 4)\n",
    "random_matrix = [[2, 6, 6, 5], \n",
    "                 [6, 0, 8, 5], \n",
    "                 [3, 3, 9, 9]]\n",
    "\n",
    "transposed_matrix = transpose2d(random_matrix)\n",
    "transposed_matrix"
   ]
  },
  {
   "cell_type": "code",
   "execution_count": 12,
   "metadata": {},
   "outputs": [
    {
     "data": {
      "text/plain": [
       "[(1, 4, 7), (2, 5, 8)]"
      ]
     },
     "execution_count": 12,
     "metadata": {},
     "output_type": "execute_result"
    }
   ],
   "source": [
    "# input_matrix = [\n",
    "#     [1, 2, 3], \n",
    "#     [4, 5, 6], \n",
    "#     [7, 8, 9]\n",
    "# ]\n",
    "\n",
    "input_matrix = [\n",
    "    [1, 2], \n",
    "    [4, 5], \n",
    "    [7, 8]\n",
    "]\n",
    "\n",
    "list(zip(*input_matrix))\n",
    "\n",
    "# zip(*input_matrix) # <zip at 0x7fed20f82fc0>\n",
    "# map(list, zip(*input_matrix)) # <map at 0x7fed003a0bb0>\n",
    "# list(map(list, zip(*input_matrix)))"
   ]
  },
  {
   "cell_type": "code",
   "execution_count": null,
   "metadata": {},
   "outputs": [],
   "source": [
    "The input_matrix should be a 2D list of floats.\n",
    "The function uses the zip(*input_matrix) expression to perform the transpose operation.\n",
    "The rows of the input_matrix become the columns of the transposed matrix, and vice versa.\n",
    "The resulting transposed matrix has dimensions (number of columns, number of rows) compared to the input matrix.\n",
    "The function returns the transposed matrix as a 2D list of floats.\n"
   ]
  },
  {
   "cell_type": "markdown",
   "metadata": {},
   "source": [
    "transpose function that works on matrices (2d tensors) and has this signature: transpose2d(input_matrix: list[list[float]]) -> list, where input_matrix is a list of lists of real numbers.\n",
    "\n"
   ]
  },
  {
   "cell_type": "code",
   "execution_count": 15,
   "metadata": {},
   "outputs": [
    {
     "data": {
      "text/plain": [
       "(array([1, 2, 3, 4, 5]),\n",
       " array([[0., 0.],\n",
       "        [0., 0.]]),\n",
       " array([[1., 1., 1.],\n",
       "        [1., 1., 1.],\n",
       "        [1., 1., 1.]]),\n",
       " array([0, 1, 2, 3, 4, 5, 6, 7, 8, 9]),\n",
       " array([0.  , 0.25, 0.5 , 0.75, 1.  ]),\n",
       " array([ 4, 10, 18]),\n",
       " 32,\n",
       " array([0.0000000e+00, 1.0000000e+00, 1.2246468e-16]),\n",
       " array([0.96380511, 0.96672175, 0.38667587, 0.96408699, 0.83195417]),\n",
       " array([1, 2, 7, 5, 3]))"
      ]
     },
     "execution_count": 15,
     "metadata": {},
     "output_type": "execute_result"
    }
   ],
   "source": [
    "import numpy as np\n",
    "# Showcase of some important NumPy functions\n",
    "\n",
    "# 1. Creating Arrays:\n",
    "arr_from_list = np.array([1, 2, 3, 4, 5])\n",
    "zeros_arr = np.zeros((2, 2))\n",
    "ones_arr = np.ones((3, 3))\n",
    "sequence_arr = np.arange(10)\n",
    "linspace_arr = np.linspace(0, 1, 5)\n",
    "\n",
    "# 2. Array Operations:\n",
    "a = np.array([1, 2, 3])\n",
    "b = np.array([4, 5, 6])\n",
    "elementwise_product = a * b\n",
    "matrix_product = a @ b\n",
    "\n",
    "# 3. Mathematical Functions:\n",
    "sin_values = np.sin(np.array([0, np.pi/2, np.pi]))\n",
    "\n",
    "# 4. Random Module:\n",
    "random_numbers = np.random.rand(5)\n",
    "random_integers = np.random.randint(1, 10, size=5)\n",
    "\n",
    "# Display the results\n",
    "arr_from_list, zeros_arr, ones_arr, sequence_arr, linspace_arr, elementwise_product, matrix_product, sin_values, random_numbers, random_integers\n",
    "\n"
   ]
  },
  {
   "cell_type": "code",
   "execution_count": 67,
   "metadata": {},
   "outputs": [
    {
     "data": {
      "text/plain": [
       "[[1, 3, 5], [2, 4, 6]]"
      ]
     },
     "execution_count": 67,
     "metadata": {},
     "output_type": "execute_result"
    }
   ],
   "source": [
    "from typing import TypeVar, List\n",
    "import numpy as np\n",
    "\n",
    "# Create a custom type variable for List[List[float]]\n",
    "Matrix = TypeVar('Matrix', bound=List[List[float]])\n",
    "\n",
    "def transpose2d(input_matrix: Matrix) -> Matrix:\n",
    "    \"\"\"\n",
    "    Transpose a 2D matrix using Python standard library, by swapping rows with columns.\n",
    "\n",
    "    Parameters:\n",
    "    - input_matrix (Matrix): The input is a 2D list of floats.\n",
    "\n",
    "    Returns:\n",
    "    - Matrix: The transposed matrix as a 2D list of floats.\n",
    "\n",
    "    Raises:\n",
    "    - Exception: If an error in matrix transposition occurs.\n",
    "\n",
    "    Example use:\n",
    "\n",
    "    transpose2d([[1, 2], [3, 4], [5, 6]])\n",
    "    [[1, 3, 5], [2, 4, 6]]\n",
    "\n",
    "    \"\"\"\n",
    "    rows = len(input_matrix)\n",
    "    columns = len(input_matrix[0])\n",
    "\n",
    "    transpose = []\n",
    "    for _ in range(columns):\n",
    "        transpose.append([0] * rows)\n",
    "\n",
    "    # Fill empty matrix with transposed elements using nested loops\n",
    "    try:\n",
    "        for row in range(rows):\n",
    "            for col in range(columns):\n",
    "                transpose[col][row] = input_matrix[row][col]\n",
    "        return transpose\n",
    "    except Exception as e:\n",
    "        print(\"Error in transposition operation:\", str(e))\n",
    "        return None\n",
    "\n",
    "# Test\n",
    "# print(transpose2d(np.array([[1, 2], [3, 4], [5, 6]])))\n",
    "\n",
    "# random_matrix = [[2, 6, 6, 5], \n",
    "#                  [6, 0, 8, 5], \n",
    "#                  [3, 3, 9, 9]]\n",
    "\n",
    "random_matrix = ([[1, 2], [3, 4], [5, 6]])\n",
    "\n",
    "transposed_matrix = transpose2d(random_matrix)\n",
    "transposed_matrix"
   ]
  },
  {
   "cell_type": "code",
   "execution_count": null,
   "metadata": {},
   "outputs": [],
   "source": []
  },
  {
   "cell_type": "code",
   "execution_count": null,
   "metadata": {},
   "outputs": [],
   "source": []
  },
  {
   "cell_type": "markdown",
   "metadata": {},
   "source": [
    "# Windowing"
   ]
  },
  {
   "cell_type": "code",
   "execution_count": 4,
   "metadata": {},
   "outputs": [],
   "source": [
    "import numpy as np\n",
    "from typing import Union, List"
   ]
  },
  {
   "cell_type": "code",
   "execution_count": 5,
   "metadata": {},
   "outputs": [
    {
     "data": {
      "text/plain": [
       "[array([1, 3, 5]), array([3, 5, 7]), array([5, 7, 9])]"
      ]
     },
     "execution_count": 5,
     "metadata": {},
     "output_type": "execute_result"
    }
   ],
   "source": [
    "import numpy as np\n",
    "from typing import Union\n",
    "\n",
    "def window1d(input_array: Union[List[float], np.ndarray], size: int, shift: int = 1, stride: int = 1) -> Union[List[List[float]], List[np.ndarray]]:\n",
    "    \"\"\"Generate windowed data from a 1D array or list.\"\"\"\n",
    "    # Initialize an empty list to hold the windowed data\n",
    "    windows = []\n",
    "    \n",
    "    # Define the start and end indices for windowing\n",
    "    start_idx = 0\n",
    "    end_idx = size * stride\n",
    "    \n",
    "    # Loop until the end index goes out of bounds\n",
    "    while end_idx <= len(input_array):\n",
    "        # Extract the window using slicing and stride\n",
    "        window = input_array[start_idx:end_idx:stride]\n",
    "        \n",
    "        # If input is a numpy array, keep the type consistent\n",
    "        if isinstance(input_array, np.ndarray):\n",
    "            windows.append(window)\n",
    "        else:\n",
    "            windows.append(list(window))\n",
    "        \n",
    "        # Update the start and end indices based on the shift\n",
    "        start_idx += shift\n",
    "        end_idx += shift\n",
    "        \n",
    "    # first handle all as list, and do conversion and type check at the end\n",
    "    # tolist()\n",
    "    \n",
    "\n",
    "    return windows\n",
    "\n",
    "# Test the function\n",
    "# test_array = [1, 2, 3, 4, 5, 6, 7, 8, 9, 10]\n",
    "test_array = np.array([1, 2, 3, 4, 5, 6, 7, 8, 9, 10])\n",
    "type(test_array)\n",
    "\n",
    "windowed_data = window1d(test_array, size=3, shift=2, stride=2)\n",
    "windowed_data\n"
   ]
  },
  {
   "cell_type": "code",
   "execution_count": 8,
   "metadata": {},
   "outputs": [
    {
     "data": {
      "text/plain": [
       "[array([1, 3, 5]), array([3, 5, 7]), array([5, 7, 9])]"
      ]
     },
     "execution_count": 8,
     "metadata": {},
     "output_type": "execute_result"
    }
   ],
   "source": [
    "# Trial\n",
    "def window1d(*, input_array: Union[List[float], np.ndarray], size: int, shift: int = 1, stride: int = 1) -> Union[List[List[float]], List[np.ndarray]]:\n",
    "    \"\"\"Generate windowed data from a 1D array or list using a double loop.\n",
    "    Parameters:\n",
    "    - input_array: The input 1D array or list.\n",
    "    - size: The size of each window, number of observations per window\n",
    "    - shift: The step size between different windows.\n",
    "    - stride: The step size within each window.\n",
    "    \n",
    "    Returns:\n",
    "    - A list of windowed data.\n",
    "    \"\"\"\n",
    "    # Initialize an empty list to hold the windowed data\n",
    "    windows = []\n",
    "    \n",
    "    # Starting index for the outer loop\n",
    "    i = 0\n",
    "    \n",
    "    # Continue until the end of the array is reached\n",
    "    while i + size * stride <= len(input_array):\n",
    "        # Initialize an empty list to hold the current window\n",
    "        window = []\n",
    "        \n",
    "        # Starting Stride index for the inner loop\n",
    "        j = 0\n",
    "        \n",
    "        # Extract data for the current window considering the stride\n",
    "        while len(window) < size and (i + j) < len(input_array):\n",
    "            window.append(input_array[i + j])\n",
    "            j += stride\n",
    "        \n",
    "        # If the window size is as expected, append it to the windows list\n",
    "        if len(window) == size:\n",
    "            if isinstance(input_array, np.ndarray):\n",
    "                windows.append(np.array(window))\n",
    "            else:\n",
    "                windows.append(window)\n",
    "        \n",
    "        # Shift to the next window using the shift provided\n",
    "        i += shift\n",
    "        \n",
    "    return windows\n",
    "\n",
    "# test_array = [1, 2, 3, 4, 5, 6, 7, 8, 9, 10]\n",
    "new_array = np.array([1, 2, 3, 4, 5, 6, 7, 8, 9, 10])\n",
    "type(new_array)\n",
    "\n",
    "windowed_data = window1d(input_array=new_array, size=3, shift=2, stride=2)\n",
    "windowed_data\n"
   ]
  },
  {
   "cell_type": "code",
   "execution_count": 19,
   "metadata": {},
   "outputs": [
    {
     "name": "stdout",
     "output_type": "stream",
     "text": [
      "10\n",
      "3\n",
      "[1 3 5 7 9]\n"
     ]
    }
   ],
   "source": [
    "input_array = np.array([1, 2, 3, 4, 5, 6, 7, 8, 9, 10])\n",
    "size = 3\n",
    "stride = 2\n",
    "shift = 2\n",
    "\n",
    "num_windows = (len(input_array) - size * stride) // shift + 1\n",
    "#                           10 - 3 * 2 // 2 + 1\n",
    "print(len(input_array))\n",
    "print(num_windows)\n",
    "\n",
    "print(input_array[0:10:2])"
   ]
  },
  {
   "cell_type": "code",
   "execution_count": 21,
   "metadata": {},
   "outputs": [
    {
     "data": {
      "text/plain": [
       "[array([1, 3, 5]), array([3, 5, 7]), array([5, 7, 9])]"
      ]
     },
     "execution_count": 21,
     "metadata": {},
     "output_type": "execute_result"
    }
   ],
   "source": [
    "# FINAL\n",
    "def window1d(input_array: Union[List[float], np.ndarray], size: int, shift: int = 1, stride: int = 1) -> Union[List[List[float]], List[np.ndarray]]:\n",
    "    \"\"\"Generate windowed data from a 1D array or list using slicing.\n",
    "    \n",
    "    Parameters:\n",
    "    - input_array: 1D np.array or list.\n",
    "    - size: The size of returned window, number of objects per window.\n",
    "    - shift: The step size between different windows.\n",
    "    - stride: The step size within each window.\n",
    "    \n",
    "    Returns:\n",
    "    - A list of lists or arrays of windowed data, depending on input type.\n",
    "    \n",
    "    Example use:\n",
    "    \n",
    "    \"\"\"\n",
    "    \n",
    "    # Ensure inputs size, shift, and stride are positive\n",
    "    if size <= 0 or shift <= 0 or stride <= 0:\n",
    "        raise ValueError(\"One of the parameters 'size', 'shift', 'stride' is not positive.\")\n",
    "    \n",
    "    windows = []\n",
    "    \n",
    "    # Get the number of times to loop through, in int\n",
    "    num_loops = (len(input_array) - size * stride) // shift + 1\n",
    "    \n",
    "    # Loop through to extract each window\n",
    "    # for i in range(0, len(input_array) - size + 1, shift):\n",
    "    for i in range(num_loops):\n",
    "        \n",
    "        # Get and increment start and end indices\n",
    "        start = i * shift # Always starts at 0\n",
    "        end = start + size * stride\n",
    "        \n",
    "        # Use slicing and stride to extract array\n",
    "        window = input_array[start:end:stride]\n",
    "        \n",
    "        # Keeping type consistent with checks\n",
    "        # if isinstance(input_array, np.ndarray):\n",
    "        #         windows.append(np.array(window))\n",
    "        # else:\n",
    "        #     windows.append(list(window))\n",
    "        \n",
    "        # Slice generally retains the object Type, and these are append-able, hence no type strict type check is necessary\n",
    "        windows.append(window)\n",
    "        \n",
    "    return windows\n",
    "\n",
    "# Test the function\n",
    "# test_array_np = np.array([1, 2, 3, 4, 5, 6, 7, 8, 9, 10])\n",
    "# test_array = [1, 2, 3, 4, 5, 6, 7, 8, 9, 10]\n",
    "test_array = [16, 14,  9, 10,  5,  2,  6, 19, 16,  1, 12,  3,  5, 19,  3, 11, 10, 5,  1, 17]\n",
    "# test_array = np.random.randint(0, 20, 20)\n",
    "test_array\n",
    "windowed_data_slicing = window1d(test_array, size=3, shift=2, stride=2)\n",
    "windowed_data_slicing\n",
    "\n",
    "new_array = np.array([1, 2, 3, 4, 5, 6, 7, 8, 9, 10])\n",
    "type(new_array)\n",
    "\n",
    "windowed_data = window1d(input_array=new_array, size=3, shift=2, stride=2)\n",
    "windowed_data\n"
   ]
  },
  {
   "cell_type": "markdown",
   "metadata": {},
   "source": [
    "# Convolution and Cross correlation"
   ]
  },
  {
   "cell_type": "code",
   "execution_count": 62,
   "metadata": {},
   "outputs": [
    {
     "data": {
      "text/plain": [
       "array([[-5., -5., -5.],\n",
       "       [-5., -5., -5.],\n",
       "       [-5., -5., -5.]])"
      ]
     },
     "execution_count": 62,
     "metadata": {},
     "output_type": "execute_result"
    }
   ],
   "source": [
    "import numpy as np\n",
    "\n",
    "def convolution2d(input_matrix: np.ndarray, kernel: np.ndarray, stride: int = 1) -> np.ndarray:\n",
    "    \"\"\"\n",
    "    Compute the 2D cross-correlation between the input matrix and kernel, by sliding the kernel over the input matrix and computing the sum of element-wise products at each position.\n",
    "    The positions where the input_matrix and the kernel cannot fully overlap are excluded from the output.\n",
    "    \n",
    "    Parameters:\n",
    "    - input_matrix (np.ndarray): 2D numpy array input matrix.\n",
    "    - kernel (np.ndarray): 2D numpy array convolution kernel.\n",
    "    - stride (int, optional): Integer representing the stride of the convolution operation. Default is 1.\n",
    "    \n",
    "    Returns:\n",
    "    - np.ndarray: 2D numpy array representing the result of the cross-correlation operation.\n",
    "\n",
    "    Raises:\n",
    "    - ValueError: If stride is not a positive integer.\n",
    "    - TypeError: If input_matrix or kernel is not a 2D np.ndarray.\n",
    "    - ValueError: If kernel dimensions are bigger than input_matrix dimensions.\n",
    "    \n",
    "    Example use:\n",
    "        >>> input_matrix = np.array([[1, 2, 3], [4, 5, 6], [7, 8, 9]])\n",
    "        >>> kernel = np.array([[0, 1], [1, 0]])\n",
    "        >>> stride = 1\n",
    "        >>> result = convolution2d(input_matrix, kernel, stride)\n",
    "        >>> print(result)\n",
    "        [[13. 18.]\n",
    "        [24. 29.]]\n",
    "    \n",
    "    \"\"\"\n",
    "\n",
    "    # Ensure inputs size, shift, and stride are positive\n",
    "    if stride <= 0 or not isinstance(stride, int):\n",
    "        raise ValueError(\"Stride must be a positive integer.\")\n",
    "    \n",
    "    # Ensure inputs are 2D arrays\n",
    "    if not isinstance(input_matrix, np.ndarray) or input_matrix.ndim != 2 or not isinstance(kernel, np.ndarray) or kernel.ndim != 2:\n",
    "        raise TypeError(\"input_matrix and kernel must 2D np.ndarray.\")\n",
    "    \n",
    "    input_rows, input_cols = input_matrix.shape\n",
    "    kernel_rows, kernel_cols = kernel.shape\n",
    "\n",
    "    # Ensure matrix and kernel shapes are compatible\n",
    "    if input_rows <= kernel_rows or input_cols <= kernel_cols:\n",
    "        raise ValueError(\"Input matrix dimensions must be greater or equal to kernel dimensions.\")\n",
    "    \n",
    "    output_rows = (input_rows - kernel_rows) // stride + 1\n",
    "    output_cols = (input_cols - kernel_cols) // stride + 1\n",
    "    \n",
    "    # Create an empty output matrix with zeros\n",
    "    output = np.zeros((output_rows, output_cols))\n",
    "    \n",
    "    # Slide the kernel over the input matrix and compute the cross-correlation\n",
    "    for i in range(output_rows):\n",
    "        for j in range(output_cols):\n",
    "            sum_val = 0\n",
    "            for x in range(kernel_rows):\n",
    "                for y in range(kernel_cols):\n",
    "                    # sum_val += input_matrix[i*stride + x][j*stride + y] * kernel[x][y]\n",
    "                    matrix = input_matrix[i*stride + x][j*stride + y]\n",
    "                    sum_val += matrix * kernel[x][y]\n",
    "            output[i][j] = sum_val\n",
    "            \n",
    "            \n",
    "    # for i in range(0, output_rows):\n",
    "    #     for j in range(0, output_cols):\n",
    "    #         output_matrix[i, j] = np.sum(input_matrix[i*stride:i*stride+kernel_rows, j*stride:j*stride+kernel_cols] * kernel)\n",
    "            \n",
    "    \n",
    "    # return np.array(output)\n",
    "    return output\n",
    "\n",
    "# Test the function\n",
    "input_mat = np.array([\n",
    "    [1, 2, 3, 4],\n",
    "    [5, 6, 7, 8],\n",
    "    [9, 10, 11, 12],\n",
    "    [13, 14, 15, 16]\n",
    "    # [17, 18, 19, 20]\n",
    "])\n",
    "kern = np.array([\n",
    "    [1, 0],\n",
    "    [0, -1]\n",
    "    # [1, 1]\n",
    "])\n",
    "result = convolution2d(input_mat, kern, stride=1)\n",
    "result\n",
    "\n",
    "# Test the function\n",
    "# result_simple = convolution2d(input_mat, kern, stride=2)\n",
    "# result_simple\n"
   ]
  },
  {
   "cell_type": "code",
   "execution_count": null,
   "metadata": {},
   "outputs": [],
   "source": [
    "Let's break down how the convolution2d function works:\n",
    "\n",
    "We start by determining the dimensions of both the input matrix and the kernel.\n",
    "The dimensions of the output matrix are computed based on the size of the input matrix, the size of the kernel, and the stride.\n",
    "We initialize an output matrix filled with zeros of the computed dimensions.\n",
    "We slide the kernel over the input matrix, using the specified stride. For each position of the kernel, we calculate the element-wise product between the sub-matrix of the input (covered by the kernel) and the kernel itself. The sum of these products gives the value at the corresponding position in the output matrix.\n",
    "Once we've iterated over the entire input matrix, we return the populated output matrix."
   ]
  },
  {
   "cell_type": "code",
   "execution_count": 39,
   "metadata": {},
   "outputs": [
    {
     "name": "stdout",
     "output_type": "stream",
     "text": [
      "input_matrix[0][0] (1) * kernel[0][0] (1)\n",
      "input_matrix[0][1] (2) * kernel[0][1] (0)\n",
      "input_matrix[1][0] (5) * kernel[1][0] (0)\n",
      "input_matrix[1][1] (6) * kernel[1][1] (-1)\n",
      "\n",
      "Sum for output_matrix[0][0] = -5\n",
      "==============================\n",
      "\n",
      "input_matrix[0][2] (3) * kernel[0][0] (1)\n",
      "input_matrix[0][3] (4) * kernel[0][1] (0)\n",
      "input_matrix[1][2] (7) * kernel[1][0] (0)\n",
      "input_matrix[1][3] (8) * kernel[1][1] (-1)\n",
      "\n",
      "Sum for output_matrix[0][1] = -5\n",
      "==============================\n",
      "\n",
      "input_matrix[2][0] (9) * kernel[0][0] (1)\n",
      "input_matrix[2][1] (10) * kernel[0][1] (0)\n",
      "input_matrix[3][0] (13) * kernel[1][0] (0)\n",
      "input_matrix[3][1] (14) * kernel[1][1] (-1)\n",
      "\n",
      "Sum for output_matrix[1][0] = -5\n",
      "==============================\n",
      "\n",
      "input_matrix[2][2] (11) * kernel[0][0] (1)\n",
      "input_matrix[2][3] (12) * kernel[0][1] (0)\n",
      "input_matrix[3][2] (15) * kernel[1][0] (0)\n",
      "input_matrix[3][3] (16) * kernel[1][1] (-1)\n",
      "\n",
      "Sum for output_matrix[1][1] = -5\n",
      "==============================\n",
      "\n",
      "[[-5. -5.]\n",
      " [-5. -5.]]\n"
     ]
    }
   ],
   "source": [
    "import numpy as np\n",
    "\n",
    "def convolution2d(input_matrix: np.ndarray, kernel: np.ndarray, stride: int = 1) -> np.ndarray:\n",
    "    if stride <= 0 or not isinstance(stride, int):\n",
    "        raise ValueError(\"Stride must be a positive integer.\")\n",
    "\n",
    "    if not isinstance(input_matrix, np.ndarray) or input_matrix.ndim != 2 or not isinstance(kernel, np.ndarray) or kernel.ndim != 2:\n",
    "        raise TypeError(\"input_matrix and kernel must 2D np.ndarray.\")\n",
    "    \n",
    "    # Get the dimensions of the input matrix and kernel\n",
    "    input_rows = len(input_matrix)\n",
    "    input_cols = len(input_matrix[0])\n",
    "    kernel_rows = len(kernel)\n",
    "    kernel_cols = len(kernel[0])\n",
    "    \n",
    "    # input_rows, input_cols = input_matrix.shape\n",
    "    # kernel_rows, kernel_cols = kernel.shape\n",
    "    \n",
    "    # Compute the dimensions of the output matrix\n",
    "    output_rows = (input_rows - kernel_rows) // stride + 1\n",
    "    output_cols = (input_cols - kernel_cols) // stride + 1\n",
    "    \n",
    "    # Create an empty output matrix with zeros\n",
    "    output_matrix = np.zeros((output_rows, output_cols))\n",
    "        \n",
    "    # Slide the kernel over the input matrix and compute the cross-correlation\n",
    "    for i in range(output_rows):\n",
    "        for j in range(output_cols):\n",
    "            sum_val = 0\n",
    "            for x in range(kernel_rows):\n",
    "                for y in range(kernel_cols):\n",
    "                    # Print the current element of input_matrix and kernel being multiplied\n",
    "                    print(f\"input_matrix[{i*stride + x}][{j*stride + y}] ({input_matrix[i*stride + x][j*stride + y]}) * kernel[{x}][{y}] ({kernel[x][y]})\")\n",
    "                    \n",
    "                    sum_val += input_matrix[i*stride + x][j*stride + y] * kernel[x][y]\n",
    "            \n",
    "            # Print the calculated sum for the current position in the output matrix\n",
    "            print(f\"\\nSum for output_matrix[{i}][{j}] = {sum_val}\\n{'='*30}\\n\")\n",
    "            output_matrix[i][j] = sum_val\n",
    "    \n",
    "    return np.array(output_matrix)\n",
    "\n",
    "# Test the function\n",
    "input_mat = np.array([\n",
    "    [1, 2, 3, 4],\n",
    "    [5, 6, 7, 8],\n",
    "    [9, 10, 11, 12],\n",
    "    [13, 14, 15, 16]\n",
    "])\n",
    "kern = np.array([\n",
    "    [1, 0],\n",
    "    [0, -1]\n",
    "])\n",
    "result = convolution2d(input_mat, kern, stride=2)\n",
    "print(result)\n"
   ]
  },
  {
   "cell_type": "code",
   "execution_count": null,
   "metadata": {},
   "outputs": [],
   "source": []
  }
 ],
 "metadata": {
  "kernelspec": {
   "display_name": "base",
   "language": "python",
   "name": "python3"
  },
  "language_info": {
   "codemirror_mode": {
    "name": "ipython",
    "version": 3
   },
   "file_extension": ".py",
   "mimetype": "text/x-python",
   "name": "python",
   "nbconvert_exporter": "python",
   "pygments_lexer": "ipython3",
   "version": "3.10.9"
  },
  "orig_nbformat": 4
 },
 "nbformat": 4,
 "nbformat_minor": 2
}
